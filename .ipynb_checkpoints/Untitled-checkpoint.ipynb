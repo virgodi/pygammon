{
 "cells": [
  {
   "cell_type": "code",
   "execution_count": 1,
   "metadata": {
    "collapsed": true
   },
   "outputs": [],
   "source": [
    "%load_ext autoreload\n",
    "%autoreload 2"
   ]
  },
  {
   "cell_type": "code",
   "execution_count": 2,
   "metadata": {
    "collapsed": true
   },
   "outputs": [],
   "source": [
    "import elements"
   ]
  },
  {
   "cell_type": "code",
   "execution_count": 176,
   "metadata": {
    "collapsed": true
   },
   "outputs": [],
   "source": [
    "black = 'b'\n",
    "white='w'"
   ]
  },
  {
   "cell_type": "code",
   "execution_count": 85,
   "metadata": {
    "collapsed": false
   },
   "outputs": [],
   "source": [
    "s = {}\n",
    "s[22] = [black, 2]\n",
    "s[21] = [black, 2]\n",
    "s[19] = [black, 2]\n",
    "s[18] = [black, 3]\n",
    "s[8] = [black, 2]\n",
    "s[2] = [black, 2]\n",
    "s[12] = [white, 5]\n",
    "s[6] = [white, 3]\n",
    "s[2] = [black, 2]\n",
    "s[1] = [black, 2]\n",
    "s[5] = [white, 5]\n",
    "s[6] = [white, 2]\n",
    "s[23] = [white, 2]\n",
    "saved = elements.Board(s)"
   ]
  },
  {
   "cell_type": "code",
   "execution_count": 97,
   "metadata": {
    "collapsed": true
   },
   "outputs": [],
   "source": [
    "s = {}\n",
    "s[20] = [black, 2]\n",
    "s[19] = [black, 1]\n",
    "s[18] = [black, 2]\n",
    "s[13] = [black, 2]\n",
    "s[10] = [black, 2]\n",
    "s[8] = [black, 2]\n",
    "s[6] = [black, 2]\n",
    "s[5] = [white, 5]\n",
    "s[1] = [black, 2]\n",
    "s[12] = [white, 5]\n",
    "s[14] = [white, 4]\n",
    "s[23] = [white, 1]\n",
    "saved = elements.Board(s)"
   ]
  },
  {
   "cell_type": "code",
   "execution_count": 103,
   "metadata": {
    "collapsed": true
   },
   "outputs": [],
   "source": [
    "s = {}\n",
    "s[17] = [black, 2]\n",
    "s[22] = [black, 2]\n",
    "s[21] = [black, 2]\n",
    "s[20] = [black, 2]\n",
    "s[19] = [black, 2]\n",
    "s[18] = [black, 3]\n",
    "s[0] = [black, 2]\n",
    "s[2] = [white, 1]\n",
    "s[4] = [white, 2]\n",
    "s[5] = [white, 1]\n",
    "saved = elements.Board(s)\n",
    "saved.home[white] = 11"
   ]
  },
  {
   "cell_type": "code",
   "execution_count": 177,
   "metadata": {
    "collapsed": true
   },
   "outputs": [],
   "source": [
    "s = {}\n",
    "s[17] = [black, 2]\n",
    "s[22] = [black, 2]\n",
    "s[21] = [black, 2]\n",
    "s[20] = [black, 2]\n",
    "s[19] = [black, 2]\n",
    "s[18] = [black, 3]\n",
    "s[0] = [black, 2]\n",
    "s[2] = [white, 1]\n",
    "s[6] = [white, 2]\n",
    "s[5] = [white, 1]\n",
    "saved = elements.Board(s)\n",
    "saved.home[white] = 11"
   ]
  },
  {
   "cell_type": "code",
   "execution_count": 178,
   "metadata": {
    "collapsed": false
   },
   "outputs": [
    {
     "data": {
      "text/plain": [
       "\n",
       " 12 13 14 15 16 17 18 19 20 21 22 23\n",
       "======================================\n",
       "|               x | x  x  x  x  x    |\n",
       "|               x | x  x  x  x  x    |\n",
       "|                 | x                |\n",
       "|                 |                  |\n",
       "|                 |                  |\n",
       "======================================\n",
       "|o 0           PRISON             0 x|\n",
       "======================================\n",
       "|                 |                  |\n",
       "|                 |                  |\n",
       "|                 |                  |\n",
       "|               o |                x |\n",
       "|               o | o        o     x |\n",
       "======================================\n",
       " 11 10 9  8  7  6   5  4  3  2  1  0\n",
       "             EATEN  11  "
      ]
     },
     "execution_count": 178,
     "metadata": {},
     "output_type": "execute_result"
    }
   ],
   "source": [
    "saved"
   ]
  },
  {
   "cell_type": "code",
   "execution_count": 124,
   "metadata": {
    "collapsed": false
   },
   "outputs": [],
   "source": [
    "# t = elements.Turn(white, elements.Roll([6,4]))\n",
    "t = elements.Turn(white, elements.Roll([6,5]))"
   ]
  },
  {
   "cell_type": "code",
   "execution_count": 111,
   "metadata": {
    "collapsed": true
   },
   "outputs": [],
   "source": [
    "t.roll.use(5)"
   ]
  },
  {
   "cell_type": "code",
   "execution_count": 110,
   "metadata": {
    "collapsed": false
   },
   "outputs": [
    {
     "data": {
      "text/plain": [
       "{5: [[6, 1]]}"
      ]
     },
     "execution_count": 110,
     "metadata": {},
     "output_type": "execute_result"
    }
   ],
   "source": [
    "saved.possible_moves(t)"
   ]
  },
  {
   "cell_type": "code",
   "execution_count": 112,
   "metadata": {
    "collapsed": true
   },
   "outputs": [],
   "source": [
    "temp = saved.move(t.player, *[5,1])"
   ]
  },
  {
   "cell_type": "code",
   "execution_count": 113,
   "metadata": {
    "collapsed": false
   },
   "outputs": [
    {
     "data": {
      "text/plain": [
       "{6: []}"
      ]
     },
     "execution_count": 113,
     "metadata": {},
     "output_type": "execute_result"
    }
   ],
   "source": [
    "temp.possible_moves(t)"
   ]
  },
  {
   "cell_type": "code",
   "execution_count": 35,
   "metadata": {
    "collapsed": false
   },
   "outputs": [
    {
     "data": {
      "text/plain": [
       "{6: [[4, 'h']]}"
      ]
     },
     "execution_count": 35,
     "metadata": {},
     "output_type": "execute_result"
    }
   ],
   "source": [
    "saved.move(t.player, *[5,1]).possible_moves(t)"
   ]
  },
  {
   "cell_type": "code",
   "execution_count": 183,
   "metadata": {
    "collapsed": true
   },
   "outputs": [],
   "source": [
    "import ai_strategies\n",
    "class Weights():\n",
    "    def __init__(self, score, homed, alone, safe, jailed, inhouse):\n",
    "        self.score = score\n",
    "        self.homed = homed\n",
    "        self.alone = alone\n",
    "        self.safe = safe\n",
    "        self.jailed = jailed\n",
    "        self.inhouse = inhouse\n",
    "\n",
    "def score(weights, feature):\n",
    "    score = weights.score * feature[0]\n",
    "    score += weights.homed*feature[1]\n",
    "    score += weights.alone*feature[2]\n",
    "    score += weights.safe*feature[3]\n",
    "    score += weights.jailed*feature[4]\n",
    "    score += weights.inhouse*feature[5]\n",
    "\n",
    "aggressive = Weights(1, 1, -2, 0, 5, 2)\n",
    "careful = Weights(1, 1, -5, 0, 1, 3)\n",
    "\n",
    "def computer_interact(board, turn, strat):\n",
    "    scores = {}\n",
    "    col = turn.player\n",
    "    enemy = white if col == black else black\n",
    "    if len(turn.roll.touse) == 2:\n",
    "        for d, ms in board.possible_moves(turn).items():\n",
    "            for m in ms:\n",
    "                temp_turn = turn.copy()\n",
    "                temp_turn.roll.use(d)\n",
    "                temp_board = board.move(col, *m)\n",
    "                poss = temp_board.possible_moves(temp_turn)\n",
    "                if all(len(v)>0 for v in poss.values()):\n",
    "                    for dd, mms in poss.items():\n",
    "                        for mm in mms:\n",
    "                            temp_final = temp_board.move(col, *mm)\n",
    "                            scores[(tuple(m), tuple(mm))] = ai_strategies.score(strat, [board.state[col]-temp_final.state[col], temp_final.home[col], temp_final.alone[col], temp_final.safe[col], temp_final.prison[enemy], temp_final.inhouse[col]])\n",
    "                else:\n",
    "                    scores[tuple(m)] = ai_strategies.score(strat, [board.state[col]-temp_board.state[col], temp_board.home[col], temp_board.alone[col], temp_board.safe[col], temp_board.prison[enemy], temp_final.inhouse[col]]])\n",
    "    all_ = scores.items()\n",
    "    values = [x[1] for x in all_]\n",
    "    maxIndex = values.index(max(values))\n",
    "    return all_[maxIndex][0]"
   ]
  },
  {
   "cell_type": "code",
   "execution_count": 184,
   "metadata": {
    "collapsed": false
   },
   "outputs": [
    {
     "ename": "IndexError",
     "evalue": "list index out of range",
     "output_type": "error",
     "traceback": [
      "\u001b[0;31m---------------------------------------------------------------------------\u001b[0m",
      "\u001b[0;31mIndexError\u001b[0m                                Traceback (most recent call last)",
      "\u001b[0;32m<ipython-input-184-daa9e2e55eff>\u001b[0m in \u001b[0;36m<module>\u001b[0;34m()\u001b[0m\n\u001b[0;32m----> 1\u001b[0;31m \u001b[0mcomputer_interact\u001b[0m\u001b[0;34m(\u001b[0m\u001b[0msaved\u001b[0m\u001b[0;34m,\u001b[0m \u001b[0mt\u001b[0m\u001b[0;34m,\u001b[0m \u001b[0maggressive\u001b[0m\u001b[0;34m)\u001b[0m\u001b[0;34m\u001b[0m\u001b[0m\n\u001b[0m",
      "\u001b[0;32m<ipython-input-183-f202e489b4a5>\u001b[0m in \u001b[0;36mcomputer_interact\u001b[0;34m(board, turn, strat)\u001b[0m\n\u001b[1;32m     37\u001b[0m                             \u001b[0mscores\u001b[0m\u001b[0;34m[\u001b[0m\u001b[0;34m(\u001b[0m\u001b[0mtuple\u001b[0m\u001b[0;34m(\u001b[0m\u001b[0mm\u001b[0m\u001b[0;34m)\u001b[0m\u001b[0;34m,\u001b[0m \u001b[0mtuple\u001b[0m\u001b[0;34m(\u001b[0m\u001b[0mmm\u001b[0m\u001b[0;34m)\u001b[0m\u001b[0;34m)\u001b[0m\u001b[0;34m]\u001b[0m \u001b[0;34m=\u001b[0m \u001b[0mai_strategies\u001b[0m\u001b[0;34m.\u001b[0m\u001b[0mscore\u001b[0m\u001b[0;34m(\u001b[0m\u001b[0mstrat\u001b[0m\u001b[0;34m,\u001b[0m \u001b[0;34m[\u001b[0m\u001b[0mboard\u001b[0m\u001b[0;34m.\u001b[0m\u001b[0mstate\u001b[0m\u001b[0;34m[\u001b[0m\u001b[0mcol\u001b[0m\u001b[0;34m]\u001b[0m\u001b[0;34m-\u001b[0m\u001b[0mtemp_final\u001b[0m\u001b[0;34m.\u001b[0m\u001b[0mstate\u001b[0m\u001b[0;34m[\u001b[0m\u001b[0mcol\u001b[0m\u001b[0;34m]\u001b[0m\u001b[0;34m,\u001b[0m \u001b[0mtemp_final\u001b[0m\u001b[0;34m.\u001b[0m\u001b[0mhome\u001b[0m\u001b[0;34m[\u001b[0m\u001b[0mcol\u001b[0m\u001b[0;34m]\u001b[0m\u001b[0;34m,\u001b[0m \u001b[0mtemp_final\u001b[0m\u001b[0;34m.\u001b[0m\u001b[0malone\u001b[0m\u001b[0;34m[\u001b[0m\u001b[0mcol\u001b[0m\u001b[0;34m]\u001b[0m\u001b[0;34m,\u001b[0m \u001b[0mtemp_final\u001b[0m\u001b[0;34m.\u001b[0m\u001b[0msafe\u001b[0m\u001b[0;34m[\u001b[0m\u001b[0mcol\u001b[0m\u001b[0;34m]\u001b[0m\u001b[0;34m,\u001b[0m \u001b[0mtemp_final\u001b[0m\u001b[0;34m.\u001b[0m\u001b[0mprison\u001b[0m\u001b[0;34m[\u001b[0m\u001b[0menemy\u001b[0m\u001b[0;34m]\u001b[0m\u001b[0;34m]\u001b[0m\u001b[0;34m)\u001b[0m\u001b[0;34m\u001b[0m\u001b[0m\n\u001b[1;32m     38\u001b[0m                 \u001b[0;32melse\u001b[0m\u001b[0;34m:\u001b[0m\u001b[0;34m\u001b[0m\u001b[0m\n\u001b[0;32m---> 39\u001b[0;31m                     \u001b[0mscores\u001b[0m\u001b[0;34m[\u001b[0m\u001b[0mtuple\u001b[0m\u001b[0;34m(\u001b[0m\u001b[0mm\u001b[0m\u001b[0;34m)\u001b[0m\u001b[0;34m]\u001b[0m \u001b[0;34m=\u001b[0m \u001b[0mai_strategies\u001b[0m\u001b[0;34m.\u001b[0m\u001b[0mscore\u001b[0m\u001b[0;34m(\u001b[0m\u001b[0mstrat\u001b[0m\u001b[0;34m,\u001b[0m \u001b[0;34m[\u001b[0m\u001b[0mboard\u001b[0m\u001b[0;34m.\u001b[0m\u001b[0mstate\u001b[0m\u001b[0;34m[\u001b[0m\u001b[0mcol\u001b[0m\u001b[0;34m]\u001b[0m\u001b[0;34m-\u001b[0m\u001b[0mtemp_board\u001b[0m\u001b[0;34m.\u001b[0m\u001b[0mstate\u001b[0m\u001b[0;34m[\u001b[0m\u001b[0mcol\u001b[0m\u001b[0;34m]\u001b[0m\u001b[0;34m,\u001b[0m \u001b[0mtemp_board\u001b[0m\u001b[0;34m.\u001b[0m\u001b[0mhome\u001b[0m\u001b[0;34m[\u001b[0m\u001b[0mcol\u001b[0m\u001b[0;34m]\u001b[0m\u001b[0;34m,\u001b[0m \u001b[0mtemp_board\u001b[0m\u001b[0;34m.\u001b[0m\u001b[0malone\u001b[0m\u001b[0;34m[\u001b[0m\u001b[0mcol\u001b[0m\u001b[0;34m]\u001b[0m\u001b[0;34m,\u001b[0m \u001b[0mtemp_board\u001b[0m\u001b[0;34m.\u001b[0m\u001b[0msafe\u001b[0m\u001b[0;34m[\u001b[0m\u001b[0mcol\u001b[0m\u001b[0;34m]\u001b[0m\u001b[0;34m,\u001b[0m \u001b[0mtemp_board\u001b[0m\u001b[0;34m.\u001b[0m\u001b[0mprison\u001b[0m\u001b[0;34m[\u001b[0m\u001b[0menemy\u001b[0m\u001b[0;34m]\u001b[0m\u001b[0;34m]\u001b[0m\u001b[0;34m)\u001b[0m\u001b[0;34m\u001b[0m\u001b[0m\n\u001b[0m\u001b[1;32m     40\u001b[0m     \u001b[0mall_\u001b[0m \u001b[0;34m=\u001b[0m \u001b[0mscores\u001b[0m\u001b[0;34m.\u001b[0m\u001b[0mitems\u001b[0m\u001b[0;34m(\u001b[0m\u001b[0;34m)\u001b[0m\u001b[0;34m\u001b[0m\u001b[0m\n\u001b[1;32m     41\u001b[0m     \u001b[0mvalues\u001b[0m \u001b[0;34m=\u001b[0m \u001b[0;34m[\u001b[0m\u001b[0mx\u001b[0m\u001b[0;34m[\u001b[0m\u001b[0;36m1\u001b[0m\u001b[0;34m]\u001b[0m \u001b[0;32mfor\u001b[0m \u001b[0mx\u001b[0m \u001b[0;32min\u001b[0m \u001b[0mall_\u001b[0m\u001b[0;34m]\u001b[0m\u001b[0;34m\u001b[0m\u001b[0m\n",
      "\u001b[0;32m/Users/virgileaudi/Desktop/pygammon/ai_strategies.py\u001b[0m in \u001b[0;36mscore\u001b[0;34m(weights, feature)\u001b[0m\n\u001b[1;32m     15\u001b[0m     \u001b[0mscore\u001b[0m \u001b[0;34m+=\u001b[0m \u001b[0mweights\u001b[0m\u001b[0;34m.\u001b[0m\u001b[0msafe\u001b[0m\u001b[0;34m*\u001b[0m\u001b[0mfeature\u001b[0m\u001b[0;34m[\u001b[0m\u001b[0;36m3\u001b[0m\u001b[0;34m]\u001b[0m\u001b[0;34m\u001b[0m\u001b[0m\n\u001b[1;32m     16\u001b[0m     \u001b[0mscore\u001b[0m \u001b[0;34m+=\u001b[0m \u001b[0mweights\u001b[0m\u001b[0;34m.\u001b[0m\u001b[0mjailed\u001b[0m\u001b[0;34m*\u001b[0m\u001b[0mfeature\u001b[0m\u001b[0;34m[\u001b[0m\u001b[0;36m4\u001b[0m\u001b[0;34m]\u001b[0m\u001b[0;34m\u001b[0m\u001b[0m\n\u001b[0;32m---> 17\u001b[0;31m     \u001b[0mscore\u001b[0m \u001b[0;34m+=\u001b[0m \u001b[0mweights\u001b[0m\u001b[0;34m.\u001b[0m\u001b[0minhouse\u001b[0m\u001b[0;34m*\u001b[0m\u001b[0mfeature\u001b[0m\u001b[0;34m[\u001b[0m\u001b[0;36m5\u001b[0m\u001b[0;34m]\u001b[0m\u001b[0;34m\u001b[0m\u001b[0m\n\u001b[0m\u001b[1;32m     18\u001b[0m \u001b[0;34m\u001b[0m\u001b[0m\n\u001b[1;32m     19\u001b[0m \u001b[0maggressive\u001b[0m \u001b[0;34m=\u001b[0m \u001b[0mWeights\u001b[0m\u001b[0;34m(\u001b[0m\u001b[0;36m1\u001b[0m\u001b[0;34m,\u001b[0m \u001b[0;36m1\u001b[0m\u001b[0;34m,\u001b[0m \u001b[0;34m-\u001b[0m\u001b[0;36m2\u001b[0m\u001b[0;34m,\u001b[0m \u001b[0;36m0\u001b[0m\u001b[0;34m,\u001b[0m \u001b[0;36m5\u001b[0m\u001b[0;34m,\u001b[0m \u001b[0;36m2\u001b[0m\u001b[0;34m)\u001b[0m\u001b[0;34m\u001b[0m\u001b[0m\n",
      "\u001b[0;31mIndexError\u001b[0m: list index out of range"
     ]
    }
   ],
   "source": [
    "computer_interact(saved, t, aggressive)"
   ]
  },
  {
   "cell_type": "code",
   "execution_count": null,
   "metadata": {
    "collapsed": true
   },
   "outputs": [],
   "source": []
  }
 ],
 "metadata": {
  "kernelspec": {
   "display_name": "Python 2",
   "language": "python",
   "name": "python2"
  },
  "language_info": {
   "codemirror_mode": {
    "name": "ipython",
    "version": 2
   },
   "file_extension": ".py",
   "mimetype": "text/x-python",
   "name": "python",
   "nbconvert_exporter": "python",
   "pygments_lexer": "ipython2",
   "version": "2.7.12"
  }
 },
 "nbformat": 4,
 "nbformat_minor": 0
}
