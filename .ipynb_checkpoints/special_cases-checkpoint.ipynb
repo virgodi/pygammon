{
 "cells": [
  {
   "cell_type": "code",
   "execution_count": 1,
   "metadata": {
    "collapsed": true
   },
   "outputs": [],
   "source": [
    "%load_ext autoreload\n",
    "%autoreload 2"
   ]
  },
  {
   "cell_type": "code",
   "execution_count": 10,
   "metadata": {
    "collapsed": true
   },
   "outputs": [],
   "source": [
    "import elements\n",
    "from backgammon import *\n",
    "from ai_strategies import *"
   ]
  },
  {
   "cell_type": "code",
   "execution_count": 3,
   "metadata": {
    "collapsed": true
   },
   "outputs": [],
   "source": [
    "black = 'b'\n",
    "white='w'"
   ]
  },
  {
   "cell_type": "code",
   "execution_count": 85,
   "metadata": {
    "collapsed": false
   },
   "outputs": [],
   "source": [
    "s = {}\n",
    "s[22] = [black, 2]\n",
    "s[21] = [black, 2]\n",
    "s[19] = [black, 2]\n",
    "s[18] = [black, 3]\n",
    "s[8] = [black, 2]\n",
    "s[2] = [black, 2]\n",
    "s[12] = [white, 5]\n",
    "s[6] = [white, 3]\n",
    "s[2] = [black, 2]\n",
    "s[1] = [black, 2]\n",
    "s[5] = [white, 5]\n",
    "s[6] = [white, 2]\n",
    "s[23] = [white, 2]\n",
    "saved = elements.Board(s)"
   ]
  },
  {
   "cell_type": "code",
   "execution_count": 97,
   "metadata": {
    "collapsed": true
   },
   "outputs": [],
   "source": [
    "s = {}\n",
    "s[20] = [black, 2]\n",
    "s[19] = [black, 1]\n",
    "s[18] = [black, 2]\n",
    "s[13] = [black, 2]\n",
    "s[10] = [black, 2]\n",
    "s[8] = [black, 2]\n",
    "s[6] = [black, 2]\n",
    "s[5] = [white, 5]\n",
    "s[1] = [black, 2]\n",
    "s[12] = [white, 5]\n",
    "s[14] = [white, 4]\n",
    "s[23] = [white, 1]\n",
    "saved = elements.Board(s)"
   ]
  },
  {
   "cell_type": "code",
   "execution_count": 103,
   "metadata": {
    "collapsed": true
   },
   "outputs": [],
   "source": [
    "s = {}\n",
    "s[17] = [black, 2]\n",
    "s[22] = [black, 2]\n",
    "s[21] = [black, 2]\n",
    "s[20] = [black, 2]\n",
    "s[19] = [black, 2]\n",
    "s[18] = [black, 3]\n",
    "s[0] = [black, 2]\n",
    "s[2] = [white, 1]\n",
    "s[4] = [white, 2]\n",
    "s[5] = [white, 1]\n",
    "saved = elements.Board(s)\n",
    "saved.home[white] = 11"
   ]
  },
  {
   "cell_type": "code",
   "execution_count": 66,
   "metadata": {
    "collapsed": true
   },
   "outputs": [],
   "source": [
    "s = {}\n",
    "s[17] = [black, 2]\n",
    "s[22] = [black, 2]\n",
    "s[21] = [black, 2]\n",
    "s[20] = [black, 2]\n",
    "s[19] = [black, 2]\n",
    "s[18] = [black, 3]\n",
    "s[0] = [black, 2]\n",
    "s[2] = [white, 1]\n",
    "s[6] = [white, 2]\n",
    "s[5] = [white, 1]\n",
    "saved = elements.Board(s)\n",
    "saved.home[white] = 11"
   ]
  },
  {
   "cell_type": "code",
   "execution_count": 70,
   "metadata": {
    "collapsed": false
   },
   "outputs": [],
   "source": [
    "s = {}\n",
    "s[20] = [black, 4]\n",
    "s[21] = [black, 3]\n",
    "s[23] = [black, 6]\n",
    "s[0] = [black, 1]\n",
    "s[1] = [white, 2]\n",
    "s[2] = [white, 3]\n",
    "s[3] = [white, 3]\n",
    "s[4] = [white, 3]\n",
    "s[5] = [white, 2]\n",
    "s[8] = [white, 1]\n",
    "s[9] = [white, 1]\n",
    "saved = elements.Board(s)\n",
    "saved.prison[black] = 1"
   ]
  },
  {
   "cell_type": "code",
   "execution_count": 82,
   "metadata": {
    "collapsed": true
   },
   "outputs": [],
   "source": [
    "s = {}\n",
    "s[11] = [black, 1]\n",
    "s[20] = [black, 2]\n",
    "s[21] = [black, 3]\n",
    "s[22] = [black, 3]\n",
    "s[23] = [black, 4]\n",
    "s[0] = [black, 2]\n",
    "s[12] = [white, 1]\n",
    "s[1] = [white, 2]\n",
    "s[2] = [white, 2]\n",
    "s[6] = [white, 3]\n",
    "s[4] = [white, 3]\n",
    "s[5] = [white, 4]\n",
    "saved = elements.Board(s)"
   ]
  },
  {
   "cell_type": "code",
   "execution_count": 83,
   "metadata": {
    "collapsed": false
   },
   "outputs": [
    {
     "data": {
      "text/plain": [
       "\n",
       " 12 13 14 15 16 17 18 19 20 21 22 23\n",
       "======================================\n",
       "|o                |       x  x  x  x |\n",
       "|                 |       x  x  x  x |\n",
       "|                 |          x  x  x |\n",
       "|                 |                x |\n",
       "|                 |                  |\n",
       "======================================\n",
       "|o 0           PRISON             0 x|\n",
       "======================================\n",
       "|                 |                  |\n",
       "|                 | o                |\n",
       "|               o | o  o             |\n",
       "|               o | o  o     o  o  x |\n",
       "|x              o | o  o     o  o  x |\n",
       "======================================\n",
       " 11 10 9  8  7  6   5  4  3  2  1  0"
      ]
     },
     "execution_count": 83,
     "metadata": {},
     "output_type": "execute_result"
    }
   ],
   "source": [
    "saved"
   ]
  },
  {
   "cell_type": "code",
   "execution_count": 103,
   "metadata": {
    "collapsed": true
   },
   "outputs": [],
   "source": [
    "# t = elements.Turn(white, elements.Roll([6,4]))\n",
    "t = elements.Turn(black, elements.Roll([4, 4]))"
   ]
  },
  {
   "cell_type": "code",
   "execution_count": 91,
   "metadata": {
    "collapsed": false
   },
   "outputs": [
    {
     "data": {
      "text/plain": [
       "[[11, 15]]"
      ]
     },
     "execution_count": 91,
     "metadata": {},
     "output_type": "execute_result"
    }
   ],
   "source": [
    "# saved.possible_moves(t).values()[0]"
   ]
  },
  {
   "cell_type": "code",
   "execution_count": 96,
   "metadata": {
    "collapsed": true
   },
   "outputs": [],
   "source": [
    "# t.roll.use(4)"
   ]
  },
  {
   "cell_type": "code",
   "execution_count": 97,
   "metadata": {
    "collapsed": false
   },
   "outputs": [
    {
     "data": {
      "text/plain": [
       "{4: [[15, 19]]}"
      ]
     },
     "execution_count": 97,
     "metadata": {},
     "output_type": "execute_result"
    }
   ],
   "source": [
    "# saved.move(black, *[11, 15]).possible_moves(t)"
   ]
  },
  {
   "cell_type": "code",
   "execution_count": 102,
   "metadata": {
    "collapsed": false
   },
   "outputs": [
    {
     "name": "stdout",
     "output_type": "stream",
     "text": [
      "Computer rolled:  [4, 4, 4]\n",
      "b Computer played:  ((11, 15), (15, 19), (19, 23))\n"
     ]
    },
    {
     "data": {
      "text/plain": [
       "(\n",
       "  12 13 14 15 16 17 18 19 20 21 22 23\n",
       " ======================================\n",
       " |o                |       x  x  x  x |\n",
       " |                 |       x  x  x  x |\n",
       " |                 |          x  x  x |\n",
       " |                 |                x |\n",
       " |                 |                x |\n",
       " ======================================\n",
       " |o 0           PRISON             0 x|\n",
       " ======================================\n",
       " |                 |                  |\n",
       " |                 | o                |\n",
       " |               o | o  o             |\n",
       " |               o | o  o     o  o  x |\n",
       " |               o | o  o     o  o  x |\n",
       " ======================================\n",
       "  11 10 9  8  7  6   5  4  3  2  1  0, Player: w, Roll: [5, 2])"
      ]
     },
     "execution_count": 102,
     "metadata": {},
     "output_type": "execute_result"
    }
   ],
   "source": [
    "Game.computer_interact(saved, t, careful)"
   ]
  },
  {
   "cell_type": "code",
   "execution_count": 111,
   "metadata": {
    "collapsed": true
   },
   "outputs": [],
   "source": [
    "# t.roll.use(5)"
   ]
  },
  {
   "cell_type": "code",
   "execution_count": 65,
   "metadata": {
    "collapsed": false
   },
   "outputs": [
    {
     "data": {
      "text/plain": [
       "{}"
      ]
     },
     "execution_count": 65,
     "metadata": {},
     "output_type": "execute_result"
    }
   ],
   "source": [
    "saved.possible_moves(t)"
   ]
  },
  {
   "cell_type": "code",
   "execution_count": 112,
   "metadata": {
    "collapsed": true
   },
   "outputs": [],
   "source": [
    "# temp = saved.move(t.player, *[5,1])"
   ]
  },
  {
   "cell_type": "code",
   "execution_count": 113,
   "metadata": {
    "collapsed": false
   },
   "outputs": [
    {
     "data": {
      "text/plain": [
       "{6: []}"
      ]
     },
     "execution_count": 113,
     "metadata": {},
     "output_type": "execute_result"
    }
   ],
   "source": [
    "# temp.possible_moves(t)"
   ]
  },
  {
   "cell_type": "code",
   "execution_count": 35,
   "metadata": {
    "collapsed": false
   },
   "outputs": [
    {
     "data": {
      "text/plain": [
       "{6: [[4, 'h']]}"
      ]
     },
     "execution_count": 35,
     "metadata": {},
     "output_type": "execute_result"
    }
   ],
   "source": [
    "# saved.move(t.player, *[5,1]).possible_moves(t)"
   ]
  },
  {
   "cell_type": "code",
   "execution_count": 62,
   "metadata": {
    "collapsed": false
   },
   "outputs": [
    {
     "name": "stdout",
     "output_type": "stream",
     "text": [
      "Computer rolled:  [5, 5, 5, 5]\n",
      "b Computer played:  ((0, 5), (17, 22), (0, 5), (17, 22))\n"
     ]
    },
    {
     "data": {
      "text/plain": [
       "(\n",
       "  12 13 14 15 16 17 18 19 20 21 22 23\n",
       " ======================================\n",
       " |                 | x  x  x  x  x    |\n",
       " |                 | x  x  x  x  x    |\n",
       " |                 | x           x    |\n",
       " |                 |             x    |\n",
       " |                 |                  |\n",
       " ======================================\n",
       " |o 1           PRISON             0 x|\n",
       " ======================================\n",
       " |                 |                  |\n",
       " |                 |                  |\n",
       " |                 |                  |\n",
       " |               o | x                |\n",
       " |               o | x        o       |\n",
       " ======================================\n",
       "  11 10 9  8  7  6   5  4  3  2  1  0\n",
       "              EATEN  11  , Player: w, Roll: [1, 5])"
      ]
     },
     "execution_count": 62,
     "metadata": {},
     "output_type": "execute_result"
    }
   ],
   "source": [
    "Game().computer_interact(saved, t, aggressive)"
   ]
  },
  {
   "cell_type": "code",
   "execution_count": 27,
   "metadata": {
    "collapsed": false
   },
   "outputs": [],
   "source": [
    "t1 = Turn(white, Roll([5, 1]))"
   ]
  },
  {
   "cell_type": "code",
   "execution_count": 28,
   "metadata": {
    "collapsed": false
   },
   "outputs": [
    {
     "name": "stdout",
     "output_type": "stream",
     "text": [
      "b Computer played:  ((0, 5), (5, 11))\n",
      "w Computer played:  (('p', 23), (6, 1))\n"
     ]
    },
    {
     "data": {
      "text/plain": [
       "(\n",
       "  12 13 14 15 16 17 18 19 20 21 22 23\n",
       " ======================================\n",
       " |               x | x  x  x  x  x  o |\n",
       " |               x | x  x  x  x  x    |\n",
       " |                 | x                |\n",
       " |                 |                  |\n",
       " |                 |                  |\n",
       " ======================================\n",
       " |o 0           PRISON             0 x|\n",
       " ======================================\n",
       " |                 |                  |\n",
       " |                 |                  |\n",
       " |                 |                  |\n",
       " |                 |                  |\n",
       " |x              o |          o  o  x |\n",
       " ======================================\n",
       "  11 10 9  8  7  6   5  4  3  2  1  0\n",
       "              EATEN  11  , Player: b, Roll: [4, 5])"
      ]
     },
     "execution_count": 28,
     "metadata": {},
     "output_type": "execute_result"
    }
   ],
   "source": [
    "Game().computer_interact(Game().computer_interact(saved, t, aggressive)[0], t1, aggressive)"
   ]
  },
  {
   "cell_type": "code",
   "execution_count": 29,
   "metadata": {
    "collapsed": true
   },
   "outputs": [],
   "source": [
    "t2 = Turn(black, Roll([4, 5]))"
   ]
  },
  {
   "cell_type": "code",
   "execution_count": 32,
   "metadata": {
    "collapsed": false
   },
   "outputs": [
    {
     "name": "stdout",
     "output_type": "stream",
     "text": [
      "b Computer played:  ((0, 5), (5, 11))\n",
      "w Computer played:  (('p', 23), (6, 1))\n",
      "b Computer played:  ((19, 23), (18, 23))\n"
     ]
    },
    {
     "data": {
      "text/plain": [
       "(\n",
       "  12 13 14 15 16 17 18 19 20 21 22 23\n",
       " ======================================\n",
       " |               x | x  x  x  x  x  x |\n",
       " |               x | x     x  x  x  x |\n",
       " |                 |                  |\n",
       " |                 |                  |\n",
       " |                 |                  |\n",
       " ======================================\n",
       " |o 1           PRISON             0 x|\n",
       " ======================================\n",
       " |                 |                  |\n",
       " |                 |                  |\n",
       " |                 |                  |\n",
       " |                 |                  |\n",
       " |x              o |          o  o  x |\n",
       " ======================================\n",
       "  11 10 9  8  7  6   5  4  3  2  1  0\n",
       "              EATEN  11  , Player: w, Roll: [1, 4])"
      ]
     },
     "execution_count": 32,
     "metadata": {},
     "output_type": "execute_result"
    }
   ],
   "source": [
    "Game().computer_interact(Game().computer_interact(Game().computer_interact(saved, t, aggressive)[0], t1, aggressive)[0], t2, aggressive)"
   ]
  },
  {
   "cell_type": "code",
   "execution_count": 45,
   "metadata": {
    "collapsed": false
   },
   "outputs": [],
   "source": [
    "tt = elements.Turn(black, elements.Roll([5,5]))\n",
    "l = saved.possible_moves(tt)[5]"
   ]
  },
  {
   "cell_type": "code",
   "execution_count": 50,
   "metadata": {
    "collapsed": false
   },
   "outputs": [
    {
     "data": {
      "text/plain": [
       "{5: [[0, 5], [5, 10], [17, 22], [18, 23]]}"
      ]
     },
     "execution_count": 50,
     "metadata": {},
     "output_type": "execute_result"
    }
   ],
   "source": [
    "saved.move(black, 0, 5).possible_moves(tt)"
   ]
  },
  {
   "cell_type": "code",
   "execution_count": 55,
   "metadata": {
    "collapsed": false
   },
   "outputs": [
    {
     "name": "stdout",
     "output_type": "stream",
     "text": [
      "([0, 5], [0, 5], [5, 10], [5, 10])\n",
      "([0, 5], [0, 5], [5, 10], [10, 15])\n",
      "([0, 5], [0, 5], [5, 10], [17, 22])\n",
      "([0, 5], [0, 5], [5, 10], [18, 23])\n",
      "([0, 5], [0, 5], [17, 22], [5, 10])\n",
      "([0, 5], [0, 5], [17, 22], [17, 22])\n",
      "([0, 5], [0, 5], [17, 22], [18, 23])\n",
      "([0, 5], [0, 5], [18, 23], [5, 10])\n",
      "([0, 5], [0, 5], [18, 23], [17, 22])\n",
      "([0, 5], [0, 5], [18, 23], [18, 23])\n",
      "([0, 5], [5, 10], [0, 5], [5, 10])\n",
      "([0, 5], [5, 10], [0, 5], [10, 15])\n",
      "([0, 5], [5, 10], [0, 5], [17, 22])\n",
      "([0, 5], [5, 10], [0, 5], [18, 23])\n",
      "([0, 5], [5, 10], [10, 15], [0, 5])\n",
      "([0, 5], [5, 10], [10, 15], [15, 20])\n",
      "([0, 5], [5, 10], [10, 15], [17, 22])\n",
      "([0, 5], [5, 10], [10, 15], [18, 23])\n",
      "([0, 5], [5, 10], [17, 22], [0, 5])\n",
      "([0, 5], [5, 10], [17, 22], [10, 15])\n",
      "([0, 5], [5, 10], [17, 22], [17, 22])\n",
      "([0, 5], [5, 10], [17, 22], [18, 23])\n",
      "([0, 5], [5, 10], [18, 23], [0, 5])\n",
      "([0, 5], [5, 10], [18, 23], [10, 15])\n",
      "([0, 5], [5, 10], [18, 23], [17, 22])\n",
      "([0, 5], [5, 10], [18, 23], [18, 23])\n",
      "([0, 5], [17, 22], [0, 5], [5, 10])\n",
      "([0, 5], [17, 22], [0, 5], [17, 22])\n",
      "([0, 5], [17, 22], [0, 5], [18, 23])\n",
      "([0, 5], [17, 22], [5, 10], [0, 5])\n",
      "([0, 5], [17, 22], [5, 10], [10, 15])\n",
      "([0, 5], [17, 22], [5, 10], [17, 22])\n",
      "([0, 5], [17, 22], [5, 10], [18, 23])\n",
      "([0, 5], [17, 22], [17, 22], [0, 5])\n",
      "([0, 5], [17, 22], [17, 22], [5, 10])\n",
      "([0, 5], [17, 22], [17, 22], [18, 23])\n",
      "([0, 5], [17, 22], [18, 23], [0, 5])\n",
      "([0, 5], [17, 22], [18, 23], [5, 10])\n",
      "([0, 5], [17, 22], [18, 23], [17, 22])\n",
      "([0, 5], [17, 22], [18, 23], [18, 23])\n",
      "([0, 5], [18, 23], [0, 5], [5, 10])\n",
      "([0, 5], [18, 23], [0, 5], [17, 22])\n",
      "([0, 5], [18, 23], [0, 5], [18, 23])\n",
      "([0, 5], [18, 23], [5, 10], [0, 5])\n",
      "([0, 5], [18, 23], [5, 10], [10, 15])\n",
      "([0, 5], [18, 23], [5, 10], [17, 22])\n",
      "([0, 5], [18, 23], [5, 10], [18, 23])\n",
      "([0, 5], [18, 23], [17, 22], [0, 5])\n",
      "([0, 5], [18, 23], [17, 22], [5, 10])\n",
      "([0, 5], [18, 23], [17, 22], [17, 22])\n",
      "([0, 5], [18, 23], [17, 22], [18, 23])\n",
      "([0, 5], [18, 23], [18, 23], [0, 5])\n",
      "([0, 5], [18, 23], [18, 23], [5, 10])\n",
      "([0, 5], [18, 23], [18, 23], [17, 22])\n",
      "([0, 5], [18, 23], [18, 23], [18, 23])\n",
      "([17, 22], [0, 5], [0, 5], [5, 10])\n",
      "([17, 22], [0, 5], [0, 5], [17, 22])\n",
      "([17, 22], [0, 5], [0, 5], [18, 23])\n",
      "([17, 22], [0, 5], [5, 10], [0, 5])\n",
      "([17, 22], [0, 5], [5, 10], [10, 15])\n",
      "([17, 22], [0, 5], [5, 10], [17, 22])\n",
      "([17, 22], [0, 5], [5, 10], [18, 23])\n",
      "([17, 22], [0, 5], [17, 22], [0, 5])\n",
      "([17, 22], [0, 5], [17, 22], [5, 10])\n",
      "([17, 22], [0, 5], [17, 22], [18, 23])\n",
      "([17, 22], [0, 5], [18, 23], [0, 5])\n",
      "([17, 22], [0, 5], [18, 23], [5, 10])\n",
      "([17, 22], [0, 5], [18, 23], [17, 22])\n",
      "([17, 22], [0, 5], [18, 23], [18, 23])\n",
      "([17, 22], [17, 22], [0, 5], [0, 5])\n",
      "([17, 22], [17, 22], [0, 5], [5, 10])\n",
      "([17, 22], [17, 22], [0, 5], [18, 23])\n",
      "([17, 22], [17, 22], [18, 23], [0, 5])\n",
      "([17, 22], [17, 22], [18, 23], [18, 23])\n",
      "([17, 22], [18, 23], [0, 5], [0, 5])\n",
      "([17, 22], [18, 23], [0, 5], [5, 10])\n",
      "([17, 22], [18, 23], [0, 5], [17, 22])\n",
      "([17, 22], [18, 23], [0, 5], [18, 23])\n",
      "([17, 22], [18, 23], [17, 22], [0, 5])\n",
      "([17, 22], [18, 23], [17, 22], [18, 23])\n",
      "([17, 22], [18, 23], [18, 23], [0, 5])\n",
      "([17, 22], [18, 23], [18, 23], [17, 22])\n",
      "([17, 22], [18, 23], [18, 23], [18, 23])\n",
      "([18, 23], [0, 5], [0, 5], [5, 10])\n",
      "([18, 23], [0, 5], [0, 5], [17, 22])\n",
      "([18, 23], [0, 5], [0, 5], [18, 23])\n",
      "([18, 23], [0, 5], [5, 10], [0, 5])\n",
      "([18, 23], [0, 5], [5, 10], [10, 15])\n",
      "([18, 23], [0, 5], [5, 10], [17, 22])\n",
      "([18, 23], [0, 5], [5, 10], [18, 23])\n",
      "([18, 23], [0, 5], [17, 22], [0, 5])\n",
      "([18, 23], [0, 5], [17, 22], [5, 10])\n",
      "([18, 23], [0, 5], [17, 22], [17, 22])\n",
      "([18, 23], [0, 5], [17, 22], [18, 23])\n",
      "([18, 23], [0, 5], [18, 23], [0, 5])\n",
      "([18, 23], [0, 5], [18, 23], [5, 10])\n",
      "([18, 23], [0, 5], [18, 23], [17, 22])\n",
      "([18, 23], [0, 5], [18, 23], [18, 23])\n",
      "([18, 23], [17, 22], [0, 5], [0, 5])\n",
      "([18, 23], [17, 22], [0, 5], [5, 10])\n",
      "([18, 23], [17, 22], [0, 5], [17, 22])\n",
      "([18, 23], [17, 22], [0, 5], [18, 23])\n",
      "([18, 23], [17, 22], [17, 22], [0, 5])\n",
      "([18, 23], [17, 22], [17, 22], [18, 23])\n",
      "([18, 23], [17, 22], [18, 23], [0, 5])\n",
      "([18, 23], [17, 22], [18, 23], [17, 22])\n",
      "([18, 23], [17, 22], [18, 23], [18, 23])\n",
      "([18, 23], [18, 23], [0, 5], [0, 5])\n",
      "([18, 23], [18, 23], [0, 5], [5, 10])\n",
      "([18, 23], [18, 23], [0, 5], [17, 22])\n",
      "([18, 23], [18, 23], [0, 5], [18, 23])\n",
      "([18, 23], [18, 23], [17, 22], [0, 5])\n",
      "([18, 23], [18, 23], [17, 22], [17, 22])\n",
      "([18, 23], [18, 23], [17, 22], [18, 23])\n",
      "([18, 23], [18, 23], [18, 23], [0, 5])\n",
      "([18, 23], [18, 23], [18, 23], [17, 22])\n"
     ]
    }
   ],
   "source": [
    "for m in saved.possible_moves(tt).values()[0]:\n",
    "    for m2 in saved.move(black, *m).possible_moves(tt).values()[0]:\n",
    "        for m3 in saved.move(black, *m).move(black, *m2).possible_moves(tt).values()[0]:\n",
    "            for m4 in saved.move(black, *m).move(black, *m2).move(black, *m3).possible_moves(tt).values()[0]:\n",
    "                temp_board = saved.move(black, *m).move(black, *m2).move(black, *m3).move(black, *m4).possible_moves(tt).values()[0]\n",
    "                k = (tuple(m), tuple(m2), tuple(m3), tuple(m4))\n",
    "                scores[k] = ai_strategies.score(strat, [board.state[col]-temp_board.state[col], temp_board.home[col], \n",
    "                            temp_board.alone[col], temp_board.safe[col], temp_board.prison[enemy], temp_board.inhouse[col]])"
   ]
  },
  {
   "cell_type": "code",
   "execution_count": null,
   "metadata": {
    "collapsed": true
   },
   "outputs": [],
   "source": []
  }
 ],
 "metadata": {
  "kernelspec": {
   "display_name": "Python 2",
   "language": "python",
   "name": "python2"
  },
  "language_info": {
   "codemirror_mode": {
    "name": "ipython",
    "version": 2
   },
   "file_extension": ".py",
   "mimetype": "text/x-python",
   "name": "python",
   "nbconvert_exporter": "python",
   "pygments_lexer": "ipython2",
   "version": "2.7.12"
  }
 },
 "nbformat": 4,
 "nbformat_minor": 0
}
