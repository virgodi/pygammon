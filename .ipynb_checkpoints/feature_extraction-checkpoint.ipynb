{
 "cells": [
  {
   "cell_type": "code",
   "execution_count": 4,
   "metadata": {
    "collapsed": true
   },
   "outputs": [],
   "source": [
    "%load_ext autoreload\n",
    "%autoreload 2"
   ]
  },
  {
   "cell_type": "code",
   "execution_count": 2,
   "metadata": {
    "collapsed": true
   },
   "outputs": [],
   "source": [
    "import pickle\n",
    "from ai_strategies import *\n",
    "from backgammon import *\n",
    "from elements import *"
   ]
  },
  {
   "cell_type": "code",
   "execution_count": 15,
   "metadata": {
    "collapsed": false
   },
   "outputs": [],
   "source": [
    "self = Board()\n",
    "b = self.move(white, 23, 17).move(white, 7, 4)\n",
    "self = b.move(black, 16, 17).move(black, 0, 4)"
   ]
  },
  {
   "cell_type": "code",
   "execution_count": 36,
   "metadata": {
    "collapsed": false
   },
   "outputs": [
    {
     "data": {
      "text/plain": [
       "\n",
       " 12 13 14 15 16 17 18 19 20 21 22 23\n",
       "======================================\n",
       "|o           x  o | x              o |\n",
       "|o           x    | x                |\n",
       "|o           x    | x                |\n",
       "|o                | x                |\n",
       "|o                | x                |\n",
       "======================================\n",
       "|o 0           PRISON             0 x|\n",
       "======================================\n",
       "|x                | o                |\n",
       "|x                | o                |\n",
       "|x                | o                |\n",
       "|x           o    | o              x |\n",
       "|x           o    | o  o           x |\n",
       "======================================\n",
       " 11 10 9  8  7  6   5  4  3  2  1  0"
      ]
     },
     "execution_count": 36,
     "metadata": {},
     "output_type": "execute_result"
    }
   ],
   "source": [
    "b"
   ]
  },
  {
   "cell_type": "code",
   "execution_count": 39,
   "metadata": {
    "collapsed": false
   },
   "outputs": [
    {
     "data": {
      "text/plain": [
       "\n",
       " 12 13 14 15 16 17 18 19 20 21 22 23\n",
       "======================================\n",
       "|o           x  o | x                |\n",
       "|o           x  o | x                |\n",
       "|o           x    | x                |\n",
       "|o                | x                |\n",
       "|o                | x                |\n",
       "======================================\n",
       "|o 0           PRISON             0 x|\n",
       "======================================\n",
       "|x                | o                |\n",
       "|x                | o                |\n",
       "|x                | o                |\n",
       "|x           o    | o              x |\n",
       "|x           o    | o  o           x |\n",
       "======================================\n",
       " 11 10 9  8  7  6   5  4  3  2  1  0"
      ]
     },
     "execution_count": 39,
     "metadata": {},
     "output_type": "execute_result"
    }
   ],
   "source": [
    "self2 = b.move(white, 23, 19).move(white, 19, 17)\n",
    "self2"
   ]
  },
  {
   "cell_type": "code",
   "execution_count": 33,
   "metadata": {
    "collapsed": false
   },
   "outputs": [],
   "source": [
    "def feat_per_quarter(self, board, col, q0, q1):\n",
    "    enem = white if col == black else black\n",
    "    op = operator.gt if col == black else operator.lt\n",
    "    eaten = 0\n",
    "    alone = 0\n",
    "    twos = 0\n",
    "    mores = 0\n",
    "    safe = None\n",
    "    if self.prison[col]>0:\n",
    "        safe = 0\n",
    "    else:\n",
    "        furthest_enemey = self.furthest_from_home(enem) \n",
    "    for pos in range(q0, q1):\n",
    "        if self.board[pos] and self.board[pos][0] == col and board.board[pos][0] == enem:\n",
    "            eaten+=1\n",
    "        if self.board[pos] and self.board[pos] == [col, 1]:\n",
    "            alone+=1\n",
    "        elif self.board[pos] and self.board[pos] == [col, 2]:\n",
    "            twos+=1\n",
    "        elif self.board[pos] and self.board[pos][0] == col and self.board[pos][1]>2:\n",
    "            mores+=1\n",
    "        if furthest_enemey and self.board[pos] and self.board[pos][0] == col:\n",
    "            if op(pos, furthest_enemey):\n",
    "                if safe is None:\n",
    "                    safe = self.board[pos][1]\n",
    "                else:\n",
    "                    safe += self.board[pos][1]\n",
    "    if safe is None:\n",
    "        safe = 0\n",
    "    return [eaten, safe, alone, twos, mores]\n",
    "    \n",
    "    \n",
    "def feat(self, board, col):\n",
    "    qs_white = [(0, 6), (6, 12), (12, 18), (18, 24)]\n",
    "    qs_black = qs_white[::-1]\n",
    "    homed = self.home[col]-self.board[col]"
   ]
  },
  {
   "cell_type": "code",
   "execution_count": 30,
   "metadata": {
    "collapsed": false
   },
   "outputs": [
    {
     "data": {
      "text/plain": [
       "True"
      ]
     },
     "execution_count": 30,
     "metadata": {},
     "output_type": "execute_result"
    }
   ],
   "source": [
    "import operator\n",
    "operator.lt(1,2)"
   ]
  },
  {
   "cell_type": "code",
   "execution_count": 40,
   "metadata": {
    "collapsed": false
   },
   "outputs": [
    {
     "ename": "TypeError",
     "evalue": "list indices must be integers, not str",
     "output_type": "error",
     "traceback": [
      "\u001b[0;31m---------------------------------------------------------------------------\u001b[0m",
      "\u001b[0;31mTypeError\u001b[0m                                 Traceback (most recent call last)",
      "\u001b[0;32m<ipython-input-40-0a9d5b58bb79>\u001b[0m in \u001b[0;36m<module>\u001b[0;34m()\u001b[0m\n\u001b[0;32m----> 1\u001b[0;31m \u001b[0mfeat_per_quarter\u001b[0m\u001b[0;34m(\u001b[0m\u001b[0mself2\u001b[0m\u001b[0;34m,\u001b[0m \u001b[0mb\u001b[0m\u001b[0;34m,\u001b[0m \u001b[0mblack\u001b[0m\u001b[0;34m,\u001b[0m \u001b[0;36m12\u001b[0m\u001b[0;34m,\u001b[0m \u001b[0;36m18\u001b[0m\u001b[0;34m)\u001b[0m\u001b[0;34m\u001b[0m\u001b[0m\n\u001b[0m",
      "\u001b[0;32m<ipython-input-33-6c1f8a36d7dd>\u001b[0m in \u001b[0;36mfeat_per_quarter\u001b[0;34m(self, board, col, q0, q1)\u001b[0m\n\u001b[1;32m     18\u001b[0m         \u001b[0;32melif\u001b[0m \u001b[0mself\u001b[0m\u001b[0;34m.\u001b[0m\u001b[0mboard\u001b[0m\u001b[0;34m[\u001b[0m\u001b[0mpos\u001b[0m\u001b[0;34m]\u001b[0m \u001b[0;32mand\u001b[0m \u001b[0mself\u001b[0m\u001b[0;34m.\u001b[0m\u001b[0mboard\u001b[0m\u001b[0;34m[\u001b[0m\u001b[0mpos\u001b[0m\u001b[0;34m]\u001b[0m \u001b[0;34m==\u001b[0m \u001b[0;34m[\u001b[0m\u001b[0mcol\u001b[0m\u001b[0;34m,\u001b[0m \u001b[0;36m2\u001b[0m\u001b[0;34m]\u001b[0m\u001b[0;34m:\u001b[0m\u001b[0;34m\u001b[0m\u001b[0m\n\u001b[1;32m     19\u001b[0m             \u001b[0mtwos\u001b[0m\u001b[0;34m+=\u001b[0m\u001b[0;36m1\u001b[0m\u001b[0;34m\u001b[0m\u001b[0m\n\u001b[0;32m---> 20\u001b[0;31m         \u001b[0;32melif\u001b[0m \u001b[0mself\u001b[0m\u001b[0;34m.\u001b[0m\u001b[0mboard\u001b[0m\u001b[0;34m[\u001b[0m\u001b[0mpos\u001b[0m\u001b[0;34m]\u001b[0m \u001b[0;32mand\u001b[0m \u001b[0mself\u001b[0m\u001b[0;34m.\u001b[0m\u001b[0mboard\u001b[0m\u001b[0;34m[\u001b[0m\u001b[0mpos\u001b[0m\u001b[0;34m]\u001b[0m\u001b[0;34m[\u001b[0m\u001b[0;36m0\u001b[0m\u001b[0;34m]\u001b[0m \u001b[0;34m==\u001b[0m \u001b[0mcol\u001b[0m \u001b[0;32mand\u001b[0m \u001b[0mself\u001b[0m\u001b[0;34m.\u001b[0m\u001b[0mboard\u001b[0m\u001b[0;34m[\u001b[0m\u001b[0mpos\u001b[0m\u001b[0;34m]\u001b[0m\u001b[0;34m[\u001b[0m\u001b[0mcol\u001b[0m\u001b[0;34m]\u001b[0m\u001b[0;34m>\u001b[0m\u001b[0;36m2\u001b[0m\u001b[0;34m:\u001b[0m\u001b[0;34m\u001b[0m\u001b[0m\n\u001b[0m\u001b[1;32m     21\u001b[0m             \u001b[0mmores\u001b[0m\u001b[0;34m+=\u001b[0m\u001b[0;36m1\u001b[0m\u001b[0;34m\u001b[0m\u001b[0m\n\u001b[1;32m     22\u001b[0m         \u001b[0;32mif\u001b[0m \u001b[0mfurthest_enemey\u001b[0m \u001b[0;32mand\u001b[0m \u001b[0mself\u001b[0m\u001b[0;34m.\u001b[0m\u001b[0mboard\u001b[0m\u001b[0;34m[\u001b[0m\u001b[0mpos\u001b[0m\u001b[0;34m]\u001b[0m \u001b[0;32mand\u001b[0m \u001b[0mself\u001b[0m\u001b[0;34m.\u001b[0m\u001b[0mboard\u001b[0m\u001b[0;34m[\u001b[0m\u001b[0mpos\u001b[0m\u001b[0;34m]\u001b[0m\u001b[0;34m[\u001b[0m\u001b[0;36m0\u001b[0m\u001b[0;34m]\u001b[0m \u001b[0;34m==\u001b[0m \u001b[0mcol\u001b[0m\u001b[0;34m:\u001b[0m\u001b[0;34m\u001b[0m\u001b[0m\n",
      "\u001b[0;31mTypeError\u001b[0m: list indices must be integers, not str"
     ]
    }
   ],
   "source": [
    "feat_per_quarter(self2, b, black, 12, 18)"
   ]
  },
  {
   "cell_type": "code",
   "execution_count": null,
   "metadata": {
    "collapsed": true
   },
   "outputs": [],
   "source": []
  }
 ],
 "metadata": {
  "kernelspec": {
   "display_name": "Python 2",
   "language": "python",
   "name": "python2"
  },
  "language_info": {
   "codemirror_mode": {
    "name": "ipython",
    "version": 2
   },
   "file_extension": ".py",
   "mimetype": "text/x-python",
   "name": "python",
   "nbconvert_exporter": "python",
   "pygments_lexer": "ipython2",
   "version": "2.7.12"
  }
 },
 "nbformat": 4,
 "nbformat_minor": 0
}
