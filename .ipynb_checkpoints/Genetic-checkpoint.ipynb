{
 "cells": [
  {
   "cell_type": "code",
   "execution_count": 20,
   "metadata": {
    "collapsed": false
   },
   "outputs": [
    {
     "name": "stdout",
     "output_type": "stream",
     "text": [
      "The autoreload extension is already loaded. To reload it, use:\n",
      "  %reload_ext autoreload\n"
     ]
    }
   ],
   "source": [
    "%load_ext autoreload\n",
    "%autoreload 2"
   ]
  },
  {
   "cell_type": "code",
   "execution_count": 21,
   "metadata": {
    "collapsed": true
   },
   "outputs": [],
   "source": [
    "import numpy as np\n",
    "import pickle\n",
    "from backgammon import *\n",
    "from elements import *\n",
    "from tqdm import tqdm\n",
    "from ai_strategies import *\n",
    "import random"
   ]
  },
  {
   "cell_type": "code",
   "execution_count": 40,
   "metadata": {
    "collapsed": true
   },
   "outputs": [],
   "source": [
    "champion = SimpleWeights(custom.asList[:], True, 'champion')"
   ]
  },
  {
   "cell_type": "code",
   "execution_count": 41,
   "metadata": {
    "collapsed": false
   },
   "outputs": [
    {
     "data": {
      "text/plain": [
       "champion: [9.62455477, 0.09668296, -27.34340147, -3.22164878, -7.27608439, -9.72351982, -0.19527862, -1.08688916, -1.60798766, -1.78691726, -1.56083934, -0.26288467, -0.23365212, -1.38256598, -0.98080718, -1.62166035, -0.23950076, -0.0324529, -2.73831382, -1.15451162, -0.25372656]"
      ]
     },
     "execution_count": 41,
     "metadata": {},
     "output_type": "execute_result"
    }
   ],
   "source": [
    "champion"
   ]
  },
  {
   "cell_type": "code",
   "execution_count": 44,
   "metadata": {
    "collapsed": true
   },
   "outputs": [],
   "source": [
    "def play_n(champion, challenger, n, show=False):\n",
    "    champ_score = 0\n",
    "    chal_score = 0\n",
    "    while champ_score<n and chal_score<n:\n",
    "        col, winner_strat, mars = Game().computer_vs_computer_play(champion, challenger, False)\n",
    "        if winner_strat.name == champion.name:\n",
    "            if mars:\n",
    "                champ_score+=2\n",
    "            else:\n",
    "                champ_score+=1\n",
    "        elif winner_strat.name == challenger.name:\n",
    "            if mars:\n",
    "                chal_score+=2\n",
    "            else:\n",
    "                chal_score+=1\n",
    "    if show:\n",
    "        print 'Champ: {}'.format(champ_score)\n",
    "        print 'Chal: {}'.format(chal_score)\n",
    "    if champ_score == n:\n",
    "        return 1, abs(champ_score-chal_score)\n",
    "    else:\n",
    "        return 0, abs(champ_score-chal_score)\n",
    "\n",
    "def generate_new_challenger(champion):\n",
    "    new_w = champion.asList[:]\n",
    "    for i in range(len(new_w)):\n",
    "        new_w[i] += random.uniform(-0.5,0.5)\n",
    "    return SimpleWeights(new_w, True,'challenger')\n",
    "\n",
    "def genetic_udpate(init_champion, alpha, rounds, max_champ, max_it, past=None):\n",
    "    if past is None:\n",
    "        champions=[init_champion]\n",
    "        l = len(past)\n",
    "    else:\n",
    "        champions = past\n",
    "        l=0\n",
    "    it = 0\n",
    "    n_champs = 0\n",
    "    killer_tour = 0\n",
    "    while n_champs<max_champ and it<max_it:\n",
    "        it+=1\n",
    "        if it % 25 == 0 and it>0:\n",
    "            print \"{} iterations passed...\".format(it)\n",
    "        challenger = generate_new_challenger(champion)\n",
    "        res, diff = play_n(champions[-1], challenger, rounds)\n",
    "        if res == 1:\n",
    "            continue\n",
    "        elif res == 0:\n",
    "#             print \"We are getting a new Champion !\"\n",
    "            n_champs+=1\n",
    "            a = alpha\n",
    "            if diff >= 4:\n",
    "                a*=2\n",
    "                killer_tour+=1\n",
    "            new_champ_weights = [(1-a)*w[0]+a*w[1] for w in zip(champion.asList, challenger.asList)]\n",
    "            champions.append(SimpleWeights(new_champ_weights, True, 'champion_{}'.format(n_champs)))\n",
    "    return champions, float(killer_tour)/(len(champions)-l)"
   ]
  },
  {
   "cell_type": "code",
   "execution_count": 51,
   "metadata": {
    "collapsed": false
   },
   "outputs": [
    {
     "name": "stdout",
     "output_type": "stream",
     "text": [
      "25 iterations passed...\n",
      "50 iterations passed...\n",
      "75 iterations passed...\n",
      "100 iterations passed...\n",
      "125 iterations passed...\n",
      "150 iterations passed...\n",
      "175 iterations passed...\n",
      "200 iterations passed...\n",
      "225 iterations passed...\n",
      "250 iterations passed...\n",
      "275 iterations passed...\n",
      "300 iterations passed...\n",
      "325 iterations passed...\n",
      "350 iterations passed...\n",
      "375 iterations passed...\n",
      "400 iterations passed...\n",
      "425 iterations passed...\n",
      "450 iterations passed...\n",
      "475 iterations passed...\n",
      "500 iterations passed...\n",
      "525 iterations passed...\n",
      "550 iterations passed...\n",
      "575 iterations passed...\n",
      "600 iterations passed...\n",
      "625 iterations passed...\n",
      "650 iterations passed...\n",
      "675 iterations passed...\n",
      "700 iterations passed...\n",
      "725 iterations passed...\n",
      "750 iterations passed...\n",
      "775 iterations passed...\n",
      "800 iterations passed...\n",
      "825 iterations passed...\n",
      "850 iterations passed...\n",
      "875 iterations passed...\n",
      "900 iterations passed...\n",
      "925 iterations passed...\n",
      "950 iterations passed...\n",
      "975 iterations passed...\n",
      "1000 iterations passed...\n",
      "1025 iterations passed...\n",
      "1050 iterations passed...\n",
      "1075 iterations passed...\n",
      "1100 iterations passed...\n",
      "1125 iterations passed...\n",
      "1150 iterations passed...\n",
      "1175 iterations passed...\n",
      "1200 iterations passed...\n",
      "1225 iterations passed...\n",
      "1250 iterations passed...\n",
      "1275 iterations passed...\n",
      "1300 iterations passed...\n",
      "1325 iterations passed...\n",
      "1350 iterations passed...\n",
      "1375 iterations passed...\n",
      "1400 iterations passed...\n",
      "1425 iterations passed...\n",
      "1450 iterations passed...\n",
      "1475 iterations passed...\n",
      "1500 iterations passed...\n",
      "1525 iterations passed...\n",
      "1550 iterations passed...\n",
      "1575 iterations passed...\n",
      "1600 iterations passed...\n",
      "1625 iterations passed...\n",
      "1650 iterations passed...\n",
      "1675 iterations passed...\n",
      "1700 iterations passed...\n",
      "1725 iterations passed...\n",
      "1750 iterations passed...\n",
      "1775 iterations passed...\n",
      "1800 iterations passed...\n",
      "1825 iterations passed...\n",
      "1850 iterations passed...\n",
      "1875 iterations passed...\n",
      "1900 iterations passed...\n",
      "1925 iterations passed...\n",
      "1950 iterations passed...\n",
      "1975 iterations passed...\n",
      "2000 iterations passed...\n",
      "2025 iterations passed...\n",
      "2050 iterations passed...\n",
      "2075 iterations passed...\n",
      "2100 iterations passed...\n",
      "2125 iterations passed...\n",
      "2150 iterations passed...\n",
      "2175 iterations passed...\n",
      "2200 iterations passed...\n",
      "2225 iterations passed...\n",
      "2250 iterations passed...\n",
      "2275 iterations passed...\n",
      "2300 iterations passed...\n",
      "2325 iterations passed...\n",
      "2350 iterations passed...\n",
      "2375 iterations passed...\n",
      "2400 iterations passed...\n",
      "2425 iterations passed...\n",
      "2450 iterations passed...\n",
      "2475 iterations passed...\n",
      "2500 iterations passed...\n",
      "2525 iterations passed...\n",
      "2550 iterations passed...\n",
      "2575 iterations passed...\n",
      "2600 iterations passed...\n",
      "2625 iterations passed...\n",
      "2650 iterations passed...\n",
      "2675 iterations passed...\n",
      "2700 iterations passed...\n",
      "2725 iterations passed...\n",
      "2750 iterations passed...\n",
      "2775 iterations passed...\n",
      "2800 iterations passed...\n",
      "2825 iterations passed...\n",
      "2850 iterations passed...\n",
      "2875 iterations passed...\n",
      "2900 iterations passed...\n",
      "2925 iterations passed...\n",
      "2950 iterations passed...\n",
      "2975 iterations passed...\n",
      "3000 iterations passed...\n"
     ]
    }
   ],
   "source": [
    "champs, kt = genetic_udpate(champion, 0.1, 10, float(\"inf\"), 3000, champs)"
   ]
  },
  {
   "cell_type": "code",
   "execution_count": 53,
   "metadata": {
    "collapsed": false
   },
   "outputs": [
    {
     "name": "stdout",
     "output_type": "stream",
     "text": [
      "25 iterations passed...\n",
      "50 iterations passed...\n",
      "75 iterations passed...\n",
      "100 iterations passed...\n",
      "125 iterations passed...\n",
      "150 iterations passed...\n",
      "175 iterations passed...\n",
      "200 iterations passed...\n",
      "225 iterations passed...\n",
      "250 iterations passed...\n",
      "275 iterations passed...\n",
      "300 iterations passed...\n",
      "325 iterations passed...\n",
      "350 iterations passed...\n",
      "375 iterations passed...\n",
      "400 iterations passed...\n",
      "425 iterations passed...\n",
      "450 iterations passed...\n",
      "475 iterations passed...\n",
      "500 iterations passed...\n",
      "525 iterations passed...\n",
      "550 iterations passed...\n",
      "575 iterations passed...\n",
      "600 iterations passed...\n",
      "625 iterations passed...\n",
      "650 iterations passed...\n",
      "675 iterations passed...\n",
      "700 iterations passed...\n",
      "725 iterations passed...\n",
      "750 iterations passed...\n",
      "775 iterations passed...\n",
      "800 iterations passed...\n",
      "825 iterations passed...\n",
      "850 iterations passed...\n",
      "875 iterations passed...\n",
      "900 iterations passed...\n",
      "925 iterations passed...\n",
      "950 iterations passed...\n",
      "975 iterations passed...\n",
      "1000 iterations passed...\n",
      "1025 iterations passed...\n",
      "1050 iterations passed...\n",
      "1075 iterations passed...\n",
      "1100 iterations passed...\n",
      "1125 iterations passed...\n",
      "1150 iterations passed...\n",
      "1175 iterations passed...\n",
      "1200 iterations passed...\n",
      "1225 iterations passed...\n",
      "1250 iterations passed...\n",
      "1275 iterations passed...\n",
      "1300 iterations passed...\n",
      "1325 iterations passed...\n",
      "1350 iterations passed...\n",
      "1375 iterations passed...\n",
      "1400 iterations passed...\n",
      "1425 iterations passed...\n",
      "1450 iterations passed...\n",
      "1475 iterations passed...\n",
      "1500 iterations passed...\n",
      "1525 iterations passed...\n",
      "1550 iterations passed...\n",
      "1575 iterations passed...\n",
      "1600 iterations passed...\n",
      "1625 iterations passed...\n",
      "1650 iterations passed...\n",
      "1675 iterations passed...\n",
      "1700 iterations passed...\n",
      "1725 iterations passed...\n",
      "1750 iterations passed...\n",
      "1775 iterations passed...\n",
      "1800 iterations passed...\n",
      "1825 iterations passed...\n",
      "1850 iterations passed...\n",
      "1875 iterations passed...\n",
      "1900 iterations passed...\n",
      "1925 iterations passed...\n",
      "1950 iterations passed...\n",
      "1975 iterations passed...\n",
      "2000 iterations passed...\n",
      "2025 iterations passed...\n",
      "2050 iterations passed...\n",
      "2075 iterations passed...\n",
      "2100 iterations passed...\n",
      "2125 iterations passed...\n",
      "2150 iterations passed...\n",
      "2175 iterations passed...\n",
      "2200 iterations passed...\n",
      "2225 iterations passed...\n",
      "2250 iterations passed...\n",
      "2275 iterations passed...\n",
      "2300 iterations passed...\n",
      "2325 iterations passed...\n",
      "2350 iterations passed...\n",
      "2375 iterations passed...\n",
      "2400 iterations passed...\n",
      "2425 iterations passed...\n",
      "2450 iterations passed...\n",
      "2475 iterations passed...\n",
      "2500 iterations passed...\n",
      "2525 iterations passed...\n",
      "2550 iterations passed...\n",
      "2575 iterations passed...\n",
      "2600 iterations passed...\n",
      "2625 iterations passed...\n",
      "2650 iterations passed...\n",
      "2675 iterations passed...\n",
      "2700 iterations passed...\n",
      "2725 iterations passed...\n",
      "2750 iterations passed...\n",
      "2775 iterations passed...\n",
      "2800 iterations passed...\n",
      "2825 iterations passed...\n",
      "2850 iterations passed...\n",
      "2875 iterations passed...\n",
      "2900 iterations passed...\n",
      "2925 iterations passed...\n",
      "2950 iterations passed...\n",
      "2975 iterations passed...\n",
      "3000 iterations passed...\n"
     ]
    }
   ],
   "source": [
    "champs, kt = genetic_udpate(champion, 0.1, 10, float(\"inf\"), 3000, champs)"
   ]
  },
  {
   "cell_type": "code",
   "execution_count": 56,
   "metadata": {
    "collapsed": false
   },
   "outputs": [
    {
     "name": "stdout",
     "output_type": "stream",
     "text": [
      "25 iterations passed...\n",
      "50 iterations passed...\n",
      "75 iterations passed...\n",
      "100 iterations passed...\n",
      "125 iterations passed...\n",
      "150 iterations passed...\n",
      "175 iterations passed...\n",
      "200 iterations passed...\n",
      "225 iterations passed...\n",
      "250 iterations passed...\n",
      "275 iterations passed...\n",
      "300 iterations passed...\n",
      "325 iterations passed...\n",
      "350 iterations passed...\n",
      "375 iterations passed...\n",
      "400 iterations passed...\n",
      "425 iterations passed...\n",
      "450 iterations passed...\n",
      "475 iterations passed...\n",
      "500 iterations passed...\n",
      "525 iterations passed...\n",
      "550 iterations passed...\n",
      "575 iterations passed...\n",
      "600 iterations passed...\n",
      "625 iterations passed...\n",
      "650 iterations passed...\n",
      "675 iterations passed...\n",
      "700 iterations passed...\n",
      "725 iterations passed...\n",
      "750 iterations passed...\n",
      "775 iterations passed...\n",
      "800 iterations passed...\n",
      "825 iterations passed...\n",
      "850 iterations passed...\n",
      "875 iterations passed...\n",
      "900 iterations passed...\n",
      "925 iterations passed...\n",
      "950 iterations passed...\n",
      "975 iterations passed...\n",
      "1000 iterations passed...\n",
      "1025 iterations passed...\n",
      "1050 iterations passed...\n",
      "1075 iterations passed...\n",
      "1100 iterations passed...\n",
      "1125 iterations passed...\n",
      "1150 iterations passed...\n",
      "1175 iterations passed...\n",
      "1200 iterations passed...\n",
      "1225 iterations passed...\n",
      "1250 iterations passed...\n",
      "1275 iterations passed...\n",
      "1300 iterations passed...\n",
      "1325 iterations passed...\n",
      "1350 iterations passed...\n",
      "1375 iterations passed...\n",
      "1400 iterations passed...\n",
      "1425 iterations passed...\n",
      "1450 iterations passed...\n",
      "1475 iterations passed...\n",
      "1500 iterations passed...\n"
     ]
    }
   ],
   "source": [
    "champs, kt = genetic_udpate(champion, 0.1, 10, float(\"inf\"), 1500, champs)"
   ]
  },
  {
   "cell_type": "code",
   "execution_count": 61,
   "metadata": {
    "collapsed": true
   },
   "outputs": [],
   "source": [
    "kts = [0.423, 0.3714, 0.19718, 0.09015]"
   ]
  },
  {
   "cell_type": "code",
   "execution_count": 62,
   "metadata": {
    "collapsed": false
   },
   "outputs": [
    {
     "name": "stdout",
     "output_type": "stream",
     "text": [
      "25 iterations passed...\n",
      "50 iterations passed...\n",
      "75 iterations passed...\n",
      "100 iterations passed...\n",
      "125 iterations passed...\n",
      "150 iterations passed...\n",
      "175 iterations passed...\n",
      "200 iterations passed...\n",
      "225 iterations passed...\n",
      "250 iterations passed...\n",
      "275 iterations passed...\n",
      "300 iterations passed...\n",
      "325 iterations passed...\n",
      "350 iterations passed...\n",
      "375 iterations passed...\n",
      "400 iterations passed...\n",
      "425 iterations passed...\n",
      "450 iterations passed...\n",
      "475 iterations passed...\n",
      "500 iterations passed...\n",
      "525 iterations passed...\n",
      "550 iterations passed...\n",
      "575 iterations passed...\n",
      "600 iterations passed...\n",
      "625 iterations passed...\n",
      "650 iterations passed...\n",
      "675 iterations passed...\n",
      "700 iterations passed...\n",
      "725 iterations passed...\n",
      "750 iterations passed...\n",
      "775 iterations passed...\n",
      "800 iterations passed...\n",
      "825 iterations passed...\n",
      "850 iterations passed...\n",
      "875 iterations passed...\n",
      "900 iterations passed...\n",
      "925 iterations passed...\n",
      "950 iterations passed...\n",
      "975 iterations passed...\n",
      "1000 iterations passed...\n"
     ]
    }
   ],
   "source": [
    "champs, kt = genetic_udpate(champion, 0.1, 10, float(\"inf\"), 1000, champs)\n",
    "kts.append(kt)"
   ]
  },
  {
   "cell_type": "code",
   "execution_count": 73,
   "metadata": {
    "collapsed": true
   },
   "outputs": [],
   "source": [
    "adv = SimpleWeights(logistic.asList[:], True, 'adv')"
   ]
  },
  {
   "cell_type": "code",
   "execution_count": 76,
   "metadata": {
    "collapsed": false
   },
   "outputs": [
    {
     "name": "stdout",
     "output_type": "stream",
     "text": [
      "Champ: 100\n",
      "Chal: 80\n"
     ]
    },
    {
     "data": {
      "text/plain": [
       "(1, 20)"
      ]
     },
     "execution_count": 76,
     "metadata": {},
     "output_type": "execute_result"
    }
   ],
   "source": [
    "play_n(champs[-1], adv, 100, True)"
   ]
  },
  {
   "cell_type": "code",
   "execution_count": 67,
   "metadata": {
    "collapsed": true
   },
   "outputs": [],
   "source": [
    "with open('data/kts.pkl', 'w') as f:\n",
    "    pickle.dump(kts, f)"
   ]
  },
  {
   "cell_type": "code",
   "execution_count": 68,
   "metadata": {
    "collapsed": true
   },
   "outputs": [],
   "source": [
    "with open('data/champs_genetic.pkl', 'w') as f:\n",
    "    pickle.dump(champs, f)"
   ]
  },
  {
   "cell_type": "code",
   "execution_count": 77,
   "metadata": {
    "collapsed": false
   },
   "outputs": [
    {
     "data": {
      "text/plain": [
       "4074"
      ]
     },
     "execution_count": 77,
     "metadata": {},
     "output_type": "execute_result"
    }
   ],
   "source": [
    "len(champs)"
   ]
  },
  {
   "cell_type": "code",
   "execution_count": 78,
   "metadata": {
    "collapsed": false
   },
   "outputs": [
    {
     "data": {
      "text/plain": [
       "champion_436: [9.672071469420816, 0.1370305010540025, -27.31164252090112, -3.21263251590634, -7.283897656212694, -9.730123590043535, -0.1956267537536657, -1.1003040642735558, -1.6473295421300713, -1.7480084961463693, -1.5990262168570324, -0.247489254703353, -0.2497083745416293, -1.3458657648367063, -1.0226702802073397, -1.6324334510952359, -0.20921425852042463, -0.06549357073198128, -2.7163070070303394, -1.1795935186263393, -0.2786028782873191]"
      ]
     },
     "execution_count": 78,
     "metadata": {},
     "output_type": "execute_result"
    }
   ],
   "source": [
    "champs[-1]"
   ]
  },
  {
   "cell_type": "code",
   "execution_count": 79,
   "metadata": {
    "collapsed": true
   },
   "outputs": [],
   "source": [
    "!open ."
   ]
  },
  {
   "cell_type": "code",
   "execution_count": null,
   "metadata": {
    "collapsed": true
   },
   "outputs": [],
   "source": []
  }
 ],
 "metadata": {
  "kernelspec": {
   "display_name": "Python 2",
   "language": "python",
   "name": "python2"
  },
  "language_info": {
   "codemirror_mode": {
    "name": "ipython",
    "version": 2
   },
   "file_extension": ".py",
   "mimetype": "text/x-python",
   "name": "python",
   "nbconvert_exporter": "python",
   "pygments_lexer": "ipython2",
   "version": "2.7.12"
  }
 },
 "nbformat": 4,
 "nbformat_minor": 0
}
