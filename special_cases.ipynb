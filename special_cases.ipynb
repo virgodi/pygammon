{
 "cells": [
  {
   "cell_type": "code",
   "execution_count": 1,
   "metadata": {
    "collapsed": true
   },
   "outputs": [],
   "source": [
    "%load_ext autoreload\n",
    "%autoreload 2"
   ]
  },
  {
   "cell_type": "code",
   "execution_count": 2,
   "metadata": {
    "collapsed": true
   },
   "outputs": [],
   "source": [
    "import elements\n",
    "from backgammon import *\n",
    "from ai_strategies import *"
   ]
  },
  {
   "cell_type": "code",
   "execution_count": 3,
   "metadata": {
    "collapsed": true
   },
   "outputs": [],
   "source": [
    "black = 'b'\n",
    "white='w'"
   ]
  },
  {
   "cell_type": "code",
   "execution_count": 85,
   "metadata": {
    "collapsed": false
   },
   "outputs": [],
   "source": [
    "s = {}\n",
    "s[22] = [black, 2]\n",
    "s[21] = [black, 2]\n",
    "s[19] = [black, 2]\n",
    "s[18] = [black, 3]\n",
    "s[8] = [black, 2]\n",
    "s[2] = [black, 2]\n",
    "s[12] = [white, 5]\n",
    "s[6] = [white, 3]\n",
    "s[2] = [black, 2]\n",
    "s[1] = [black, 2]\n",
    "s[5] = [white, 5]\n",
    "s[6] = [white, 2]\n",
    "s[23] = [white, 2]\n",
    "saved = elements.Board(s)"
   ]
  },
  {
   "cell_type": "code",
   "execution_count": 97,
   "metadata": {
    "collapsed": true
   },
   "outputs": [],
   "source": [
    "s = {}\n",
    "s[20] = [black, 2]\n",
    "s[19] = [black, 1]\n",
    "s[18] = [black, 2]\n",
    "s[13] = [black, 2]\n",
    "s[10] = [black, 2]\n",
    "s[8] = [black, 2]\n",
    "s[6] = [black, 2]\n",
    "s[5] = [white, 5]\n",
    "s[1] = [black, 2]\n",
    "s[12] = [white, 5]\n",
    "s[14] = [white, 4]\n",
    "s[23] = [white, 1]\n",
    "saved = elements.Board(s)"
   ]
  },
  {
   "cell_type": "code",
   "execution_count": 103,
   "metadata": {
    "collapsed": true
   },
   "outputs": [],
   "source": [
    "s = {}\n",
    "s[17] = [black, 2]\n",
    "s[22] = [black, 2]\n",
    "s[21] = [black, 2]\n",
    "s[20] = [black, 2]\n",
    "s[19] = [black, 2]\n",
    "s[18] = [black, 3]\n",
    "s[0] = [black, 2]\n",
    "s[2] = [white, 1]\n",
    "s[4] = [white, 2]\n",
    "s[5] = [white, 1]\n",
    "saved = elements.Board(s)\n",
    "saved.home[white] = 11"
   ]
  },
  {
   "cell_type": "code",
   "execution_count": 66,
   "metadata": {
    "collapsed": true
   },
   "outputs": [],
   "source": [
    "s = {}\n",
    "s[17] = [black, 2]\n",
    "s[22] = [black, 2]\n",
    "s[21] = [black, 2]\n",
    "s[20] = [black, 2]\n",
    "s[19] = [black, 2]\n",
    "s[18] = [black, 3]\n",
    "s[0] = [black, 2]\n",
    "s[2] = [white, 1]\n",
    "s[6] = [white, 2]\n",
    "s[5] = [white, 1]\n",
    "saved = elements.Board(s)\n",
    "saved.home[white] = 11"
   ]
  },
  {
   "cell_type": "code",
   "execution_count": 70,
   "metadata": {
    "collapsed": false
   },
   "outputs": [],
   "source": [
    "s = {}\n",
    "s[20] = [black, 4]\n",
    "s[21] = [black, 3]\n",
    "s[23] = [black, 6]\n",
    "s[0] = [black, 1]\n",
    "s[1] = [white, 2]\n",
    "s[2] = [white, 3]\n",
    "s[3] = [white, 3]\n",
    "s[4] = [white, 3]\n",
    "s[5] = [white, 2]\n",
    "s[8] = [white, 1]\n",
    "s[9] = [white, 1]\n",
    "saved = elements.Board(s)\n",
    "saved.prison[black] = 1"
   ]
  },
  {
   "cell_type": "code",
   "execution_count": 82,
   "metadata": {
    "collapsed": true
   },
   "outputs": [],
   "source": [
    "s = {}\n",
    "s[11] = [black, 1]\n",
    "s[20] = [black, 2]\n",
    "s[21] = [black, 3]\n",
    "s[22] = [black, 3]\n",
    "s[23] = [black, 4]\n",
    "s[0] = [black, 2]\n",
    "s[12] = [white, 1]\n",
    "s[1] = [white, 2]\n",
    "s[2] = [white, 2]\n",
    "s[6] = [white, 3]\n",
    "s[4] = [white, 3]\n",
    "s[5] = [white, 4]\n",
    "saved = elements.Board(s)"
   ]
  },
  {
   "cell_type": "code",
   "execution_count": 22,
   "metadata": {
    "collapsed": true
   },
   "outputs": [],
   "source": [
    "s = {}\n",
    "s[21] = [black, 2]\n",
    "s[22] = [black, 6]\n",
    "s[23] = [black, 7]\n",
    "s[1] = [white, 1]\n",
    "saved = elements.Board(s)\n",
    "saved.home[white] = 14"
   ]
  },
  {
   "cell_type": "code",
   "execution_count": 23,
   "metadata": {
    "collapsed": false
   },
   "outputs": [
    {
     "data": {
      "text/plain": [
       "\n",
       " 12 13 14 15 16 17 18 19 20 21 22 23\n",
       "======================================\n",
       "|                 |          x  6  7 |\n",
       "|                 |          x  x  x |\n",
       "|                 |             x  x |\n",
       "|                 |             x  x |\n",
       "|                 |             x  x |\n",
       "======================================\n",
       "|o 0           PRISON             0 x|\n",
       "======================================\n",
       "|                 |                  |\n",
       "|                 |                  |\n",
       "|                 |                  |\n",
       "|                 |                  |\n",
       "|                 |             o    |\n",
       "======================================\n",
       " 11 10 9  8  7  6   5  4  3  2  1  0\n",
       "             EATEN  14  "
      ]
     },
     "execution_count": 23,
     "metadata": {},
     "output_type": "execute_result"
    }
   ],
   "source": [
    "saved"
   ]
  },
  {
   "cell_type": "code",
   "execution_count": 31,
   "metadata": {
    "collapsed": true
   },
   "outputs": [],
   "source": [
    "# t = elements.Turn(white, elements.Roll([6,4]))\n",
    "t = elements.Turn(white, elements.Roll([4, 4]))"
   ]
  },
  {
   "cell_type": "code",
   "execution_count": 91,
   "metadata": {
    "collapsed": false
   },
   "outputs": [
    {
     "data": {
      "text/plain": [
       "[[11, 15]]"
      ]
     },
     "execution_count": 91,
     "metadata": {},
     "output_type": "execute_result"
    }
   ],
   "source": [
    "# saved.possible_moves(t).values()[0]"
   ]
  },
  {
   "cell_type": "code",
   "execution_count": 105,
   "metadata": {
    "collapsed": true
   },
   "outputs": [],
   "source": [
    "t.roll.use(4)"
   ]
  },
  {
   "cell_type": "code",
   "execution_count": 112,
   "metadata": {
    "collapsed": false
   },
   "outputs": [
    {
     "data": {
      "text/plain": [
       "{4: [[19, 23]]}"
      ]
     },
     "execution_count": 112,
     "metadata": {},
     "output_type": "execute_result"
    }
   ],
   "source": [
    "saved.move(black, *[11, 15]).move(black, *[15, 19]).possible_moves(t)"
   ]
  },
  {
   "cell_type": "code",
   "execution_count": 33,
   "metadata": {
    "collapsed": false
   },
   "outputs": [
    {
     "name": "stdout",
     "output_type": "stream",
     "text": [
      "W Computer rolled:  [4, 4, 4, 4]\n",
      "w Computer played:  [1, 'h']\n"
     ]
    },
    {
     "data": {
      "text/plain": [
       "(\n",
       "  12 13 14 15 16 17 18 19 20 21 22 23\n",
       " ======================================\n",
       " |                 |          x  6  7 |\n",
       " |                 |          x  x  x |\n",
       " |                 |             x  x |\n",
       " |                 |             x  x |\n",
       " |                 |             x  x |\n",
       " ======================================\n",
       " |o 0           PRISON             0 x|\n",
       " ======================================\n",
       " |                 |                  |\n",
       " |                 |                  |\n",
       " |                 |                  |\n",
       " |                 |                  |\n",
       " |                 |                  |\n",
       " ======================================\n",
       "  11 10 9  8  7  6   5  4  3  2  1  0\n",
       "              EATEN  15  , Player: b, Roll: [3, 6])"
      ]
     },
     "execution_count": 33,
     "metadata": {},
     "output_type": "execute_result"
    }
   ],
   "source": [
    "Game.computer_interact(saved, t, careful)"
   ]
  },
  {
   "cell_type": "code",
   "execution_count": 111,
   "metadata": {
    "collapsed": true
   },
   "outputs": [],
   "source": [
    "# t.roll.use(5)"
   ]
  },
  {
   "cell_type": "code",
   "execution_count": 65,
   "metadata": {
    "collapsed": false
   },
   "outputs": [
    {
     "data": {
      "text/plain": [
       "{}"
      ]
     },
     "execution_count": 65,
     "metadata": {},
     "output_type": "execute_result"
    }
   ],
   "source": [
    "saved.possible_moves(t)"
   ]
  },
  {
   "cell_type": "code",
   "execution_count": 112,
   "metadata": {
    "collapsed": true
   },
   "outputs": [],
   "source": [
    "# temp = saved.move(t.player, *[5,1])"
   ]
  },
  {
   "cell_type": "code",
   "execution_count": 113,
   "metadata": {
    "collapsed": false
   },
   "outputs": [
    {
     "data": {
      "text/plain": [
       "{6: []}"
      ]
     },
     "execution_count": 113,
     "metadata": {},
     "output_type": "execute_result"
    }
   ],
   "source": [
    "# temp.possible_moves(t)"
   ]
  },
  {
   "cell_type": "code",
   "execution_count": 35,
   "metadata": {
    "collapsed": false
   },
   "outputs": [
    {
     "data": {
      "text/plain": [
       "{6: [[4, 'h']]}"
      ]
     },
     "execution_count": 35,
     "metadata": {},
     "output_type": "execute_result"
    }
   ],
   "source": [
    "# saved.move(t.player, *[5,1]).possible_moves(t)"
   ]
  },
  {
   "cell_type": "code",
   "execution_count": 62,
   "metadata": {
    "collapsed": false
   },
   "outputs": [
    {
     "name": "stdout",
     "output_type": "stream",
     "text": [
      "Computer rolled:  [5, 5, 5, 5]\n",
      "b Computer played:  ((0, 5), (17, 22), (0, 5), (17, 22))\n"
     ]
    },
    {
     "data": {
      "text/plain": [
       "(\n",
       "  12 13 14 15 16 17 18 19 20 21 22 23\n",
       " ======================================\n",
       " |                 | x  x  x  x  x    |\n",
       " |                 | x  x  x  x  x    |\n",
       " |                 | x           x    |\n",
       " |                 |             x    |\n",
       " |                 |                  |\n",
       " ======================================\n",
       " |o 1           PRISON             0 x|\n",
       " ======================================\n",
       " |                 |                  |\n",
       " |                 |                  |\n",
       " |                 |                  |\n",
       " |               o | x                |\n",
       " |               o | x        o       |\n",
       " ======================================\n",
       "  11 10 9  8  7  6   5  4  3  2  1  0\n",
       "              EATEN  11  , Player: w, Roll: [1, 5])"
      ]
     },
     "execution_count": 62,
     "metadata": {},
     "output_type": "execute_result"
    }
   ],
   "source": [
    "Game().computer_interact(saved, t, aggressive)"
   ]
  },
  {
   "cell_type": "code",
   "execution_count": 27,
   "metadata": {
    "collapsed": false
   },
   "outputs": [],
   "source": [
    "t1 = Turn(white, Roll([5, 1]))"
   ]
  },
  {
   "cell_type": "code",
   "execution_count": 28,
   "metadata": {
    "collapsed": false
   },
   "outputs": [
    {
     "name": "stdout",
     "output_type": "stream",
     "text": [
      "b Computer played:  ((0, 5), (5, 11))\n",
      "w Computer played:  (('p', 23), (6, 1))\n"
     ]
    },
    {
     "data": {
      "text/plain": [
       "(\n",
       "  12 13 14 15 16 17 18 19 20 21 22 23\n",
       " ======================================\n",
       " |               x | x  x  x  x  x  o |\n",
       " |               x | x  x  x  x  x    |\n",
       " |                 | x                |\n",
       " |                 |                  |\n",
       " |                 |                  |\n",
       " ======================================\n",
       " |o 0           PRISON             0 x|\n",
       " ======================================\n",
       " |                 |                  |\n",
       " |                 |                  |\n",
       " |                 |                  |\n",
       " |                 |                  |\n",
       " |x              o |          o  o  x |\n",
       " ======================================\n",
       "  11 10 9  8  7  6   5  4  3  2  1  0\n",
       "              EATEN  11  , Player: b, Roll: [4, 5])"
      ]
     },
     "execution_count": 28,
     "metadata": {},
     "output_type": "execute_result"
    }
   ],
   "source": [
    "Game().computer_interact(Game().computer_interact(saved, t, aggressive)[0], t1, aggressive)"
   ]
  },
  {
   "cell_type": "code",
   "execution_count": 29,
   "metadata": {
    "collapsed": true
   },
   "outputs": [],
   "source": [
    "t2 = Turn(black, Roll([4, 5]))"
   ]
  },
  {
   "cell_type": "code",
   "execution_count": 32,
   "metadata": {
    "collapsed": false
   },
   "outputs": [
    {
     "name": "stdout",
     "output_type": "stream",
     "text": [
      "b Computer played:  ((0, 5), (5, 11))\n",
      "w Computer played:  (('p', 23), (6, 1))\n",
      "b Computer played:  ((19, 23), (18, 23))\n"
     ]
    },
    {
     "data": {
      "text/plain": [
       "(\n",
       "  12 13 14 15 16 17 18 19 20 21 22 23\n",
       " ======================================\n",
       " |               x | x  x  x  x  x  x |\n",
       " |               x | x     x  x  x  x |\n",
       " |                 |                  |\n",
       " |                 |                  |\n",
       " |                 |                  |\n",
       " ======================================\n",
       " |o 1           PRISON             0 x|\n",
       " ======================================\n",
       " |                 |                  |\n",
       " |                 |                  |\n",
       " |                 |                  |\n",
       " |                 |                  |\n",
       " |x              o |          o  o  x |\n",
       " ======================================\n",
       "  11 10 9  8  7  6   5  4  3  2  1  0\n",
       "              EATEN  11  , Player: w, Roll: [1, 4])"
      ]
     },
     "execution_count": 32,
     "metadata": {},
     "output_type": "execute_result"
    }
   ],
   "source": [
    "Game().computer_interact(Game().computer_interact(Game().computer_interact(saved, t, aggressive)[0], t1, aggressive)[0], t2, aggressive)"
   ]
  },
  {
   "cell_type": "code",
   "execution_count": 45,
   "metadata": {
    "collapsed": false
   },
   "outputs": [],
   "source": [
    "tt = elements.Turn(black, elements.Roll([5,5]))\n",
    "l = saved.possible_moves(tt)[5]"
   ]
  },
  {
   "cell_type": "code",
   "execution_count": 50,
   "metadata": {
    "collapsed": false
   },
   "outputs": [
    {
     "data": {
      "text/plain": [
       "{5: [[0, 5], [5, 10], [17, 22], [18, 23]]}"
      ]
     },
     "execution_count": 50,
     "metadata": {},
     "output_type": "execute_result"
    }
   ],
   "source": [
    "saved.move(black, 0, 5).possible_moves(tt)"
   ]
  },
  {
   "cell_type": "code",
   "execution_count": 4,
   "metadata": {
    "collapsed": true
   },
   "outputs": [],
   "source": [
    "s = {}\n",
    "s[9] = [black, 2]\n",
    "s[22] = [black, 6]\n",
    "s[23] = [black, 7]\n",
    "s[1] = [white, 1]\n",
    "saved = elements.Board(s)\n",
    "saved.home[white] = 14"
   ]
  },
  {
   "cell_type": "code",
   "execution_count": 13,
   "metadata": {
    "collapsed": true
   },
   "outputs": [],
   "source": [
    "g = Game()"
   ]
  },
  {
   "cell_type": "code",
   "execution_count": 20,
   "metadata": {
    "collapsed": false
   },
   "outputs": [
    {
     "name": "stdout",
     "output_type": "stream",
     "text": [
      "\n",
      " 12 13 14 15 16 17 18 19 20 21 22 23\n",
      "======================================\n",
      "|                 |             6  7 |\n",
      "|                 |             x  x |\n",
      "|                 |             x  x |\n",
      "|                 |             x  x |\n",
      "|                 |             x  x |\n",
      "======================================\n",
      "|o 0           PRISON             0 x|\n",
      "======================================\n",
      "|                 |                  |\n",
      "|                 |                  |\n",
      "|                 |                  |\n",
      "|      x          |                  |\n",
      "|      x          |             o    |\n",
      "======================================\n",
      " 11 10 9  8  7  6   5  4  3  2  1  0\n",
      "             EATEN  14  \n",
      "\n"
     ]
    }
   ],
   "source": [
    "g.board = saved\n",
    "print g.board"
   ]
  },
  {
   "cell_type": "code",
   "execution_count": 21,
   "metadata": {
    "collapsed": false
   },
   "outputs": [
    {
     "name": "stdout",
     "output_type": "stream",
     "text": [
      "Which color do you want to play with? w\n",
      "\n",
      " You won the right to start !\n",
      "\n",
      "yes!!!\n",
      "\n",
      " 12 13 14 15 16 17 18 19 20 21 22 23\n",
      "======================================\n",
      "|                 |             6  7 |\n",
      "|                 |             x  x |\n",
      "|                 |             x  x |\n",
      "|                 |             x  x |\n",
      "|                 |             x  x |\n",
      "======================================\n",
      "|o 0           PRISON             0 x|\n",
      "======================================\n",
      "|                 |                  |\n",
      "|                 |                  |\n",
      "|                 |                  |\n",
      "|      x          |                  |\n",
      "|      x          |             o    |\n",
      "======================================\n",
      " 11 10 9  8  7  6   5  4  3  2  1  0\n",
      "             EATEN  14  \n",
      "\n",
      "\n",
      "W PLAYER: what is your next move? (You can still use these dice: [5, 4]) | 1 h\n",
      "GAME CONCLUDED, White wins !\n"
     ]
    }
   ],
   "source": [
    "g.human_vs_computer_play()"
   ]
  },
  {
   "cell_type": "code",
   "execution_count": null,
   "metadata": {
    "collapsed": true
   },
   "outputs": [],
   "source": []
  }
 ],
 "metadata": {
  "kernelspec": {
   "display_name": "Python 2",
   "language": "python",
   "name": "python2"
  },
  "language_info": {
   "codemirror_mode": {
    "name": "ipython",
    "version": 2
   },
   "file_extension": ".py",
   "mimetype": "text/x-python",
   "name": "python",
   "nbconvert_exporter": "python",
   "pygments_lexer": "ipython2",
   "version": "2.7.12"
  }
 },
 "nbformat": 4,
 "nbformat_minor": 0
}
