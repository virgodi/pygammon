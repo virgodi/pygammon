{
 "cells": [
  {
   "cell_type": "code",
   "execution_count": 1,
   "metadata": {
    "collapsed": true
   },
   "outputs": [],
   "source": [
    "%load_ext autoreload\n",
    "%autoreload 2"
   ]
  },
  {
   "cell_type": "code",
   "execution_count": 7,
   "metadata": {
    "collapsed": false
   },
   "outputs": [],
   "source": [
    "import pickle\n",
    "from ai_strategies import *\n",
    "from backgammon import *\n",
    "from elements import *"
   ]
  },
  {
   "cell_type": "code",
   "execution_count": 8,
   "metadata": {
    "collapsed": false
   },
   "outputs": [],
   "source": [
    "self = Board()\n",
    "b = self.move(white, 23, 17).move(white, 7, 4)\n",
    "self = b.move(black, 16, 17).move(black, 0, 4)"
   ]
  },
  {
   "cell_type": "code",
   "execution_count": 9,
   "metadata": {
    "collapsed": false
   },
   "outputs": [
    {
     "data": {
      "text/plain": [
       "\n",
       " 12 13 14 15 16 17 18 19 20 21 22 23\n",
       "======================================\n",
       "|o           x  o | x              o |\n",
       "|o           x    | x                |\n",
       "|o           x    | x                |\n",
       "|o                | x                |\n",
       "|o                | x                |\n",
       "======================================\n",
       "|o 0           PRISON             0 x|\n",
       "======================================\n",
       "|x                | o                |\n",
       "|x                | o                |\n",
       "|x                | o                |\n",
       "|x           o    | o              x |\n",
       "|x           o    | o  o           x |\n",
       "======================================\n",
       " 11 10 9  8  7  6   5  4  3  2  1  0"
      ]
     },
     "execution_count": 9,
     "metadata": {},
     "output_type": "execute_result"
    }
   ],
   "source": [
    "b"
   ]
  },
  {
   "cell_type": "code",
   "execution_count": 13,
   "metadata": {
    "collapsed": false
   },
   "outputs": [
    {
     "name": "stdout",
     "output_type": "stream",
     "text": [
      "\n",
      " 12 13 14 15 16 17 18 19 20 21 22 23\n",
      "======================================\n",
      "|o           x  x | x              o |\n",
      "|o           x    | x                |\n",
      "|o                | x                |\n",
      "|o                | x                |\n",
      "|o                | x                |\n",
      "======================================\n",
      "|o 2           PRISON             0 x|\n",
      "======================================\n",
      "|x                | o                |\n",
      "|x                | o                |\n",
      "|x                | o                |\n",
      "|x           o    | o                |\n",
      "|x           o    | o  x           x |\n",
      "======================================\n",
      " 11 10 9  8  7  6   5  4  3  2  1  0\n",
      "[0, 0, 0, 0, 0, 1, 1, 0, 1, 1, 0, 0, 0, 0, 0, 1, 1, 0, 2, 0, 0]\n"
     ]
    }
   ],
   "source": [
    "print self\n",
    "print self.feat(b, black)\n",
    "# [eaten, safe, alone, twos, mores]"
   ]
  },
  {
   "cell_type": "code",
   "execution_count": 18,
   "metadata": {
    "collapsed": false
   },
   "outputs": [
    {
     "name": "stdout",
     "output_type": "stream",
     "text": [
      "\n",
      " 12 13 14 15 16 17 18 19 20 21 22 23\n",
      "======================================\n",
      "|o           x  x | x  o  o        o |\n",
      "|o           x    | x                |\n",
      "|o                | x                |\n",
      "|o                | x                |\n",
      "|o                | x                |\n",
      "======================================\n",
      "|o 0           PRISON             0 x|\n",
      "======================================\n",
      "|x                | o                |\n",
      "|x                | o                |\n",
      "|x                | o                |\n",
      "|x           o    | o                |\n",
      "|x           o    | o  x           x |\n",
      "======================================\n",
      " 11 10 9  8  7  6   5  4  3  2  1  0\n",
      "[0, 0, 0, 0, 0, 1, 0, 0, 0, 1, 0, 0, 0, 0, 0, 1, 0, 0, 3, 0, 0]\n"
     ]
    }
   ],
   "source": [
    "self2 = self.move(white, 'p', 19).move(white, 'p', 20)\n",
    "print self2\n",
    "print self2.feat(self, white)"
   ]
  },
  {
   "cell_type": "code",
   "execution_count": null,
   "metadata": {
    "collapsed": true
   },
   "outputs": [],
   "source": [
    "# [eaten, safe, alone, twos, mores]"
   ]
  }
 ],
 "metadata": {
  "kernelspec": {
   "display_name": "Python 2",
   "language": "python",
   "name": "python2"
  },
  "language_info": {
   "codemirror_mode": {
    "name": "ipython",
    "version": 2
   },
   "file_extension": ".py",
   "mimetype": "text/x-python",
   "name": "python",
   "nbconvert_exporter": "python",
   "pygments_lexer": "ipython2",
   "version": "2.7.12"
  }
 },
 "nbformat": 4,
 "nbformat_minor": 0
}
