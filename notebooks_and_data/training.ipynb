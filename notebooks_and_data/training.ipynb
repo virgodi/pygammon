{
 "cells": [
  {
   "cell_type": "code",
   "execution_count": 1,
   "metadata": {
    "collapsed": false
   },
   "outputs": [],
   "source": [
    "%load_ext autoreload\n",
    "%autoreload 2"
   ]
  },
  {
   "cell_type": "code",
   "execution_count": 2,
   "metadata": {
    "collapsed": true
   },
   "outputs": [],
   "source": [
    "%matplotlib inline\n",
    "import matplotlib.pyplot as plt"
   ]
  },
  {
   "cell_type": "code",
   "execution_count": 46,
   "metadata": {
    "collapsed": true
   },
   "outputs": [],
   "source": [
    "import numpy as np\n",
    "import pickle\n",
    "from backgammon import *\n",
    "from elements import *\n",
    "from tqdm import tqdm\n",
    "from ai_strategies import *\n",
    "import random\n",
    "\n",
    "def softmax(s):\n",
    "    num = [np.exp(s[i])+0.00001 for i in range(len(s))]\n",
    "    return [x/sum(num) for x in num]\n",
    "\n",
    "def eval_deriv(k, f, cl, probs):\n",
    "    res = f[k]\n",
    "    if k == cl:\n",
    "        res*=-(1-probs[cl])\n",
    "    else:\n",
    "        res*=probs[cl]\n",
    "    return res\n",
    "\n",
    "def cross(l1, l2):\n",
    "    for i in range(len(l1)):\n",
    "        r+=l1[i]*l[2]\n",
    "        \n",
    "\n",
    "def save_game(game):\n",
    "    tosave = []\n",
    "    g = Game()\n",
    "    if game['win'] == 0:\n",
    "        cond = 1\n",
    "    else:\n",
    "        cond = 0\n",
    "    for i,p in enumerate(game['plays']):\n",
    "        t = Turn(p[0], Roll(list(p[1])))\n",
    "        poss_moves = g.board.get_pairs_moves(t)\n",
    "        if any(list(x) in poss_moves for x in itertools.permutations(p[2]))==False and not (p[2]==poss_moves):\n",
    "            if len(game['plays'])-1 == i:\n",
    "                return tosave\n",
    "            return \n",
    "        if i%2 == cond and len(poss_moves)>0:\n",
    "            for j, ms in enumerate(poss_moves):\n",
    "                if any(list(x) == ms for x in itertools.permutations(p[2])):\n",
    "                    cl = j\n",
    "            tosave.append((g.board, t, poss_moves, cl, p[2]))\n",
    "        for m in p[2]:\n",
    "            g.board = g.board.move(t.player, *m)\n",
    "    return tosave"
   ]
  },
  {
   "cell_type": "code",
   "execution_count": null,
   "metadata": {
    "collapsed": false
   },
   "outputs": [],
   "source": [
    "with open('data/process/norges.pkl', 'r') as f:\n",
    "    games = pickle.load(f)"
   ]
  },
  {
   "cell_type": "code",
   "execution_count": null,
   "metadata": {
    "collapsed": true
   },
   "outputs": [],
   "source": [
    "with open('data/process/gnu_vs_blitz.pkl', 'r') as f:\n",
    "    games2 = pickle.load(f)"
   ]
  },
  {
   "cell_type": "code",
   "execution_count": null,
   "metadata": {
    "collapsed": true
   },
   "outputs": [],
   "source": [
    "with open('data/process/200_7_pts.pkl', 'r') as f:\n",
    "    games3 = pickle.load(f)"
   ]
  },
  {
   "cell_type": "code",
   "execution_count": null,
   "metadata": {
    "collapsed": true
   },
   "outputs": [],
   "source": [
    "with open('data/process/100_5_pts.pkl', 'r') as f:\n",
    "    games_test = pickle.load(f)"
   ]
  },
  {
   "cell_type": "code",
   "execution_count": null,
   "metadata": {
    "collapsed": false
   },
   "outputs": [],
   "source": [
    "games += games2\n",
    "games += games3"
   ]
  },
  {
   "cell_type": "code",
   "execution_count": null,
   "metadata": {
    "collapsed": true
   },
   "outputs": [],
   "source": [
    "random.shuffle(games)"
   ]
  },
  {
   "cell_type": "code",
   "execution_count": null,
   "metadata": {
    "collapsed": false
   },
   "outputs": [],
   "source": [
    "saved_games = []\n",
    "for game in tqdm(games):\n",
    "    try:\n",
    "        saved_games.extend(save_game(game))\n",
    "    except:\n",
    "        pass"
   ]
  },
  {
   "cell_type": "code",
   "execution_count": null,
   "metadata": {
    "collapsed": false
   },
   "outputs": [],
   "source": [
    "with open('data/saved_games.pkl', 'w') as f:\n",
    "    pickle.dump(saved_games, f)"
   ]
  },
  {
   "cell_type": "code",
   "execution_count": 4,
   "metadata": {
    "collapsed": true
   },
   "outputs": [],
   "source": [
    "with open('data/saved_games.pkl', 'r') as f:\n",
    "    saved_games = pickle.load(f)"
   ]
  },
  {
   "cell_type": "code",
   "execution_count": 40,
   "metadata": {
    "collapsed": true
   },
   "outputs": [],
   "source": [
    "def train(plays, w, l=0.01, lam=0):\n",
    "    L = []\n",
    "    for p in tqdm(plays):\n",
    "        board, t, poss_moves, cl, moves = p\n",
    "        if len(poss_moves)<=1:\n",
    "            continue\n",
    "        probs = []\n",
    "        for j, ms in enumerate(poss_moves):\n",
    "            temp = board.copy()\n",
    "            for m in ms:\n",
    "                temp = temp.move(t.player, *m)\n",
    "            f = temp.feat(board, t.player)\n",
    "            if j == cl:\n",
    "                f_j = f\n",
    "            probs.append(score(w, f))\n",
    "        probs = softmax(probs)\n",
    "        L.append(np.log(probs[cl]))\n",
    "        w_copy = w.asList[:]\n",
    "        for k in range(len(w_copy)):\n",
    "            w_copy[k] -= l*(eval_deriv(k, f_j, cl, probs)+lam*w_copy[k])\n",
    "        w.asList = w_copy\n",
    "    return w, L\n",
    "def train2(plays, w, l=0.01, lam=0):\n",
    "    L = []\n",
    "    for p in tqdm(plays):\n",
    "        board, t, poss_moves, cl, moves = p\n",
    "        if len(poss_moves)<=1:\n",
    "            continue\n",
    "        probs = []\n",
    "        fs = []\n",
    "        for j, ms in enumerate(poss_moves):\n",
    "            temp = board.copy()\n",
    "            for m in ms:\n",
    "                temp = temp.move(t.player, *m)\n",
    "            f = temp.feat(board, t.player)\n",
    "            fs.append(f)\n",
    "            if j == cl:\n",
    "                f_j = f\n",
    "            probs.append(score(w, f))\n",
    "        probs = softmax(probs)\n",
    "        w_copy = w.asList[:]\n",
    "        for k in range(len(w_copy)):\n",
    "            w_copy[k] += l*(f_j[k] - sum([probs[j]*fs[j][k] for k in range(len(probs))])-lam*w_copy[k])\n",
    "        w.asList = w_copy\n",
    "    return w, L"
   ]
  },
  {
   "cell_type": "code",
   "execution_count": 41,
   "metadata": {
    "collapsed": true
   },
   "outputs": [],
   "source": [
    "def test(plays, w):\n",
    "    pos = 0 \n",
    "    c = 0\n",
    "    for p in tqdm(plays):\n",
    "        board, t, poss_moves, cl, moves = p\n",
    "        if len(poss_moves)<=1:\n",
    "            continue\n",
    "        c+=1\n",
    "        probs = []\n",
    "        for j, ms in enumerate(poss_moves):\n",
    "            temp = board.copy()\n",
    "            for m in ms:\n",
    "                temp = temp.move(t.player, *m)\n",
    "            f = temp.feat(board, t.player)\n",
    "            if j == cl:\n",
    "                f_j = f\n",
    "            probs.append(score(w, f))\n",
    "        probs = softmax(probs)\n",
    "        if probs[cl] == max(probs): \n",
    "            pos+=1\n",
    "    return float(pos)/c"
   ]
  },
  {
   "cell_type": "code",
   "execution_count": 28,
   "metadata": {
    "collapsed": true
   },
   "outputs": [],
   "source": [
    "mini_train_data = saved_games[:int(0.25*len(saved_games))]\n",
    "train_data = saved_games[:int(0.9*len(saved_games))]\n",
    "test_data = saved_games[int(0.9*len(saved_games)):]\n",
    "with open('data/training.pkl', 'w') as f:\n",
    "    pickle.dump(train_data, f)\n",
    "with open('data/testing.pkl', 'w') as f:\n",
    "    pickle.dump(test_data, f)"
   ]
  },
  {
   "cell_type": "code",
   "execution_count": 72,
   "metadata": {
    "collapsed": false
   },
   "outputs": [
    {
     "name": "stdout",
     "output_type": "stream",
     "text": [
      "test: [ 0.09559969 -0.11419075  0.12268652  0.00473283 -0.12432153  0.00625329\n",
      "  0.06294914 -0.1222899   0.142476    0.0817114  -0.16369798  0.01096698\n",
      " -0.23348222  0.10540505 -0.13214728  0.03503387 -0.13402459 -0.04979529\n",
      " -0.09459473 -0.13644621  0.04989337]\n"
     ]
    }
   ],
   "source": [
    "w = SimpleWeights(np.random.normal(scale=.1, size=21), 'test')\n",
    "print w\n",
    "L = []\n",
    "av_L = []\n",
    "acc = []"
   ]
  },
  {
   "cell_type": "code",
   "execution_count": 81,
   "metadata": {
    "collapsed": false
   },
   "outputs": [
    {
     "name": "stderr",
     "output_type": "stream",
     "text": [
      "100%|██████████| 5352/5352 [01:47<00:00, 49.92it/s]\n",
      "100%|██████████| 1000/1000 [00:22<00:00, 44.94it/s]\n"
     ]
    }
   ],
   "source": [
    "for i in range(1):\n",
    "    w, l = train(saved_games[:int(0.2*len(saved_games))], w, 0.01, 0.01)\n",
    "    L.append(l)\n",
    "    av_L.append(sum(l)/len(l))\n",
    "    acc.append(test(saved_games[int(0.2*len(saved_games)):int(0.2*len(saved_games))+1000], w))"
   ]
  },
  {
   "cell_type": "code",
   "execution_count": 83,
   "metadata": {
    "collapsed": false
   },
   "outputs": [
    {
     "data": {
      "text/plain": [
       "[0.5334846765039728,\n",
       " 0.6095346197502838,\n",
       " 0.6129398410896708,\n",
       " 0.6220204313280363,\n",
       " 0.6254256526674233,\n",
       " 0.6299659477866061,\n",
       " 0.6333711691259932]"
      ]
     },
     "execution_count": 83,
     "metadata": {},
     "output_type": "execute_result"
    }
   ],
   "source": [
    "acc"
   ]
  },
  {
   "cell_type": "code",
   "execution_count": 82,
   "metadata": {
    "collapsed": false
   },
   "outputs": [
    {
     "data": {
      "text/plain": [
       "[<matplotlib.lines.Line2D at 0x126147d50>]"
      ]
     },
     "execution_count": 82,
     "metadata": {},
     "output_type": "execute_result"
    },
    {
     "data": {
      "image/png": "[encoded data removed]",
      "text/plain": [
       "<matplotlib.figure.Figure at 0x126930210>"
      ]
     },
     "metadata": {},
     "output_type": "display_data"
    }
   ],
   "source": [
    "plt.plot(acc)"
   ]
  },
  {
   "cell_type": "code",
   "execution_count": 78,
   "metadata": {
    "collapsed": false
   },
   "outputs": [],
   "source": [
    "w_ = w.asList[:]"
   ]
  },
  {
   "cell_type": "code",
   "execution_count": 71,
   "metadata": {
    "collapsed": false
   },
   "outputs": [
    {
     "data": {
      "text/plain": [
       "[<matplotlib.lines.Line2D at 0x11e1e6d50>]"
      ]
     },
     "execution_count": 71,
     "metadata": {},
     "output_type": "execute_result"
    },
    {
     "data": {
      "image/png": "[encoded data removed]",
      "text/plain": [
       "<matplotlib.figure.Figure at 0x11c706410>"
      ]
     },
     "metadata": {},
     "output_type": "display_data"
    }
   ],
   "source": [
    "plt.plot(acc)"
   ]
  },
  {
   "cell_type": "code",
   "execution_count": 86,
   "metadata": {
    "collapsed": false
   },
   "outputs": [
    {
     "name": "stderr",
     "output_type": "stream",
     "text": [
      "100%|██████████| 2676/2676 [00:47<00:00, 56.26it/s]\n"
     ]
    },
    {
     "data": {
      "text/plain": [
       "0.28619670747150694"
      ]
     },
     "execution_count": 86,
     "metadata": {},
     "output_type": "execute_result"
    }
   ],
   "source": [
    "test(saved_games[:int(0.1*len(saved_games))], aggressive)"
   ]
  },
  {
   "cell_type": "code",
   "execution_count": 88,
   "metadata": {
    "collapsed": false
   },
   "outputs": [
    {
     "name": "stderr",
     "output_type": "stream",
     "text": [
      "100%|██████████| 24084/24084 [07:41<00:00, 52.21it/s]\n",
      "100%|██████████| 2677/2677 [00:49<00:00, 54.14it/s]\n",
      "100%|██████████| 24084/24084 [07:37<00:00, 52.69it/s]\n",
      "100%|██████████| 2677/2677 [00:50<00:00, 53.47it/s]\n",
      "100%|██████████| 24084/24084 [07:29<00:00, 53.52it/s]\n",
      "100%|██████████| 2677/2677 [00:48<00:00, 55.39it/s]\n",
      "100%|██████████| 24084/24084 [07:26<00:00, 53.95it/s]\n",
      "100%|██████████| 2677/2677 [00:48<00:00, 55.38it/s]\n",
      "100%|██████████| 24084/24084 [07:27<00:00, 53.79it/s]\n",
      "100%|██████████| 2677/2677 [00:48<00:00, 55.13it/s]\n"
     ]
    }
   ],
   "source": [
    "w2 = SimpleWeights(np.random.normal(scale=.5, size=21), 'test')\n",
    "L2 = []\n",
    "av_L2 = []\n",
    "acc2 = []\n",
    "\n",
    "for i in range(5):\n",
    "    w2, l2 = train(train_data, w2, 0.001, 0.01)\n",
    "    L2.append(l2)\n",
    "    av_L2.append(sum(l2)/len(l2))\n",
    "    acc2.append(test(test_data, w2))"
   ]
  },
  {
   "cell_type": "code",
   "execution_count": 91,
   "metadata": {
    "collapsed": false,
    "scrolled": true
   },
   "outputs": [
    {
     "data": {
      "text/plain": [
       "[<matplotlib.lines.Line2D at 0x107b55e10>]"
      ]
     },
     "execution_count": 91,
     "metadata": {},
     "output_type": "execute_result"
    },
    {
     "data": {
      "image/png": "[encoded data removed]",
      "text/plain": [
       "<matplotlib.figure.Figure at 0x11e5a2f90>"
      ]
     },
     "metadata": {},
     "output_type": "display_data"
    }
   ],
   "source": [
    "plt.plot(av_L2)"
   ]
  },
  {
   "cell_type": "code",
   "execution_count": 92,
   "metadata": {
    "collapsed": false
   },
   "outputs": [
    {
     "name": "stderr",
     "output_type": "stream",
     "text": [
      "100%|██████████| 24084/24084 [08:10<00:00, 49.14it/s]\n",
      "100%|██████████| 2677/2677 [00:59<00:00, 44.88it/s]\n",
      "100%|██████████| 24084/24084 [07:50<00:00, 51.19it/s]\n",
      "100%|██████████| 2677/2677 [00:51<00:00, 51.50it/s]\n",
      "100%|██████████| 24084/24084 [07:59<00:00, 50.18it/s]\n",
      "100%|██████████| 2677/2677 [00:52<00:00, 51.43it/s]\n"
     ]
    }
   ],
   "source": [
    "w3 = SimpleWeights(w2.asList, 'test')\n",
    "L3 = []\n",
    "av_L3 = []\n",
    "acc3 = []\n",
    "for i in range(3):\n",
    "    w3, l3 = train(train_data, w3, 0.001, 0.01)\n",
    "    L3.append(l3)\n",
    "    av_L3.append(sum(l3)/len(l3))\n",
    "    acc3.append(test(test_data, w3))"
   ]
  },
  {
   "cell_type": "code",
   "execution_count": 94,
   "metadata": {
    "collapsed": false
   },
   "outputs": [
    {
     "data": {
      "text/plain": [
       "[<matplotlib.lines.Line2D at 0x107fe90d0>]"
      ]
     },
     "execution_count": 94,
     "metadata": {},
     "output_type": "execute_result"
    },
    {
     "data": {
      "image/png": "[encoded data removed]",
      "text/plain": [
       "<matplotlib.figure.Figure at 0x11e19dfd0>"
      ]
     },
     "metadata": {},
     "output_type": "display_data"
    }
   ],
   "source": [
    "plt.plot(acc2+acc3)"
   ]
  },
  {
   "cell_type": "code",
   "execution_count": 95,
   "metadata": {
    "collapsed": false
   },
   "outputs": [
    {
     "name": "stderr",
     "output_type": "stream",
     "text": [
      "100%|██████████| 24084/24084 [08:20<00:00, 48.17it/s]\n",
      "100%|██████████| 2677/2677 [00:52<00:00, 51.12it/s]\n",
      "100%|██████████| 24084/24084 [08:29<00:00, 47.29it/s]\n",
      "100%|██████████| 2677/2677 [00:57<00:00, 46.74it/s]\n",
      "100%|██████████| 24084/24084 [08:41<00:00, 46.16it/s]\n",
      "100%|██████████| 2677/2677 [00:54<00:00, 48.68it/s]\n"
     ]
    }
   ],
   "source": [
    "w4 = SimpleWeights(w2.asList, 'test')\n",
    "L4 = []\n",
    "av_L4 = []\n",
    "acc4 = []\n",
    "for i in range(3):\n",
    "    w4, l4 = train(train_data, w4, 0.01, 0.01)\n",
    "    L4.append(l4)\n",
    "    av_L4.append(sum(l4)/len(l4))\n",
    "    acc4.append(test(test_data, w4))"
   ]
  },
  {
   "cell_type": "code",
   "execution_count": 31,
   "metadata": {
    "collapsed": false
   },
   "outputs": [
    {
     "ename": "NameError",
     "evalue": "name 'acc2' is not defined",
     "output_type": "error",
     "traceback": [
      "\u001b[0;31m---------------------------------------------------------------------------\u001b[0m",
      "\u001b[0;31mNameError\u001b[0m                                 Traceback (most recent call last)",
      "\u001b[0;32m<ipython-input-31-1e0769aad0c0>\u001b[0m in \u001b[0;36m<module>\u001b[0;34m()\u001b[0m\n\u001b[0;32m----> 1\u001b[0;31m \u001b[0mplt\u001b[0m\u001b[0;34m.\u001b[0m\u001b[0mplot\u001b[0m\u001b[0;34m(\u001b[0m\u001b[0macc2\u001b[0m\u001b[0;34m+\u001b[0m\u001b[0macc4\u001b[0m\u001b[0;34m)\u001b[0m\u001b[0;34m\u001b[0m\u001b[0m\n\u001b[0m",
      "\u001b[0;31mNameError\u001b[0m: name 'acc2' is not defined"
     ]
    }
   ],
   "source": [
    "plt.plot(acc2+acc4)"
   ]
  },
  {
   "cell_type": "code",
   "execution_count": 11,
   "metadata": {
    "collapsed": false
   },
   "outputs": [
    {
     "name": "stderr",
     "output_type": "stream",
     "text": [
      "100%|██████████| 2677/2677 [00:55<00:00, 48.67it/s]\n",
      "100%|██████████| 24084/24084 [07:54<00:00, 50.77it/s]\n",
      "100%|██████████| 2677/2677 [00:52<00:00, 50.51it/s]\n",
      "100%|██████████| 24084/24084 [07:54<00:00, 50.80it/s]\n",
      "100%|██████████| 2677/2677 [00:51<00:00, 51.96it/s]\n",
      "100%|██████████| 24084/24084 [07:59<00:00, 50.23it/s]\n",
      "100%|██████████| 2677/2677 [00:47<00:00, 56.52it/s]\n",
      "100%|██████████| 24084/24084 [07:17<00:00, 55.10it/s]\n",
      "100%|██████████| 2677/2677 [00:47<00:00, 56.55it/s]\n",
      "100%|██████████| 24084/24084 [07:17<00:00, 55.06it/s]\n",
      "100%|██████████| 2677/2677 [00:47<00:00, 56.17it/s]\n",
      "100%|██████████| 24084/24084 [07:20<00:00, 54.71it/s]\n",
      "100%|██████████| 2677/2677 [00:47<00:00, 56.37it/s]\n",
      "100%|██████████| 24084/24084 [07:17<00:00, 55.02it/s]\n",
      "100%|██████████| 2677/2677 [00:47<00:00, 56.60it/s]\n",
      "100%|██████████| 24084/24084 [07:17<00:00, 55.05it/s]\n",
      "100%|██████████| 2677/2677 [00:47<00:00, 56.45it/s]\n",
      "100%|██████████| 24084/24084 [07:15<00:00, 55.25it/s]\n",
      "100%|██████████| 2677/2677 [00:48<00:00, 55.75it/s]\n",
      "100%|██████████| 24084/24084 [07:18<00:00, 54.93it/s]\n",
      "100%|██████████| 2677/2677 [00:47<00:00, 56.34it/s]\n"
     ]
    }
   ],
   "source": [
    "w_alt = SimpleWeights(np.random.normal(scale=.5, size=21), 'test')\n",
    "L_alt = []\n",
    "av_L_alt = []\n",
    "acc_alt = [test(test_data, w_alt)]\n",
    "W = []\n",
    "for i in range(10):\n",
    "    w_alt, l_alt = train(train_data, w_alt, 0.001, 0.01)\n",
    "    W.append(w_alt.asList[:])\n",
    "    L_alt.append(l_alt)\n",
    "    av_L_alt.append(sum(l_alt)/len(l_alt))\n",
    "    acc_alt.append(test(test_data, w_alt))"
   ]
  },
  {
   "cell_type": "code",
   "execution_count": 19,
   "metadata": {
    "collapsed": false
   },
   "outputs": [
    {
     "name": "stderr",
     "output_type": "stream",
     "text": [
      "100%|██████████| 2677/2677 [00:53<00:00, 49.80it/s]\n",
      "100%|██████████| 24084/24084 [08:20<00:00, 48.15it/s]\n",
      "100%|██████████| 2677/2677 [00:53<00:00, 49.62it/s]\n",
      "100%|██████████| 24084/24084 [08:14<00:00, 48.69it/s]\n",
      "100%|██████████| 2677/2677 [00:55<00:00, 48.55it/s]\n",
      "  0%|          | 109/24084 [00:01<07:37, 52.43it/s]\n"
     ]
    },
    {
     "ename": "KeyboardInterrupt",
     "evalue": "",
     "output_type": "error",
     "traceback": [
      "\u001b[0;31m---------------------------------------------------------------------------\u001b[0m",
      "\u001b[0;31mKeyboardInterrupt\u001b[0m                         Traceback (most recent call last)",
      "\u001b[0;32m<ipython-input-19-ecf9ed87fe1e>\u001b[0m in \u001b[0;36m<module>\u001b[0;34m()\u001b[0m\n\u001b[1;32m      6\u001b[0m \u001b[0mW\u001b[0m \u001b[0;34m=\u001b[0m \u001b[0;34m[\u001b[0m\u001b[0;34m]\u001b[0m\u001b[0;34m\u001b[0m\u001b[0m\n\u001b[1;32m      7\u001b[0m \u001b[0;32mfor\u001b[0m \u001b[0mi\u001b[0m \u001b[0;32min\u001b[0m \u001b[0mrange\u001b[0m\u001b[0;34m(\u001b[0m\u001b[0;36m10\u001b[0m\u001b[0;34m)\u001b[0m\u001b[0;34m:\u001b[0m\u001b[0;34m\u001b[0m\u001b[0m\n\u001b[0;32m----> 8\u001b[0;31m     \u001b[0mw_alt\u001b[0m\u001b[0;34m,\u001b[0m \u001b[0ml_alt\u001b[0m \u001b[0;34m=\u001b[0m \u001b[0mtrain\u001b[0m\u001b[0;34m(\u001b[0m\u001b[0mtrain_data\u001b[0m\u001b[0;34m,\u001b[0m \u001b[0mw_alt\u001b[0m\u001b[0;34m,\u001b[0m \u001b[0;36m0.001\u001b[0m\u001b[0;34m,\u001b[0m \u001b[0;36m0.01\u001b[0m\u001b[0;34m)\u001b[0m\u001b[0;34m\u001b[0m\u001b[0m\n\u001b[0m\u001b[1;32m      9\u001b[0m     \u001b[0mW\u001b[0m\u001b[0;34m.\u001b[0m\u001b[0mappend\u001b[0m\u001b[0;34m(\u001b[0m\u001b[0mw_alt\u001b[0m\u001b[0;34m.\u001b[0m\u001b[0masList\u001b[0m\u001b[0;34m[\u001b[0m\u001b[0;34m:\u001b[0m\u001b[0;34m]\u001b[0m\u001b[0;34m)\u001b[0m\u001b[0;34m\u001b[0m\u001b[0m\n\u001b[1;32m     10\u001b[0m     \u001b[0mL_alt\u001b[0m\u001b[0;34m.\u001b[0m\u001b[0mappend\u001b[0m\u001b[0;34m(\u001b[0m\u001b[0ml_alt\u001b[0m\u001b[0;34m)\u001b[0m\u001b[0;34m\u001b[0m\u001b[0m\n",
      "\u001b[0;32m<ipython-input-17-26a7fb66f42c>\u001b[0m in \u001b[0;36mtrain\u001b[0;34m(plays, w, l, lam)\u001b[0m\n\u001b[1;32m      9\u001b[0m             \u001b[0mtemp\u001b[0m \u001b[0;34m=\u001b[0m \u001b[0mboard\u001b[0m\u001b[0;34m.\u001b[0m\u001b[0mcopy\u001b[0m\u001b[0;34m(\u001b[0m\u001b[0;34m)\u001b[0m\u001b[0;34m\u001b[0m\u001b[0m\n\u001b[1;32m     10\u001b[0m             \u001b[0;32mfor\u001b[0m \u001b[0mm\u001b[0m \u001b[0;32min\u001b[0m \u001b[0mms\u001b[0m\u001b[0;34m:\u001b[0m\u001b[0;34m\u001b[0m\u001b[0m\n\u001b[0;32m---> 11\u001b[0;31m                 \u001b[0mtemp\u001b[0m \u001b[0;34m=\u001b[0m \u001b[0mtemp\u001b[0m\u001b[0;34m.\u001b[0m\u001b[0mmove\u001b[0m\u001b[0;34m(\u001b[0m\u001b[0mt\u001b[0m\u001b[0;34m.\u001b[0m\u001b[0mplayer\u001b[0m\u001b[0;34m,\u001b[0m \u001b[0;34m*\u001b[0m\u001b[0mm\u001b[0m\u001b[0;34m)\u001b[0m\u001b[0;34m\u001b[0m\u001b[0m\n\u001b[0m\u001b[1;32m     12\u001b[0m             \u001b[0mf\u001b[0m \u001b[0;34m=\u001b[0m \u001b[0mtemp\u001b[0m\u001b[0;34m.\u001b[0m\u001b[0mfeat\u001b[0m\u001b[0;34m(\u001b[0m\u001b[0mboard\u001b[0m\u001b[0;34m,\u001b[0m \u001b[0mt\u001b[0m\u001b[0;34m.\u001b[0m\u001b[0mplayer\u001b[0m\u001b[0;34m)\u001b[0m\u001b[0;34m\u001b[0m\u001b[0m\n\u001b[1;32m     13\u001b[0m             \u001b[0;32mif\u001b[0m \u001b[0mj\u001b[0m \u001b[0;34m==\u001b[0m \u001b[0mcl\u001b[0m\u001b[0;34m:\u001b[0m\u001b[0;34m\u001b[0m\u001b[0m\n",
      "\u001b[0;32m/Users/virgileaudi/Desktop/pygammon/elements.pyc\u001b[0m in \u001b[0;36mmove\u001b[0;34m(self, col, src, dst)\u001b[0m\n\u001b[1;32m    425\u001b[0m                 \u001b[0;32mraise\u001b[0m \u001b[0mException\u001b[0m\u001b[0;34m(\u001b[0m\u001b[0;34m'Cannot move to this position, protected by opponent'\u001b[0m\u001b[0;34m)\u001b[0m\u001b[0;34m\u001b[0m\u001b[0m\n\u001b[1;32m    426\u001b[0m             \u001b[0;32melse\u001b[0m\u001b[0;34m:\u001b[0m\u001b[0;34m\u001b[0m\u001b[0m\n\u001b[0;32m--> 427\u001b[0;31m                 \u001b[0mnew\u001b[0m \u001b[0;34m=\u001b[0m \u001b[0mself\u001b[0m\u001b[0;34m.\u001b[0m\u001b[0mcopy\u001b[0m\u001b[0;34m(\u001b[0m\u001b[0;34m)\u001b[0m\u001b[0;34m\u001b[0m\u001b[0m\n\u001b[0m\u001b[1;32m    428\u001b[0m                 \u001b[0;32mif\u001b[0m \u001b[0mself\u001b[0m\u001b[0;34m.\u001b[0m\u001b[0mboard\u001b[0m\u001b[0;34m[\u001b[0m\u001b[0mdst\u001b[0m\u001b[0;34m]\u001b[0m \u001b[0;32mis\u001b[0m \u001b[0mNone\u001b[0m\u001b[0;34m:\u001b[0m\u001b[0;34m\u001b[0m\u001b[0m\n\u001b[1;32m    429\u001b[0m                     \u001b[0mnew\u001b[0m\u001b[0;34m.\u001b[0m\u001b[0mboard\u001b[0m\u001b[0;34m[\u001b[0m\u001b[0mdst\u001b[0m\u001b[0;34m]\u001b[0m \u001b[0;34m=\u001b[0m \u001b[0;34m[\u001b[0m\u001b[0mcol\u001b[0m\u001b[0;34m,\u001b[0m \u001b[0;36m1\u001b[0m\u001b[0;34m]\u001b[0m\u001b[0;34m\u001b[0m\u001b[0m\n",
      "\u001b[0;32m/Users/virgileaudi/Desktop/pygammon/elements.pyc\u001b[0m in \u001b[0;36mcopy\u001b[0;34m(self)\u001b[0m\n\u001b[1;32m    174\u001b[0m \u001b[0;34m\u001b[0m\u001b[0m\n\u001b[1;32m    175\u001b[0m     \u001b[0;32mdef\u001b[0m \u001b[0mcopy\u001b[0m\u001b[0;34m(\u001b[0m\u001b[0mself\u001b[0m\u001b[0;34m)\u001b[0m\u001b[0;34m:\u001b[0m\u001b[0;34m\u001b[0m\u001b[0m\n\u001b[0;32m--> 176\u001b[0;31m         \u001b[0mnew\u001b[0m \u001b[0;34m=\u001b[0m \u001b[0mcopy\u001b[0m\u001b[0;34m.\u001b[0m\u001b[0mdeepcopy\u001b[0m\u001b[0;34m(\u001b[0m\u001b[0mself\u001b[0m\u001b[0;34m)\u001b[0m\u001b[0;34m\u001b[0m\u001b[0m\n\u001b[0m\u001b[1;32m    177\u001b[0m         \u001b[0;32mreturn\u001b[0m \u001b[0mnew\u001b[0m\u001b[0;34m\u001b[0m\u001b[0m\n\u001b[1;32m    178\u001b[0m \u001b[0;34m\u001b[0m\u001b[0m\n",
      "\u001b[0;32m/Users/virgileaudi/anaconda/lib/python2.7/copy.pyc\u001b[0m in \u001b[0;36mdeepcopy\u001b[0;34m(x, memo, _nil)\u001b[0m\n\u001b[1;32m    161\u001b[0m     \u001b[0mcopier\u001b[0m \u001b[0;34m=\u001b[0m \u001b[0m_deepcopy_dispatch\u001b[0m\u001b[0;34m.\u001b[0m\u001b[0mget\u001b[0m\u001b[0;34m(\u001b[0m\u001b[0mcls\u001b[0m\u001b[0;34m)\u001b[0m\u001b[0;34m\u001b[0m\u001b[0m\n\u001b[1;32m    162\u001b[0m     \u001b[0;32mif\u001b[0m \u001b[0mcopier\u001b[0m\u001b[0;34m:\u001b[0m\u001b[0;34m\u001b[0m\u001b[0m\n\u001b[0;32m--> 163\u001b[0;31m         \u001b[0my\u001b[0m \u001b[0;34m=\u001b[0m \u001b[0mcopier\u001b[0m\u001b[0;34m(\u001b[0m\u001b[0mx\u001b[0m\u001b[0;34m,\u001b[0m \u001b[0mmemo\u001b[0m\u001b[0;34m)\u001b[0m\u001b[0;34m\u001b[0m\u001b[0m\n\u001b[0m\u001b[1;32m    164\u001b[0m     \u001b[0;32melse\u001b[0m\u001b[0;34m:\u001b[0m\u001b[0;34m\u001b[0m\u001b[0m\n\u001b[1;32m    165\u001b[0m         \u001b[0;32mtry\u001b[0m\u001b[0;34m:\u001b[0m\u001b[0;34m\u001b[0m\u001b[0m\n",
      "\u001b[0;32m/Users/virgileaudi/anaconda/lib/python2.7/copy.pyc\u001b[0m in \u001b[0;36m_deepcopy_inst\u001b[0;34m(x, memo)\u001b[0m\n\u001b[1;32m    296\u001b[0m     \u001b[0;32melse\u001b[0m\u001b[0;34m:\u001b[0m\u001b[0;34m\u001b[0m\u001b[0m\n\u001b[1;32m    297\u001b[0m         \u001b[0mstate\u001b[0m \u001b[0;34m=\u001b[0m \u001b[0mx\u001b[0m\u001b[0;34m.\u001b[0m\u001b[0m__dict__\u001b[0m\u001b[0;34m\u001b[0m\u001b[0m\n\u001b[0;32m--> 298\u001b[0;31m     \u001b[0mstate\u001b[0m \u001b[0;34m=\u001b[0m \u001b[0mdeepcopy\u001b[0m\u001b[0;34m(\u001b[0m\u001b[0mstate\u001b[0m\u001b[0;34m,\u001b[0m \u001b[0mmemo\u001b[0m\u001b[0;34m)\u001b[0m\u001b[0;34m\u001b[0m\u001b[0m\n\u001b[0m\u001b[1;32m    299\u001b[0m     \u001b[0;32mif\u001b[0m \u001b[0mhasattr\u001b[0m\u001b[0;34m(\u001b[0m\u001b[0my\u001b[0m\u001b[0;34m,\u001b[0m \u001b[0;34m'__setstate__'\u001b[0m\u001b[0;34m)\u001b[0m\u001b[0;34m:\u001b[0m\u001b[0;34m\u001b[0m\u001b[0m\n\u001b[1;32m    300\u001b[0m         \u001b[0my\u001b[0m\u001b[0;34m.\u001b[0m\u001b[0m__setstate__\u001b[0m\u001b[0;34m(\u001b[0m\u001b[0mstate\u001b[0m\u001b[0;34m)\u001b[0m\u001b[0;34m\u001b[0m\u001b[0m\n",
      "\u001b[0;32m/Users/virgileaudi/anaconda/lib/python2.7/copy.pyc\u001b[0m in \u001b[0;36mdeepcopy\u001b[0;34m(x, memo, _nil)\u001b[0m\n\u001b[1;32m    161\u001b[0m     \u001b[0mcopier\u001b[0m \u001b[0;34m=\u001b[0m \u001b[0m_deepcopy_dispatch\u001b[0m\u001b[0;34m.\u001b[0m\u001b[0mget\u001b[0m\u001b[0;34m(\u001b[0m\u001b[0mcls\u001b[0m\u001b[0;34m)\u001b[0m\u001b[0;34m\u001b[0m\u001b[0m\n\u001b[1;32m    162\u001b[0m     \u001b[0;32mif\u001b[0m \u001b[0mcopier\u001b[0m\u001b[0;34m:\u001b[0m\u001b[0;34m\u001b[0m\u001b[0m\n\u001b[0;32m--> 163\u001b[0;31m         \u001b[0my\u001b[0m \u001b[0;34m=\u001b[0m \u001b[0mcopier\u001b[0m\u001b[0;34m(\u001b[0m\u001b[0mx\u001b[0m\u001b[0;34m,\u001b[0m \u001b[0mmemo\u001b[0m\u001b[0;34m)\u001b[0m\u001b[0;34m\u001b[0m\u001b[0m\n\u001b[0m\u001b[1;32m    164\u001b[0m     \u001b[0;32melse\u001b[0m\u001b[0;34m:\u001b[0m\u001b[0;34m\u001b[0m\u001b[0m\n\u001b[1;32m    165\u001b[0m         \u001b[0;32mtry\u001b[0m\u001b[0;34m:\u001b[0m\u001b[0;34m\u001b[0m\u001b[0m\n",
      "\u001b[0;32m/Users/virgileaudi/anaconda/lib/python2.7/copy.pyc\u001b[0m in \u001b[0;36m_deepcopy_dict\u001b[0;34m(x, memo)\u001b[0m\n\u001b[1;32m    255\u001b[0m     \u001b[0mmemo\u001b[0m\u001b[0;34m[\u001b[0m\u001b[0mid\u001b[0m\u001b[0;34m(\u001b[0m\u001b[0mx\u001b[0m\u001b[0;34m)\u001b[0m\u001b[0;34m]\u001b[0m \u001b[0;34m=\u001b[0m \u001b[0my\u001b[0m\u001b[0;34m\u001b[0m\u001b[0m\n\u001b[1;32m    256\u001b[0m     \u001b[0;32mfor\u001b[0m \u001b[0mkey\u001b[0m\u001b[0;34m,\u001b[0m \u001b[0mvalue\u001b[0m \u001b[0;32min\u001b[0m \u001b[0mx\u001b[0m\u001b[0;34m.\u001b[0m\u001b[0miteritems\u001b[0m\u001b[0;34m(\u001b[0m\u001b[0;34m)\u001b[0m\u001b[0;34m:\u001b[0m\u001b[0;34m\u001b[0m\u001b[0m\n\u001b[0;32m--> 257\u001b[0;31m         \u001b[0my\u001b[0m\u001b[0;34m[\u001b[0m\u001b[0mdeepcopy\u001b[0m\u001b[0;34m(\u001b[0m\u001b[0mkey\u001b[0m\u001b[0;34m,\u001b[0m \u001b[0mmemo\u001b[0m\u001b[0;34m)\u001b[0m\u001b[0;34m]\u001b[0m \u001b[0;34m=\u001b[0m \u001b[0mdeepcopy\u001b[0m\u001b[0;34m(\u001b[0m\u001b[0mvalue\u001b[0m\u001b[0;34m,\u001b[0m \u001b[0mmemo\u001b[0m\u001b[0;34m)\u001b[0m\u001b[0;34m\u001b[0m\u001b[0m\n\u001b[0m\u001b[1;32m    258\u001b[0m     \u001b[0;32mreturn\u001b[0m \u001b[0my\u001b[0m\u001b[0;34m\u001b[0m\u001b[0m\n\u001b[1;32m    259\u001b[0m \u001b[0md\u001b[0m\u001b[0;34m[\u001b[0m\u001b[0mdict\u001b[0m\u001b[0;34m]\u001b[0m \u001b[0;34m=\u001b[0m \u001b[0m_deepcopy_dict\u001b[0m\u001b[0;34m\u001b[0m\u001b[0m\n",
      "\u001b[0;31mKeyboardInterrupt\u001b[0m: "
     ]
    }
   ],
   "source": [
    "## With extend features:\n",
    "w_alt = SimpleWeights(np.random.normal(scale=.5, size=41), True, 'test')\n",
    "L_alt = []\n",
    "av_L_alt = []\n",
    "acc_alt = [test(test_data, w_alt)]\n",
    "W = []\n",
    "for i in range(10):\n",
    "    w_alt, l_alt = train(train_data, w_alt, 0.001, 0.01)\n",
    "    W.append(w_alt.asList[:])\n",
    "    L_alt.append(l_alt)\n",
    "    av_L_alt.append(sum(l_alt)/len(l_alt))\n",
    "    acc_alt.append(test(test_data, w_alt))"
   ]
  },
  {
   "cell_type": "code",
   "execution_count": 21,
   "metadata": {
    "collapsed": false
   },
   "outputs": [
    {
     "name": "stderr",
     "output_type": "stream",
     "text": [
      "100%|██████████| 24084/24084 [08:18<00:00, 48.28it/s]\n",
      "100%|██████████| 2677/2677 [00:53<00:00, 49.60it/s]\n",
      "100%|██████████| 24084/24084 [08:16<00:00, 48.47it/s]\n",
      "100%|██████████| 2677/2677 [00:54<00:00, 49.32it/s]\n",
      "100%|██████████| 24084/24084 [08:16<00:00, 48.52it/s]\n",
      "100%|██████████| 2677/2677 [00:53<00:00, 49.73it/s]\n",
      "100%|██████████| 24084/24084 [08:16<00:00, 48.51it/s]\n",
      "100%|██████████| 2677/2677 [00:53<00:00, 69.20it/s]\n",
      "100%|██████████| 24084/24084 [08:16<00:00, 48.52it/s]\n",
      "100%|██████████| 2677/2677 [00:54<00:00, 49.27it/s]\n",
      "100%|██████████| 24084/24084 [08:17<00:00, 48.41it/s]\n",
      "100%|██████████| 2677/2677 [00:54<00:00, 49.43it/s]\n",
      "100%|██████████| 24084/24084 [08:18<00:00, 48.35it/s]\n",
      "100%|██████████| 2677/2677 [00:53<00:00, 69.07it/s]\n",
      "100%|██████████| 24084/24084 [08:18<00:00, 48.33it/s]\n",
      "100%|██████████| 2677/2677 [00:53<00:00, 49.62it/s]\n"
     ]
    }
   ],
   "source": [
    "for i in range(8):\n",
    "    w_alt, l_alt = train(train_data, w_alt, 0.001, 0.01)\n",
    "    W.append(w_alt.asList[:])\n",
    "    L_alt.append(l_alt)\n",
    "    av_L_alt.append(sum(l_alt)/len(l_alt))\n",
    "    acc_alt.append(test(test_data, w_alt))"
   ]
  },
  {
   "cell_type": "code",
   "execution_count": 23,
   "metadata": {
    "collapsed": false
   },
   "outputs": [
    {
     "name": "stderr",
     "output_type": "stream",
     "text": [
      "100%|██████████| 24084/24084 [08:16<00:00, 48.49it/s]\n",
      "100%|██████████| 2677/2677 [00:54<00:00, 49.41it/s]\n",
      "100%|██████████| 24084/24084 [08:16<00:00, 48.54it/s]\n",
      "100%|██████████| 2677/2677 [00:54<00:00, 70.22it/s]\n"
     ]
    }
   ],
   "source": [
    "for i in range(2):\n",
    "    w_alt, l_alt = train(train_data, w_alt, 0.001, 0.01)\n",
    "    W.append(w_alt.asList[:])\n",
    "    L_alt.append(l_alt)\n",
    "    av_L_alt.append(sum(l_alt)/len(l_alt))\n",
    "    acc_alt.append(test(test_data, w_alt))"
   ]
  },
  {
   "cell_type": "code",
   "execution_count": 13,
   "metadata": {
    "collapsed": false
   },
   "outputs": [
    {
     "data": {
      "text/plain": [
       "test: [  9.62455477   0.09668296 -27.34340147  -3.22164878  -7.27608439\n",
       "  -9.72351982  -0.19527862  -1.08688916  -1.60798766  -1.78691726\n",
       "  -1.56083934  -0.26288467  -0.23365212  -1.38256598  -0.98080718\n",
       "  -1.62166035  -0.23950076  -0.0324529   -2.73831382  -1.15451162\n",
       "  -0.25372656]"
      ]
     },
     "execution_count": 13,
     "metadata": {},
     "output_type": "execute_result"
    }
   ],
   "source": [
    "w_alt"
   ]
  },
  {
   "cell_type": "code",
   "execution_count": 38,
   "metadata": {
    "collapsed": false
   },
   "outputs": [
    {
     "data": {
      "text/plain": [
       "[array([  1.03187376e+01,   1.33864025e-03,  -2.87633955e+01,\n",
       "         -3.26934708e+00,  -7.51602150e+00,  -1.00902230e+01,\n",
       "         -1.06263985e-01,  -1.21158135e+00,  -1.55798157e+00,\n",
       "         -1.85180477e+00,  -1.56322345e+00,  -2.84995572e-01,\n",
       "         -2.33449584e-01,  -1.50790364e+00,  -9.71239028e-01,\n",
       "         -1.49373157e+00,  -2.47341970e-01,  -3.48778320e-02,\n",
       "         -2.81995292e+00,  -1.12207558e+00,  -2.48279176e-01,\n",
       "         -3.73703075e-02,  -5.37601249e+01,  -4.61645303e+00,\n",
       "         -1.78163876e+01,  -1.39849459e+01,  -5.92282166e-02,\n",
       "         -5.24370126e+00,  -4.68487123e+00,  -4.09489728e+00,\n",
       "         -2.25844201e+00,   4.11296843e-02,  -1.98053380e+00,\n",
       "         -2.55973310e+00,  -2.02988935e+00,  -2.31795501e+00,\n",
       "         -2.77248328e-02,  -6.01559147e-01,  -3.58443604e+00,\n",
       "         -3.10603279e+00,  -7.09304609e-01]),\n",
       " array([  1.03187376e+01,   1.33864025e-03,  -2.87633955e+01,\n",
       "         -3.26934708e+00,  -7.51602150e+00,  -1.00902230e+01,\n",
       "         -1.06263985e-01,  -1.21158135e+00,  -1.55798157e+00,\n",
       "         -1.85180477e+00,  -1.56322345e+00,  -2.84995572e-01,\n",
       "         -2.33449584e-01,  -1.50790364e+00,  -9.71239028e-01,\n",
       "         -1.49373157e+00,  -2.47341970e-01,  -3.48778320e-02,\n",
       "         -2.81995292e+00,  -1.12207558e+00,  -2.48279176e-01,\n",
       "         -3.73703075e-02,  -5.37601249e+01,  -4.61645303e+00,\n",
       "         -1.78163876e+01,  -1.39849459e+01,  -5.92282166e-02,\n",
       "         -5.24370126e+00,  -4.68487123e+00,  -4.09489728e+00,\n",
       "         -2.25844201e+00,   4.11296843e-02,  -1.98053380e+00,\n",
       "         -2.55973310e+00,  -2.02988935e+00,  -2.31795501e+00,\n",
       "         -2.77248328e-02,  -6.01559147e-01,  -3.58443604e+00,\n",
       "         -3.10603279e+00,  -7.09304609e-01]),\n",
       " array([  1.03187376e+01,   1.33864025e-03,  -2.87633955e+01,\n",
       "         -3.26934708e+00,  -7.51602150e+00,  -1.00902230e+01,\n",
       "         -1.06263985e-01,  -1.21158135e+00,  -1.55798157e+00,\n",
       "         -1.85180477e+00,  -1.56322345e+00,  -2.84995572e-01,\n",
       "         -2.33449584e-01,  -1.50790364e+00,  -9.71239028e-01,\n",
       "         -1.49373157e+00,  -2.47341970e-01,  -3.48778320e-02,\n",
       "         -2.81995292e+00,  -1.12207558e+00,  -2.48279176e-01,\n",
       "         -3.73703075e-02,  -5.37601249e+01,  -4.61645303e+00,\n",
       "         -1.78163876e+01,  -1.39849459e+01,  -5.92282166e-02,\n",
       "         -5.24370126e+00,  -4.68487123e+00,  -4.09489728e+00,\n",
       "         -2.25844201e+00,   4.11296843e-02,  -1.98053380e+00,\n",
       "         -2.55973310e+00,  -2.02988935e+00,  -2.31795501e+00,\n",
       "         -2.77248328e-02,  -6.01559147e-01,  -3.58443604e+00,\n",
       "         -3.10603279e+00,  -7.09304609e-01]),\n",
       " array([  1.03187376e+01,   1.33864025e-03,  -2.87633955e+01,\n",
       "         -3.26934708e+00,  -7.51602150e+00,  -1.00902230e+01,\n",
       "         -1.06263985e-01,  -1.21158135e+00,  -1.55798157e+00,\n",
       "         -1.85180477e+00,  -1.56322345e+00,  -2.84995572e-01,\n",
       "         -2.33449584e-01,  -1.50790364e+00,  -9.71239028e-01,\n",
       "         -1.49373157e+00,  -2.47341970e-01,  -3.48778320e-02,\n",
       "         -2.81995292e+00,  -1.12207558e+00,  -2.48279176e-01,\n",
       "         -3.73703075e-02,  -5.37601249e+01,  -4.61645303e+00,\n",
       "         -1.78163876e+01,  -1.39849459e+01,  -5.92282166e-02,\n",
       "         -5.24370126e+00,  -4.68487123e+00,  -4.09489728e+00,\n",
       "         -2.25844201e+00,   4.11296843e-02,  -1.98053380e+00,\n",
       "         -2.55973310e+00,  -2.02988935e+00,  -2.31795501e+00,\n",
       "         -2.77248328e-02,  -6.01559147e-01,  -3.58443604e+00,\n",
       "         -3.10603279e+00,  -7.09304609e-01]),\n",
       " array([  1.03187376e+01,   1.33864025e-03,  -2.87633955e+01,\n",
       "         -3.26934708e+00,  -7.51602150e+00,  -1.00902230e+01,\n",
       "         -1.06263985e-01,  -1.21158135e+00,  -1.55798157e+00,\n",
       "         -1.85180477e+00,  -1.56322345e+00,  -2.84995572e-01,\n",
       "         -2.33449584e-01,  -1.50790364e+00,  -9.71239028e-01,\n",
       "         -1.49373157e+00,  -2.47341970e-01,  -3.48778320e-02,\n",
       "         -2.81995292e+00,  -1.12207558e+00,  -2.48279176e-01,\n",
       "         -3.73703075e-02,  -5.37601249e+01,  -4.61645303e+00,\n",
       "         -1.78163876e+01,  -1.39849459e+01,  -5.92282166e-02,\n",
       "         -5.24370126e+00,  -4.68487123e+00,  -4.09489728e+00,\n",
       "         -2.25844201e+00,   4.11296843e-02,  -1.98053380e+00,\n",
       "         -2.55973310e+00,  -2.02988935e+00,  -2.31795501e+00,\n",
       "         -2.77248328e-02,  -6.01559147e-01,  -3.58443604e+00,\n",
       "         -3.10603279e+00,  -7.09304609e-01]),\n",
       " array([  1.03187376e+01,   1.33864025e-03,  -2.87633955e+01,\n",
       "         -3.26934708e+00,  -7.51602150e+00,  -1.00902230e+01,\n",
       "         -1.06263985e-01,  -1.21158135e+00,  -1.55798157e+00,\n",
       "         -1.85180477e+00,  -1.56322345e+00,  -2.84995572e-01,\n",
       "         -2.33449584e-01,  -1.50790364e+00,  -9.71239028e-01,\n",
       "         -1.49373157e+00,  -2.47341970e-01,  -3.48778320e-02,\n",
       "         -2.81995292e+00,  -1.12207558e+00,  -2.48279176e-01,\n",
       "         -3.73703075e-02,  -5.37601249e+01,  -4.61645303e+00,\n",
       "         -1.78163876e+01,  -1.39849459e+01,  -5.92282166e-02,\n",
       "         -5.24370126e+00,  -4.68487123e+00,  -4.09489728e+00,\n",
       "         -2.25844201e+00,   4.11296843e-02,  -1.98053380e+00,\n",
       "         -2.55973310e+00,  -2.02988935e+00,  -2.31795501e+00,\n",
       "         -2.77248328e-02,  -6.01559147e-01,  -3.58443604e+00,\n",
       "         -3.10603279e+00,  -7.09304609e-01]),\n",
       " array([  1.03187376e+01,   1.33864025e-03,  -2.87633955e+01,\n",
       "         -3.26934708e+00,  -7.51602150e+00,  -1.00902230e+01,\n",
       "         -1.06263985e-01,  -1.21158135e+00,  -1.55798157e+00,\n",
       "         -1.85180477e+00,  -1.56322345e+00,  -2.84995572e-01,\n",
       "         -2.33449584e-01,  -1.50790364e+00,  -9.71239028e-01,\n",
       "         -1.49373157e+00,  -2.47341970e-01,  -3.48778320e-02,\n",
       "         -2.81995292e+00,  -1.12207558e+00,  -2.48279176e-01,\n",
       "         -3.73703075e-02,  -5.37601249e+01,  -4.61645303e+00,\n",
       "         -1.78163876e+01,  -1.39849459e+01,  -5.92282166e-02,\n",
       "         -5.24370126e+00,  -4.68487123e+00,  -4.09489728e+00,\n",
       "         -2.25844201e+00,   4.11296843e-02,  -1.98053380e+00,\n",
       "         -2.55973310e+00,  -2.02988935e+00,  -2.31795501e+00,\n",
       "         -2.77248328e-02,  -6.01559147e-01,  -3.58443604e+00,\n",
       "         -3.10603279e+00,  -7.09304609e-01]),\n",
       " array([  1.03187376e+01,   1.33864025e-03,  -2.87633955e+01,\n",
       "         -3.26934708e+00,  -7.51602150e+00,  -1.00902230e+01,\n",
       "         -1.06263985e-01,  -1.21158135e+00,  -1.55798157e+00,\n",
       "         -1.85180477e+00,  -1.56322345e+00,  -2.84995572e-01,\n",
       "         -2.33449584e-01,  -1.50790364e+00,  -9.71239028e-01,\n",
       "         -1.49373157e+00,  -2.47341970e-01,  -3.48778320e-02,\n",
       "         -2.81995292e+00,  -1.12207558e+00,  -2.48279176e-01,\n",
       "         -3.73703075e-02,  -5.37601249e+01,  -4.61645303e+00,\n",
       "         -1.78163876e+01,  -1.39849459e+01,  -5.92282166e-02,\n",
       "         -5.24370126e+00,  -4.68487123e+00,  -4.09489728e+00,\n",
       "         -2.25844201e+00,   4.11296843e-02,  -1.98053380e+00,\n",
       "         -2.55973310e+00,  -2.02988935e+00,  -2.31795501e+00,\n",
       "         -2.77248328e-02,  -6.01559147e-01,  -3.58443604e+00,\n",
       "         -3.10603279e+00,  -7.09304609e-01]),\n",
       " array([  1.03187376e+01,   1.33864025e-03,  -2.87633955e+01,\n",
       "         -3.26934708e+00,  -7.51602150e+00,  -1.00902230e+01,\n",
       "         -1.06263985e-01,  -1.21158135e+00,  -1.55798157e+00,\n",
       "         -1.85180477e+00,  -1.56322345e+00,  -2.84995572e-01,\n",
       "         -2.33449584e-01,  -1.50790364e+00,  -9.71239028e-01,\n",
       "         -1.49373157e+00,  -2.47341970e-01,  -3.48778320e-02,\n",
       "         -2.81995292e+00,  -1.12207558e+00,  -2.48279176e-01,\n",
       "         -3.73703075e-02,  -5.37601249e+01,  -4.61645303e+00,\n",
       "         -1.78163876e+01,  -1.39849459e+01,  -5.92282166e-02,\n",
       "         -5.24370126e+00,  -4.68487123e+00,  -4.09489728e+00,\n",
       "         -2.25844201e+00,   4.11296843e-02,  -1.98053380e+00,\n",
       "         -2.55973310e+00,  -2.02988935e+00,  -2.31795501e+00,\n",
       "         -2.77248328e-02,  -6.01559147e-01,  -3.58443604e+00,\n",
       "         -3.10603279e+00,  -7.09304609e-01]),\n",
       " array([  1.03187376e+01,   1.33864025e-03,  -2.87633955e+01,\n",
       "         -3.26934708e+00,  -7.51602150e+00,  -1.00902230e+01,\n",
       "         -1.06263985e-01,  -1.21158135e+00,  -1.55798157e+00,\n",
       "         -1.85180477e+00,  -1.56322345e+00,  -2.84995572e-01,\n",
       "         -2.33449584e-01,  -1.50790364e+00,  -9.71239028e-01,\n",
       "         -1.49373157e+00,  -2.47341970e-01,  -3.48778320e-02,\n",
       "         -2.81995292e+00,  -1.12207558e+00,  -2.48279176e-01,\n",
       "         -3.73703075e-02,  -5.37601249e+01,  -4.61645303e+00,\n",
       "         -1.78163876e+01,  -1.39849459e+01,  -5.92282166e-02,\n",
       "         -5.24370126e+00,  -4.68487123e+00,  -4.09489728e+00,\n",
       "         -2.25844201e+00,   4.11296843e-02,  -1.98053380e+00,\n",
       "         -2.55973310e+00,  -2.02988935e+00,  -2.31795501e+00,\n",
       "         -2.77248328e-02,  -6.01559147e-01,  -3.58443604e+00,\n",
       "         -3.10603279e+00,  -7.09304609e-01]),\n",
       " array([  1.03187376e+01,   1.33864025e-03,  -2.87633955e+01,\n",
       "         -3.26934708e+00,  -7.51602150e+00,  -1.00902230e+01,\n",
       "         -1.06263985e-01,  -1.21158135e+00,  -1.55798157e+00,\n",
       "         -1.85180477e+00,  -1.56322345e+00,  -2.84995572e-01,\n",
       "         -2.33449584e-01,  -1.50790364e+00,  -9.71239028e-01,\n",
       "         -1.49373157e+00,  -2.47341970e-01,  -3.48778320e-02,\n",
       "         -2.81995292e+00,  -1.12207558e+00,  -2.48279176e-01,\n",
       "         -3.73703075e-02,  -5.37601249e+01,  -4.61645303e+00,\n",
       "         -1.78163876e+01,  -1.39849459e+01,  -5.92282166e-02,\n",
       "         -5.24370126e+00,  -4.68487123e+00,  -4.09489728e+00,\n",
       "         -2.25844201e+00,   4.11296843e-02,  -1.98053380e+00,\n",
       "         -2.55973310e+00,  -2.02988935e+00,  -2.31795501e+00,\n",
       "         -2.77248328e-02,  -6.01559147e-01,  -3.58443604e+00,\n",
       "         -3.10603279e+00,  -7.09304609e-01]),\n",
       " array([  1.03187376e+01,   1.33864025e-03,  -2.87633955e+01,\n",
       "         -3.26934708e+00,  -7.51602150e+00,  -1.00902230e+01,\n",
       "         -1.06263985e-01,  -1.21158135e+00,  -1.55798157e+00,\n",
       "         -1.85180477e+00,  -1.56322345e+00,  -2.84995572e-01,\n",
       "         -2.33449584e-01,  -1.50790364e+00,  -9.71239028e-01,\n",
       "         -1.49373157e+00,  -2.47341970e-01,  -3.48778320e-02,\n",
       "         -2.81995292e+00,  -1.12207558e+00,  -2.48279176e-01,\n",
       "         -3.73703075e-02,  -5.37601249e+01,  -4.61645303e+00,\n",
       "         -1.78163876e+01,  -1.39849459e+01,  -5.92282166e-02,\n",
       "         -5.24370126e+00,  -4.68487123e+00,  -4.09489728e+00,\n",
       "         -2.25844201e+00,   4.11296843e-02,  -1.98053380e+00,\n",
       "         -2.55973310e+00,  -2.02988935e+00,  -2.31795501e+00,\n",
       "         -2.77248328e-02,  -6.01559147e-01,  -3.58443604e+00,\n",
       "         -3.10603279e+00,  -7.09304609e-01])]"
      ]
     },
     "execution_count": 38,
     "metadata": {},
     "output_type": "execute_result"
    }
   ],
   "source": [
    "W"
   ]
  },
  {
   "cell_type": "code",
   "execution_count": 34,
   "metadata": {
    "collapsed": false
   },
   "outputs": [
    {
     "data": {
      "image/png": "[encoded data removed]",
      "text/plain": [
       "<matplotlib.figure.Figure at 0x1285a3090>"
      ]
     },
     "metadata": {},
     "output_type": "display_data"
    }
   ],
   "source": [
    "plt.plot(acc_alt)\n",
    "plt.xlabel('Epochs')\n",
    "plt.ylabel('Percentage')\n",
    "plt.show()"
   ]
  },
  {
   "cell_type": "code",
   "execution_count": 25,
   "metadata": {
    "collapsed": true
   },
   "outputs": [],
   "source": [
    "with open('data/acc_long_feat.pkl', 'w') as f:\n",
    "    pickle.dump(acc_alt, f)"
   ]
  },
  {
   "cell_type": "code",
   "execution_count": 26,
   "metadata": {
    "collapsed": true
   },
   "outputs": [],
   "source": [
    "with open('data/W_long.pkl', 'w') as f:\n",
    "    pickle.dump(W, f)"
   ]
  },
  {
   "cell_type": "code",
   "execution_count": 27,
   "metadata": {
    "collapsed": true
   },
   "outputs": [],
   "source": [
    "with open('data/logistic_long.pkl', 'w') as f:\n",
    "    pickle.dump(w_alt, f)"
   ]
  },
  {
   "cell_type": "code",
   "execution_count": null,
   "metadata": {
    "collapsed": true
   },
   "outputs": [],
   "source": []
  }
 ],
 "metadata": {
  "kernelspec": {
   "display_name": "Python 2",
   "language": "python",
   "name": "python2"
  },
  "language_info": {
   "codemirror_mode": {
    "name": "ipython",
    "version": 2
   },
   "file_extension": ".py",
   "mimetype": "text/x-python",
   "name": "python",
   "nbconvert_exporter": "python",
   "pygments_lexer": "ipython2",
   "version": "2.7.12"
  }
 },
 "nbformat": 4,
 "nbformat_minor": 0
}
