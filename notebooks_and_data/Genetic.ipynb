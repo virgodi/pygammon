{
 "cells": [
  {
   "cell_type": "code",
   "execution_count": 1,
   "metadata": {
    "collapsed": false
   },
   "outputs": [],
   "source": [
    "%load_ext autoreload\n",
    "%autoreload 2"
   ]
  },
  {
   "cell_type": "code",
   "execution_count": 2,
   "metadata": {
    "collapsed": true
   },
   "outputs": [],
   "source": [
    "import numpy as np\n",
    "import pickle\n",
    "from backgammon import *\n",
    "from elements import *\n",
    "from tqdm import tqdm\n",
    "from ai_strategies import *\n",
    "import random"
   ]
  },
  {
   "cell_type": "code",
   "execution_count": 3,
   "metadata": {
    "collapsed": true
   },
   "outputs": [],
   "source": [
    "with open('data/testing.pkl', 'r') as f:\n",
    "    test_data = pickle.load(f)\n",
    "\n",
    "def test(plays, w):\n",
    "    pos = 0 \n",
    "    c = 0\n",
    "    for p in tqdm(plays):\n",
    "        board, t, poss_moves, cl, moves = p\n",
    "        if len(poss_moves)<=1:\n",
    "            continue\n",
    "        c+=1\n",
    "        probs = []\n",
    "        for j, ms in enumerate(poss_moves):\n",
    "            temp = board.copy()\n",
    "            for m in ms:\n",
    "                temp = temp.move(t.player, *m)\n",
    "            f = temp.feat(board, t.player)\n",
    "            if j == cl:\n",
    "                f_j = f\n",
    "            probs.append(score(w, f))\n",
    "        probs = softmax(probs)\n",
    "        if probs[cl] == max(probs): \n",
    "            pos+=1\n",
    "    return float(pos)/c\n",
    "\n",
    "def softmax(s):\n",
    "    num = [np.exp(s[i])+0.00001 for i in range(len(s))]\n",
    "    return [x/sum(num) for x in num]"
   ]
  },
  {
   "cell_type": "code",
   "execution_count": 19,
   "metadata": {
    "collapsed": true
   },
   "outputs": [],
   "source": [
    "def play_n(champion, challenger, n, show=False):\n",
    "    champ_score = 0\n",
    "    chal_score = 0\n",
    "    while champ_score<n and chal_score<n:\n",
    "        col, winner_strat, mars = Game().computer_vs_computer_play(champion, challenger, False)\n",
    "        if winner_strat.name == champion.name:\n",
    "            if mars:\n",
    "                champ_score+=2\n",
    "            else:\n",
    "                champ_score+=1\n",
    "        elif winner_strat.name == challenger.name:\n",
    "            if mars:\n",
    "                chal_score+=2\n",
    "            else:\n",
    "                chal_score+=1\n",
    "    if show:\n",
    "        print 'Champ: {}'.format(champ_score)\n",
    "        print 'Chal: {}'.format(chal_score)\n",
    "    if champ_score >= n:\n",
    "        return 1, abs(champ_score-chal_score)\n",
    "    else:\n",
    "        return 0, abs(champ_score-chal_score)\n",
    "\n",
    "def generate_new_challenger(champion):\n",
    "    new_w = champion.asList[:]\n",
    "    for i in range(len(new_w)):\n",
    "        new_w[i] += random.uniform(-0.5,0.5)\n",
    "    return SimpleWeights(new_w, True,'challenger')\n",
    "\n",
    "def genetic_udpate(init_champion, alpha, rounds, max_champ, max_it, past=None):\n",
    "    if past is None:\n",
    "        champions=[init_champion]\n",
    "        l = 0\n",
    "    else:\n",
    "        champions = past\n",
    "        l=len(champions)\n",
    "    it = 0\n",
    "    n_champs = 0\n",
    "    killer_tour = 0\n",
    "    changes = []\n",
    "    c = 0\n",
    "    while n_champs<max_champ and it<max_it:\n",
    "        it+=1\n",
    "        if it % 25 == 0 and it>0:\n",
    "            print \"{} iterations passed...\".format(it)\n",
    "        challenger = generate_new_challenger(champions[-1])\n",
    "        res, diff = play_n(champions[-1], challenger, rounds)\n",
    "        if it % 500 == 0:\n",
    "            changes.append(float(c)/500)\n",
    "            c=0\n",
    "        if res == 1:\n",
    "            continue\n",
    "        elif res == 0:\n",
    "#             print \"We are getting a new Champion !\"\n",
    "            n_champs+=1\n",
    "            c+=1\n",
    "            a = alpha\n",
    "            if diff >= rounds/2:\n",
    "                a*=2\n",
    "            new_champ_weights = [(1-a)*w[0]+a*w[1] for w in zip(champions[-1].asList, challenger.asList)]\n",
    "            champions.append(SimpleWeights(new_champ_weights, True, 'champion_{}'.format(l+n_champs)))\n",
    "    return champions, changes"
   ]
  },
  {
   "cell_type": "code",
   "execution_count": 5,
   "metadata": {
    "collapsed": true
   },
   "outputs": [],
   "source": [
    "champion_21 = logistic.copy()"
   ]
  },
  {
   "cell_type": "code",
   "execution_count": 20,
   "metadata": {
    "collapsed": false
   },
   "outputs": [
    {
     "name": "stdout",
     "output_type": "stream",
     "text": [
      "25 iterations passed...\n",
      "50 iterations passed...\n",
      "75 iterations passed...\n",
      "100 iterations passed...\n",
      "125 iterations passed...\n",
      "150 iterations passed...\n",
      "175 iterations passed...\n",
      "200 iterations passed...\n",
      "225 iterations passed...\n",
      "250 iterations passed...\n",
      "275 iterations passed...\n",
      "300 iterations passed...\n",
      "325 iterations passed...\n",
      "350 iterations passed...\n",
      "375 iterations passed...\n",
      "400 iterations passed...\n",
      "425 iterations passed...\n",
      "450 iterations passed...\n",
      "475 iterations passed...\n",
      "500 iterations passed...\n",
      "525 iterations passed...\n",
      "550 iterations passed...\n",
      "575 iterations passed...\n",
      "600 iterations passed...\n",
      "625 iterations passed...\n",
      "650 iterations passed...\n",
      "675 iterations passed...\n",
      "700 iterations passed...\n",
      "725 iterations passed...\n",
      "750 iterations passed...\n",
      "775 iterations passed...\n",
      "800 iterations passed...\n",
      "825 iterations passed...\n",
      "850 iterations passed...\n",
      "875 iterations passed...\n",
      "900 iterations passed...\n",
      "925 iterations passed...\n",
      "950 iterations passed...\n",
      "975 iterations passed...\n",
      "1000 iterations passed...\n"
     ]
    }
   ],
   "source": [
    "champs_21, changes = genetic_udpate(champion_21, 0.1, 15, float(\"inf\"), 1000, champs_21)"
   ]
  },
  {
   "cell_type": "code",
   "execution_count": 21,
   "metadata": {
    "collapsed": false
   },
   "outputs": [
    {
     "name": "stdout",
     "output_type": "stream",
     "text": [
      "Champ: 21\n",
      "Chal: 11\n"
     ]
    },
    {
     "data": {
      "text/plain": [
       "(1, 10)"
      ]
     },
     "execution_count": 21,
     "metadata": {},
     "output_type": "execute_result"
    }
   ],
   "source": [
    "play_n(champs_21[-1], logistic, 21, True)"
   ]
  },
  {
   "cell_type": "code",
   "execution_count": 18,
   "metadata": {
    "collapsed": false
   },
   "outputs": [
    {
     "data": {
      "text/plain": [
       "[]"
      ]
     },
     "execution_count": 18,
     "metadata": {},
     "output_type": "execute_result"
    }
   ],
   "source": [
    "changes"
   ]
  },
  {
   "cell_type": "code",
   "execution_count": 22,
   "metadata": {
    "collapsed": false
   },
   "outputs": [
    {
     "name": "stderr",
     "output_type": "stream",
     "text": [
      "100%|██████████| 2677/2677 [00:53<00:00, 49.97it/s]\n"
     ]
    },
    {
     "data": {
      "text/plain": [
       "0.6855713094245204"
      ]
     },
     "execution_count": 22,
     "metadata": {},
     "output_type": "execute_result"
    }
   ],
   "source": [
    "test(test_data, champs_21[-1])"
   ]
  },
  {
   "cell_type": "code",
   "execution_count": 23,
   "metadata": {
    "collapsed": true
   },
   "outputs": [],
   "source": [
    "with open('data/champs_genetic_21.pkl', 'w') as f:\n",
    "    pickle.dump(champs_21, f)"
   ]
  },
  {
   "cell_type": "markdown",
   "metadata": {},
   "source": [
    "# NEW FEAT"
   ]
  },
  {
   "cell_type": "code",
   "execution_count": 25,
   "metadata": {
    "collapsed": true
   },
   "outputs": [],
   "source": [
    "loglong = logistic_long.copy()"
   ]
  },
  {
   "cell_type": "code",
   "execution_count": 26,
   "metadata": {
    "collapsed": false
   },
   "outputs": [],
   "source": [
    "champs_41 = [loglong] "
   ]
  },
  {
   "cell_type": "code",
   "execution_count": 34,
   "metadata": {
    "collapsed": false
   },
   "outputs": [
    {
     "name": "stdout",
     "output_type": "stream",
     "text": [
      "25 iterations passed...\n",
      "50 iterations passed...\n",
      "75 iterations passed...\n",
      "100 iterations passed...\n",
      "125 iterations passed...\n",
      "150 iterations passed...\n",
      "175 iterations passed...\n",
      "200 iterations passed...\n",
      "225 iterations passed...\n",
      "250 iterations passed...\n",
      "275 iterations passed...\n",
      "300 iterations passed...\n",
      "325 iterations passed...\n",
      "350 iterations passed...\n",
      "375 iterations passed...\n",
      "400 iterations passed...\n",
      "425 iterations passed...\n",
      "450 iterations passed...\n",
      "475 iterations passed...\n",
      "500 iterations passed...\n",
      "525 iterations passed...\n",
      "550 iterations passed...\n",
      "575 iterations passed...\n",
      "600 iterations passed...\n",
      "625 iterations passed...\n",
      "650 iterations passed...\n",
      "675 iterations passed...\n",
      "700 iterations passed...\n",
      "725 iterations passed...\n",
      "750 iterations passed...\n",
      "775 iterations passed...\n",
      "800 iterations passed...\n",
      "825 iterations passed...\n",
      "850 iterations passed...\n",
      "875 iterations passed...\n",
      "900 iterations passed...\n",
      "925 iterations passed...\n",
      "950 iterations passed...\n",
      "975 iterations passed...\n",
      "1000 iterations passed...\n"
     ]
    }
   ],
   "source": [
    "champs_41, changes_41 = genetic_udpate(loglong, 0.1, 12, float(\"inf\"), 1000, champs_41)"
   ]
  },
  {
   "cell_type": "code",
   "execution_count": 35,
   "metadata": {
    "collapsed": false
   },
   "outputs": [
    {
     "name": "stdout",
     "output_type": "stream",
     "text": [
      "25 iterations passed...\n",
      "50 iterations passed...\n",
      "75 iterations passed...\n",
      "100 iterations passed...\n",
      "125 iterations passed...\n",
      "150 iterations passed...\n",
      "175 iterations passed...\n",
      "200 iterations passed...\n",
      "225 iterations passed...\n",
      "250 iterations passed...\n",
      "275 iterations passed...\n",
      "300 iterations passed...\n",
      "325 iterations passed...\n",
      "350 iterations passed...\n",
      "375 iterations passed...\n",
      "400 iterations passed...\n",
      "425 iterations passed...\n",
      "450 iterations passed...\n",
      "475 iterations passed...\n",
      "500 iterations passed...\n",
      "525 iterations passed...\n",
      "550 iterations passed...\n",
      "575 iterations passed...\n",
      "600 iterations passed...\n",
      "625 iterations passed...\n",
      "650 iterations passed...\n",
      "675 iterations passed...\n",
      "700 iterations passed...\n",
      "725 iterations passed...\n",
      "750 iterations passed...\n",
      "775 iterations passed...\n",
      "800 iterations passed...\n",
      "825 iterations passed...\n",
      "850 iterations passed...\n",
      "875 iterations passed...\n",
      "900 iterations passed...\n",
      "925 iterations passed...\n",
      "950 iterations passed...\n",
      "975 iterations passed...\n",
      "1000 iterations passed...\n"
     ]
    }
   ],
   "source": [
    "champs_41, changes_41 = genetic_udpate(loglong, 0.1, 12, float(\"inf\"), 1000, champs_41)"
   ]
  },
  {
   "cell_type": "code",
   "execution_count": 36,
   "metadata": {
    "collapsed": true
   },
   "outputs": [
    {
     "name": "stdout",
     "output_type": "stream",
     "text": [
      "25 iterations passed...\n",
      "50 iterations passed...\n",
      "75 iterations passed...\n",
      "100 iterations passed...\n",
      "125 iterations passed...\n",
      "150 iterations passed...\n",
      "175 iterations passed...\n",
      "200 iterations passed...\n",
      "225 iterations passed...\n",
      "250 iterations passed...\n"
     ]
    }
   ],
   "source": [
    "champs_41, changes_41 = genetic_udpate(loglong, 0.1, 12, float(\"inf\"), 250, champs_41)"
   ]
  },
  {
   "cell_type": "code",
   "execution_count": 42,
   "metadata": {
    "collapsed": false
   },
   "outputs": [
    {
     "name": "stdout",
     "output_type": "stream",
     "text": [
      "25 iterations passed...\n",
      "50 iterations passed...\n",
      "75 iterations passed...\n",
      "100 iterations passed...\n",
      "125 iterations passed...\n",
      "150 iterations passed...\n",
      "175 iterations passed...\n",
      "200 iterations passed...\n",
      "225 iterations passed...\n",
      "250 iterations passed...\n"
     ]
    }
   ],
   "source": [
    "champs_41, changes_41 = genetic_udpate(loglong, 0.1, 12, float(\"inf\"), 250, champs_41)"
   ]
  },
  {
   "cell_type": "code",
   "execution_count": 43,
   "metadata": {
    "collapsed": false
   },
   "outputs": [
    {
     "name": "stdout",
     "output_type": "stream",
     "text": [
      "25 iterations passed...\n",
      "50 iterations passed...\n",
      "75 iterations passed...\n",
      "100 iterations passed...\n",
      "125 iterations passed...\n",
      "150 iterations passed...\n",
      "175 iterations passed...\n",
      "200 iterations passed...\n",
      "225 iterations passed...\n",
      "250 iterations passed...\n",
      "275 iterations passed...\n",
      "300 iterations passed...\n",
      "325 iterations passed...\n",
      "350 iterations passed...\n",
      "375 iterations passed...\n",
      "400 iterations passed...\n",
      "425 iterations passed...\n",
      "450 iterations passed...\n",
      "475 iterations passed...\n",
      "500 iterations passed...\n"
     ]
    }
   ],
   "source": [
    "champs_41, changes_41 = genetic_udpate(loglong, 0.1, 12, float(\"inf\"), 500, champs_41)"
   ]
  },
  {
   "cell_type": "code",
   "execution_count": 47,
   "metadata": {
    "collapsed": false
   },
   "outputs": [
    {
     "name": "stdout",
     "output_type": "stream",
     "text": [
      "25 iterations passed...\n",
      "50 iterations passed...\n",
      "75 iterations passed...\n",
      "100 iterations passed...\n",
      "125 iterations passed...\n",
      "150 iterations passed...\n",
      "175 iterations passed...\n",
      "200 iterations passed...\n",
      "225 iterations passed...\n",
      "250 iterations passed...\n",
      "275 iterations passed...\n",
      "300 iterations passed...\n",
      "325 iterations passed...\n",
      "350 iterations passed...\n",
      "375 iterations passed...\n",
      "400 iterations passed...\n",
      "425 iterations passed...\n",
      "450 iterations passed...\n",
      "475 iterations passed...\n",
      "500 iterations passed...\n",
      "525 iterations passed...\n",
      "550 iterations passed...\n",
      "575 iterations passed...\n",
      "600 iterations passed...\n",
      "625 iterations passed...\n",
      "650 iterations passed...\n",
      "675 iterations passed...\n",
      "700 iterations passed...\n",
      "725 iterations passed...\n",
      "750 iterations passed...\n"
     ]
    }
   ],
   "source": [
    "champs_41_2 = champs_41[:]\n",
    "champs_41_2, changes_41 = genetic_udpate(loglong, 0.1, 12, float(\"inf\"), 750, champs_41_2)"
   ]
  },
  {
   "cell_type": "code",
   "execution_count": 100,
   "metadata": {
    "collapsed": false
   },
   "outputs": [
    {
     "data": {
      "text/plain": [
       "1310"
      ]
     },
     "execution_count": 100,
     "metadata": {},
     "output_type": "execute_result"
    }
   ],
   "source": [
    "len(champs_41)"
   ]
  },
  {
   "cell_type": "code",
   "execution_count": 96,
   "metadata": {
    "collapsed": false
   },
   "outputs": [
    {
     "name": "stderr",
     "output_type": "stream",
     "text": [
      "100%|██████████| 2677/2677 [00:55<00:00, 48.40it/s]\n"
     ]
    },
    {
     "data": {
      "text/plain": [
       "0.2585487906588824"
      ]
     },
     "execution_count": 96,
     "metadata": {},
     "output_type": "execute_result"
    }
   ],
   "source": [
    "test(test_data, champs_21[-1])"
   ]
  },
  {
   "cell_type": "code",
   "execution_count": 98,
   "metadata": {
    "collapsed": false
   },
   "outputs": [
    {
     "name": "stderr",
     "output_type": "stream",
     "text": [
      "  1%|          | 16/2677 [00:00<01:15, 35.32it/s]/Users/virgileaudi/anaconda/lib/python2.7/site-packages/ipykernel/__main__.py:3: RuntimeWarning: invalid value encountered in double_scalars\n",
      "  app.launch_new_instance()\n",
      "100%|██████████| 2677/2677 [00:54<00:00, 48.78it/s]\n"
     ]
    },
    {
     "data": {
      "text/plain": [
       "0.1780650542118432"
      ]
     },
     "execution_count": 98,
     "metadata": {},
     "output_type": "execute_result"
    }
   ],
   "source": [
    "test(test_data, ql)"
   ]
  },
  {
   "cell_type": "code",
   "execution_count": 49,
   "metadata": {
    "collapsed": false
   },
   "outputs": [
    {
     "name": "stdout",
     "output_type": "stream",
     "text": [
      "Champ: 21\n",
      "Chal: 3\n"
     ]
    },
    {
     "data": {
      "text/plain": [
       "(1, 18)"
      ]
     },
     "execution_count": 49,
     "metadata": {},
     "output_type": "execute_result"
    }
   ],
   "source": [
    "play_n(champs_41[-1], loglong, 21, True)"
   ]
  },
  {
   "cell_type": "code",
   "execution_count": 50,
   "metadata": {
    "collapsed": true
   },
   "outputs": [],
   "source": [
    "with open('data/champs_genetic_41.pkl', 'w') as f:\n",
    "    pickle.dump(champs_41, f)"
   ]
  },
  {
   "cell_type": "code",
   "execution_count": 51,
   "metadata": {
    "collapsed": true
   },
   "outputs": [],
   "source": [
    "! open data"
   ]
  },
  {
   "cell_type": "code",
   "execution_count": 52,
   "metadata": {
    "collapsed": false
   },
   "outputs": [
    {
     "name": "stdout",
     "output_type": "stream",
     "text": [
      "Champ: 16\n",
      "Chal: 0\n"
     ]
    },
    {
     "data": {
      "text/plain": [
       "(1, 16)"
      ]
     },
     "execution_count": 52,
     "metadata": {},
     "output_type": "execute_result"
    }
   ],
   "source": [
    "play_n(champs_41[-1], loglong, 15, True)"
   ]
  },
  {
   "cell_type": "code",
   "execution_count": 53,
   "metadata": {
    "collapsed": false
   },
   "outputs": [
    {
     "name": "stdout",
     "output_type": "stream",
     "text": [
      "Champ: 15\n",
      "Chal: 0\n"
     ]
    },
    {
     "data": {
      "text/plain": [
       "(1, 15)"
      ]
     },
     "execution_count": 53,
     "metadata": {},
     "output_type": "execute_result"
    }
   ],
   "source": [
    "play_n(champs_41[-1], logistic, 15, True)"
   ]
  },
  {
   "cell_type": "code",
   "execution_count": 54,
   "metadata": {
    "collapsed": false
   },
   "outputs": [
    {
     "name": "stdout",
     "output_type": "stream",
     "text": [
      "Champ: 15\n",
      "Chal: 1\n"
     ]
    },
    {
     "data": {
      "text/plain": [
       "(1, 14)"
      ]
     },
     "execution_count": 54,
     "metadata": {},
     "output_type": "execute_result"
    }
   ],
   "source": [
    "play_n(loglong, logistic, 15, True)"
   ]
  },
  {
   "cell_type": "code",
   "execution_count": 55,
   "metadata": {
    "collapsed": false
   },
   "outputs": [
    {
     "name": "stdout",
     "output_type": "stream",
     "text": [
      "Champ: 15\n",
      "Chal: 5\n"
     ]
    },
    {
     "data": {
      "text/plain": [
       "(1, 10)"
      ]
     },
     "execution_count": 55,
     "metadata": {},
     "output_type": "execute_result"
    }
   ],
   "source": [
    "play_n(champs_21[-1], logistic, 15, True)"
   ]
  },
  {
   "cell_type": "code",
   "execution_count": 57,
   "metadata": {
    "collapsed": false
   },
   "outputs": [
    {
     "name": "stdout",
     "output_type": "stream",
     "text": [
      "Champ: 15\n",
      "Chal: 5\n"
     ]
    },
    {
     "data": {
      "text/plain": [
       "(1, 10)"
      ]
     },
     "execution_count": 57,
     "metadata": {},
     "output_type": "execute_result"
    }
   ],
   "source": [
    "play_n(champs_21[-1], loglong, 15, True)"
   ]
  },
  {
   "cell_type": "code",
   "execution_count": 58,
   "metadata": {
    "collapsed": false
   },
   "outputs": [
    {
     "name": "stdout",
     "output_type": "stream",
     "text": [
      "Champ: 8\n",
      "Chal: 15\n"
     ]
    },
    {
     "data": {
      "text/plain": [
       "(0, 7)"
      ]
     },
     "execution_count": 58,
     "metadata": {},
     "output_type": "execute_result"
    }
   ],
   "source": [
    "play_n(champs_21[-1], champs_41[-1], 15, True)"
   ]
  },
  {
   "cell_type": "code",
   "execution_count": 59,
   "metadata": {
    "collapsed": true
   },
   "outputs": [],
   "source": [
    "ql = SimpleWeights([10.513928453727098, 0.03665897636716714, -10.383521078312361, -1.9812681320846859, -7.2268173161494094, -7.1934974631247792, -0.058559108604641211, 0.14603343061814536, -0.15687361404182876, -1.5940895247508318, -1.1278465977883321, -0.1358589500191868, 0.46214445743694715, 1.2156356424217336, -0.55597493779631557, -1.3658852329825804, -0.12275466238407588, 0.10202476751770939, -1.4574258604994315, -0.23711859754993708, 1.0878489704323944, -0.037370307502920044, -40.93975833543071, -3.3731213853774831, -17.443373294193606, -11.285669866742879, -0.059228216559662754, -4.6652175406332015, -3.663706250577957, -3.7849705874744868, -1.5357370825787495, 0.041129684329487506, -1.8851695285103183, -1.2146105759529324, -1.634758410668683, -2.169318540721386, -0.027724832764959715, -0.55917520234064622, -2.8149248399111966, -2.4056688743066532, 0.40174027284356889], True, 'ql')"
   ]
  },
  {
   "cell_type": "code",
   "execution_count": 60,
   "metadata": {
    "collapsed": false
   },
   "outputs": [
    {
     "name": "stdout",
     "output_type": "stream",
     "text": [
      "Champ: 0\n",
      "Chal: 15\n"
     ]
    },
    {
     "data": {
      "text/plain": [
       "(0, 15)"
      ]
     },
     "execution_count": 60,
     "metadata": {},
     "output_type": "execute_result"
    }
   ],
   "source": [
    "play_n(ql, champs_41[-1], 15, True)"
   ]
  },
  {
   "cell_type": "code",
   "execution_count": 61,
   "metadata": {
    "collapsed": false
   },
   "outputs": [
    {
     "name": "stdout",
     "output_type": "stream",
     "text": [
      "Champ: 1\n",
      "Chal: 16\n"
     ]
    },
    {
     "data": {
      "text/plain": [
       "(0, 15)"
      ]
     },
     "execution_count": 61,
     "metadata": {},
     "output_type": "execute_result"
    }
   ],
   "source": [
    "play_n(ql, champs_21[-1], 15, True)"
   ]
  },
  {
   "cell_type": "code",
   "execution_count": 65,
   "metadata": {
    "collapsed": false
   },
   "outputs": [
    {
     "name": "stdout",
     "output_type": "stream",
     "text": [
      "Champ: 4\n",
      "Chal: 15\n"
     ]
    },
    {
     "data": {
      "text/plain": [
       "(0, 11)"
      ]
     },
     "execution_count": 65,
     "metadata": {},
     "output_type": "execute_result"
    }
   ],
   "source": [
    "play_n(ql, loglong, 15, True)"
   ]
  },
  {
   "cell_type": "code",
   "execution_count": 64,
   "metadata": {
    "collapsed": false
   },
   "outputs": [
    {
     "name": "stdout",
     "output_type": "stream",
     "text": [
      "Champ: 15\n",
      "Chal: 8\n"
     ]
    },
    {
     "data": {
      "text/plain": [
       "(1, 7)"
      ]
     },
     "execution_count": 64,
     "metadata": {},
     "output_type": "execute_result"
    }
   ],
   "source": [
    "play_n(ql, logistic, 15, True)"
   ]
  }
 ],
 "metadata": {
  "kernelspec": {
   "display_name": "Python 2",
   "language": "python",
   "name": "python2"
  },
  "language_info": {
   "codemirror_mode": {
    "name": "ipython",
    "version": 2
   },
   "file_extension": ".py",
   "mimetype": "text/x-python",
   "name": "python",
   "nbconvert_exporter": "python",
   "pygments_lexer": "ipython2",
   "version": "2.7.12"
  }
 },
 "nbformat": 4,
 "nbformat_minor": 0
}
