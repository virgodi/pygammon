{
 "cells": [
  {
   "cell_type": "code",
   "execution_count": 75,
   "metadata": {
    "collapsed": true
   },
   "outputs": [],
   "source": [
    "import pickle\n",
    "def find(s, ch):\n",
    "    return [i for i, ltr in enumerate(s) if ltr == ch]"
   ]
  },
  {
   "cell_type": "code",
   "execution_count": 352,
   "metadata": {
    "collapsed": false
   },
   "outputs": [],
   "source": [
    "def process_game(game, title):\n",
    "    game_post = {}\n",
    "    game_post['title'] = title\n",
    "    deroul = []\n",
    "    starter = 'A'\n",
    "    for i, l in enumerate(game.split('\\n')):\n",
    "        l+=' '\n",
    "        if 'Illegal' in l:\n",
    "            return \n",
    "        if i == 0 or i == 1 or l in ['', ' ']:\n",
    "            continue\n",
    "        elif 'Wins' in l:\n",
    "            if l.index('W') > 20:\n",
    "                game_post['win'] = 0 if starter == 'A' else 1\n",
    "            else:\n",
    "                game_post['win'] = 1 if starter == 'A' else 0\n",
    "        else:\n",
    "            temp_a = []\n",
    "            temp_b = []\n",
    "            if ':' in l:\n",
    "                rolls = {}\n",
    "                indices = find(l, ':')\n",
    "                if len(indices) == 2:\n",
    "                    if l[indices[0]-1].isdigit():\n",
    "                        for x,ind in zip(list('AB'),indices):\n",
    "                            rolls[x]=tuple([int(l[ind-2]), int(l[ind-1])])\n",
    "                    else:\n",
    "                        starter = 'B'\n",
    "                        rolls['A'] = None\n",
    "                        rolls['B'] = tuple([int(l[indices[1]-2]), int(l[indices[1]-1])])\n",
    "\n",
    "                else:\n",
    "                    if i == 2:\n",
    "                        starter = 'B'\n",
    "                    if indices[0] > 20:\n",
    "                        rolls['A'] = None\n",
    "                        rolls['B'] = tuple([int(l[indices[0]-2]), int(l[indices[0]-1])])\n",
    "                    else:\n",
    "                        rolls['B'] = None\n",
    "                        rolls['A'] = tuple([int(l[indices[0]-2]), int(l[indices[0]-1])])\n",
    "                if rolls['A']:\n",
    "                    if len(indices) == 2:\n",
    "                        indices_a=find(l[indices[0]:indices[1]],'/')\n",
    "                        for i in indices_a:\n",
    "                            if l[indices[0]:indices[1]][i-2].isdigit():\n",
    "                                if l[indices[0]:indices[1]][i+2].isdigit():\n",
    "                                    temp_a.append([int(l[indices[0]:indices[1]][i-2:i])-1, int(l[indices[0]:indices[1]][i+1:i+3])-1])\n",
    "                                else:\n",
    "                                    temp_a.append([int(l[indices[0]:indices[1]][i-2:i])-1, int(l[indices[0]:indices[1]][i+1])-1])\n",
    "                            else:\n",
    "                                if l[indices[0]:indices[1]][i+2].isdigit():\n",
    "                                    temp_a.append([int(l[indices[0]:indices[1]][i-1])-1, int(l[indices[0]:indices[1]][i+1:i+3])-1])\n",
    "                                else:\n",
    "                                    temp_a.append([int(l[indices[0]:indices[1]][i-1])-1, int(l[indices[0]:indices[1]][i+1])-1])\n",
    "                            if abs(temp_a[-1][0]-temp_a[-1][1]) == rolls['A'][0]+rolls['A'][1]:\n",
    "                                return \n",
    "                            copy_t = []\n",
    "                            for e in temp_a[-1]:\n",
    "                                if e == -1:\n",
    "                                    copy_t.append('h')\n",
    "                                elif e == 24:\n",
    "                                    copy_t.append('p')\n",
    "                                else:\n",
    "                                    copy_t.append(e)\n",
    "                            temp_a[-1] = copy_t\n",
    "                        deroul.append(('w', rolls['A'], temp_a))\n",
    "                    elif len(indices) == 1 and 'D' in l:\n",
    "                        indices_a=find(l[indices[0]:],'/')\n",
    "                        for i in indices_a:\n",
    "                            if l[indices[0]:][i-2].isdigit():\n",
    "                                if l[indices[0]:][i+2].isdigit():\n",
    "                                    temp_a.append([int(l[indices[0]:][i-2:i])-1, int(l[indices[0]:][i+1:i+3])-1])\n",
    "                                else:\n",
    "                                    temp_a.append([int(l[indices[0]:][i-2:i])-1, int(l[indices[0]:][i+1])-1])\n",
    "                            else:\n",
    "                                if l[indices[0]:][i+2].isdigit():\n",
    "                                    temp_a.append([int(l[indices[0]:][i-1])-1, int(l[indices[0]:][i+1:i+3])-1])\n",
    "                                else:\n",
    "                                    temp_a.append([int(l[indices[0]:][i-1])-1, int(l[indices[0]:][i+1])-1])\n",
    "                            if abs(temp_a[-1][0]-temp_a[-1][1]) == rolls['A'][0]+rolls['A'][1]:\n",
    "                                return\n",
    "                            copy_t = []\n",
    "                            for e in temp_a[-1]:\n",
    "                                if e == -1:\n",
    "                                    copy_t.append('h')\n",
    "                                elif e == 24:\n",
    "                                    copy_t.append('p')\n",
    "                                else:\n",
    "                                    copy_t.append(e)\n",
    "                            temp_a[-1] = copy_t\n",
    "                        deroul.append(('w', rolls['A'], temp_a))\n",
    "                if rolls['B']:\n",
    "                    if len(indices) == 2:\n",
    "                        indices_b=find(l[indices[1]:],'/')\n",
    "                        for i in indices_b:\n",
    "                            if l[indices[1]:][i-2].isdigit():\n",
    "                                if l[indices[1]:][i+2].isdigit():\n",
    "                                    temp_b.append([24-int(l[indices[1]:][i-2:i]), 24-int(l[indices[1]:][i+1:i+3])])\n",
    "                                else:\n",
    "                                    temp_b.append([24-int(l[indices[1]:][i-2:i]), 24-int(l[indices[1]:][i+1])])\n",
    "                            else:\n",
    "                                if l[indices[1]:][i+2].isdigit():\n",
    "                                    temp_b.append([24-int(l[indices[1]:][i-1]), 24-int(l[indices[1]:][i+1:i+3])])\n",
    "                                else:\n",
    "                                    temp_b.append([24-int(l[indices[1]:][i-1]), 24-int(l[indices[1]:][i+1])])\n",
    "                            if abs(temp_b[-1][0]-temp_b[-1][1]) == rolls['B'][0]+rolls['B'][1]:\n",
    "                                return\n",
    "                            copy_t = []\n",
    "                            for e in temp_b[-1]:\n",
    "                                if e == -1:\n",
    "                                    copy_t.append('p')\n",
    "                                elif e == 24:\n",
    "                                    copy_t.append('h')\n",
    "                                else:\n",
    "                                    copy_t.append(e)\n",
    "                            temp_b[-1] = copy_t\n",
    "                    elif len(indices) == 1:\n",
    "                        indices_b=find(l[indices[0]:],'/')\n",
    "                        for i in indices_b:\n",
    "                            if l[indices[0]:][i-2].isdigit():\n",
    "                                if l[indices[0]:][i+2].isdigit():\n",
    "                                    temp_b.append([24-int(l[indices[0]:][i-2:i]), 24-int(l[indices[0]:][i+1:i+3])])\n",
    "                                else:\n",
    "                                    temp_b.append([24-int(l[indices[0]:][i-2:i]), 24-int(l[indices[0]:][i+1])])\n",
    "                            else:\n",
    "                                if l[indices[0]:][i+2].isdigit():\n",
    "                                    temp_b.append([24-int(l[indices[0]:][i-1]), 24-int(l[indices[0]:][i+1:i+3])])\n",
    "                                else:\n",
    "                                    temp_b.append([24-int(l[indices[0]:][i-1]), 24-int(l[indices[0]:][i+1])])\n",
    "                            if abs(temp_b[-1][0]-temp_b[-1][1]) == rolls['B'][0]+rolls['B'][1]:\n",
    "                                return\n",
    "                            copy_t = []\n",
    "                            for e in temp_b[-1]:\n",
    "                                if e == -1:\n",
    "                                    copy_t.append('p')\n",
    "                                elif e == 24:\n",
    "                                    copy_t.append('h')\n",
    "                                else:\n",
    "                                    copy_t.append(e)\n",
    "                            temp_b[-1] = copy_t\n",
    "                    deroul.append(('b', rolls['B'], temp_b))\n",
    "    game_post['plays'] = deroul\n",
    "    return game_post"
   ]
  },
  {
   "cell_type": "code",
   "execution_count": 353,
   "metadata": {
    "collapsed": true
   },
   "outputs": [],
   "source": [
    "source1_post = []\n",
    "games_1 ={}"
   ]
  },
  {
   "cell_type": "code",
   "execution_count": 354,
   "metadata": {
    "collapsed": false
   },
   "outputs": [],
   "source": [
    "with open('og_matches/norges.pkl', 'r') as f:\n",
    "    source = pickle.load(f)\n",
    "\n",
    "for mi, match in enumerate(source.values()):\n",
    "    for gi, game in enumerate(match.split('Game ')[1:]):\n",
    "        games_1['m_'+str(mi)+'_g_'+str(gi)]=game\n",
    "        gp = process_game(game, 'm_'+str(mi)+'_g_'+str(gi))\n",
    "        if gp:\n",
    "            source1_post.append(gp)\n",
    "\n",
    "with open('process/norges.pkl', 'w') as f:\n",
    "    pickle.dump(source1_post, f)"
   ]
  },
  {
   "cell_type": "code",
   "execution_count": 351,
   "metadata": {
    "collapsed": false
   },
   "outputs": [
    {
     "name": "stdout",
     "output_type": "stream",
     "text": [
      "15\n",
      " Ray Tannen : 12                 Victor Petersen : 10\n",
      "  1)                             54: 13/8 24/20 \n",
      "  2) 41: 13/9 6/5*               43: 25/22 24/20* \n",
      "  3) 53: 25/20 8/5*              62: 25/23 22/16* \n",
      "  4) 52: 25/20 24/22             44: 8/4 8/4 6/2 6/2 \n",
      "  5) 11: 8/7 8/7 6/5 6/5         52: 23/21 21/16 \n",
      "  6) 52: 13/8 24/22              51: 13/8 2/1 \n",
      "  7) 42: 13/11 11/7              65: 13/7 7/2 \n",
      "  8) 51: 7/2 5/4                 62: 16/10 10/8 \n",
      "  9) 64: 8/2 13/9*               62: \n",
      " 10) 32: 9/6 6/4                 51: 25/24 6/1 \n",
      " 11) 52: 20/15 15/13             55: 13/8 13/8 6/1 6/1 \n",
      " 12)  Doubles => 2                Takes\n",
      " 13) 22: 13/11 13/11 11/9 11/9   41: 8/4 2/1 \n",
      " 14) 42: 9/5 5/3                 41: 8/4 2/1 \n",
      " 15) 61: 9/3 20/19               42: 8/4 4/2 \n",
      " 16) 52: 22/20 20/15             61: 8/2 2/1 \n",
      " 17) 55: Illegal play (21;0;1;0;0;Victor Petersen;Ray Tannen;0;10;12;2;1;0;7;1;-1;4;0;0;0;2;0;0;0;0;0;0;-1;0;0;-2;-3;-2;-2;-2;-2;1;0;4;1;) 41: 8/4 2/1 \n",
      " 18) 54: 22/17* 17/13            63: \n",
      " 19) 41: 6/2 2/1*                64: \n",
      " 20) 63: 7/1 7/4                 66: \n",
      " 21) 63: 13/7 7/4                66: \n",
      " 22) 62: 10/4 4/2                66: \n",
      " 23) 65: 6/0 6/1                 55: \n",
      " 24) 54: 5/0 5/1                 54: 25/20 \n",
      " 25) 64: 4/0 4/0                 62: 25/19 19/17 \n",
      " 26) 41: 4/0 1/0                 52: 17/12 20/18 \n",
      " 27) 41: 4/0 1/0                 21: 12/10 18/17 \n",
      " 28) 65: 3/0 3/0                 61: 17/11 10/9 \n",
      " 29) 21: 2/0 1/0                 43: 9/5 11/8 \n",
      " 30) 64: 2/0 2/0                 63: 8/5 5/0 \n",
      " 31) 21: 1/0                     \n",
      "      Wins 2 points              \n",
      "\n",
      " \n"
     ]
    }
   ],
   "source": [
    "print games_1['m_9_g_14']"
   ]
  },
  {
   "cell_type": "code",
   "execution_count": 350,
   "metadata": {
    "collapsed": false
   },
   "outputs": [
    {
     "data": {
      "text/plain": [
       "{'plays': [('w', (2, 6), [[23, 17], [12, 10]]),\n",
       "  ('b', (5, 4), [[0, 4], [11, 16]]),\n",
       "  ('w', (4, 1), [[5, 4], [4, 0]]),\n",
       "  ('b', (4, 3), [['p', 2], ['p', 3]]),\n",
       "  ('w', (4, 1), [[10, 6], [7, 6]]),\n",
       "  ('b', (4, 3), [[16, 20], [20, 23]]),\n",
       "  ('w', (6, 3), [['p', 21], [12, 6]]),\n",
       "  ('b', (3, 3), [[11, 14], [14, 17], [18, 21], [18, 21]]),\n",
       "  ('w', (6, 4), [['p', 20]]),\n",
       "  ('b', (4, 3), [[16, 20], [17, 20]]),\n",
       "  ('w', (5, 4), [['p', 19]]),\n",
       "  ('b', (4, 2), [[11, 15], [15, 17]]),\n",
       "  ('w', (6, 2), [['p', 22], [19, 13]]),\n",
       "  ('b', (3, 6), [[11, 14], [11, 17]]),\n",
       "  ('w', (5, 2), [[13, 8], [8, 6]]),\n",
       "  ('b', (1, 1), [[2, 3], [3, 4], [3, 4], [14, 15]]),\n",
       "  ('w', (3, 2), [[6, 3], [5, 3]]),\n",
       "  ('b', (1, 1), [[17, 18], [17, 18], [18, 19], [18, 19]]),\n",
       "  ('w', (4, 1), [[5, 1], [1, 0]]),\n",
       "  ('b', (2, 1), [[21, 22], [21, 23]]),\n",
       "  ('w', (6, 2), [['p', 22], [12, 6]]),\n",
       "  ('b', (5, 5), [['p', 4], [4, 9], [9, 14], [15, 20]]),\n",
       "  ('w', (3, 1), [[22, 21], [6, 3]]),\n",
       "  ('b', (6, 5), [[14, 20], [16, 21]]),\n",
       "  ('w', (6, 5), []),\n",
       "  ('b', (5, 2), [[16, 21], [20, 22]]),\n",
       "  ('w', (4, 4), []),\n",
       "  ('b', (4, 4), [[4, 8], [18, 22], [18, 22], [18, 22]]),\n",
       "  ('w', (6, 3), [['p', 18], [6, 3]]),\n",
       "  ('b', (5, 2), [[8, 13], [13, 15]]),\n",
       "  ('w', (2, 1), [[18, 16], [16, 15]]),\n",
       "  ('b', (6, 6), []),\n",
       "  ('w', (6, 1), [[12, 6], [6, 5]]),\n",
       "  ('b', (4, 2), [['p', 1], [4, 8]]),\n",
       "  ('w', (4, 3), [[12, 8], [8, 5]]),\n",
       "  ('b', (5, 4), [['p', 4], [4, 8]]),\n",
       "  ('w', (6, 5), [[7, 1], [6, 1]]),\n",
       "  ('b', (4, 4), []),\n",
       "  ('w', (2, 1), [[6, 4], [5, 4]]),\n",
       "  ('b', (6, 2), []),\n",
       "  ('w', (1, 5), [[7, 2], [3, 2]]),\n",
       "  ('b', (6, 6), []),\n",
       "  ('w', (6, 1), [[15, 9], [9, 8]]),\n",
       "  ('b', (6, 6), []),\n",
       "  ('w', (4, 1), [[8, 4], [3, 2]]),\n",
       "  ('b', (6, 6), []),\n",
       "  ('w', (5, 1), [[5, 0], [0, 'h']]),\n",
       "  ('b', (6, 6), []),\n",
       "  ('w', (6, 2), [[5, 3], [5, 'h']]),\n",
       "  ('b', (6, 5), [['p', 5]]),\n",
       "  ('w', (5, 3), [[4, 'h'], [2, 'h']]),\n",
       "  ('b', (5, 4), []),\n",
       "  ('w', (3, 2), [[4, 2], [4, 1]]),\n",
       "  ('b', (4, 1), []),\n",
       "  ('w', (5, 2), [[3, 'h'], [1, 'h']]),\n",
       "  ('b', (2, 1), []),\n",
       "  ('w', (6, 1), [[3, 2], [3, 'h']]),\n",
       "  ('b', (5, 1), [['p', 4], [5, 6]]),\n",
       "  ('w', (6, 4), [[2, 'h'], [2, 'h']]),\n",
       "  ('b', (6, 4), [[4, 8], [6, 12]]),\n",
       "  ('w', (6, 5), [[2, 'h'], [2, 'h']]),\n",
       "  ('b', (5, 4), [[8, 13], [12, 16]]),\n",
       "  ('w', (1, 1), [[1, 0], [0, 'h'], [0, 'h'], [0, 'h']]),\n",
       "  ('b', (1, 1), [[22, 23], [23, 'h'], [23, 'h'], [23, 'h']])],\n",
       " 'title': 'm',\n",
       " 'win': 1}"
      ]
     },
     "execution_count": 350,
     "metadata": {},
     "output_type": "execute_result"
    }
   ],
   "source": [
    "process_game(games_1['m_1_g_9'], 'm')"
   ]
  },
  {
   "cell_type": "code",
   "execution_count": 340,
   "metadata": {
    "collapsed": true
   },
   "outputs": [],
   "source": [
    "source2_post = []\n",
    "with open('og_matches/gnu_vs_blitz.pkl', 'r') as f:\n",
    "    source2 = pickle.load(f)\n",
    "for match in source2.values():\n",
    "    for game in match.split('Game ')[1:]:\n",
    "        gp = process_game(game, 'm_'+str(mi)+'_g_'+str(gi))\n",
    "        if gp:\n",
    "            source2_post.append(gp)\n",
    "with open('process/gnu_vs_blitz.pkl', 'w') as f:\n",
    "    pickle.dump(source2_post, f)"
   ]
  },
  {
   "cell_type": "code",
   "execution_count": 341,
   "metadata": {
    "collapsed": false
   },
   "outputs": [],
   "source": [
    "source3_post = []\n",
    "with open('og_matches/200_7_pts.pkl', 'r') as f:\n",
    "    source3 = pickle.load(f)\n",
    "for match in source3.values():\n",
    "    for game in match.split('Game ')[1:]:\n",
    "        gp = process_game(game, 'm_'+str(mi)+'_g_'+str(gi))\n",
    "        if gp:\n",
    "            source3_post.append(gp)\n",
    "with open('process/200_7_pts.pkl', 'w') as f:\n",
    "    pickle.dump(source3_post, f)"
   ]
  },
  {
   "cell_type": "code",
   "execution_count": 342,
   "metadata": {
    "collapsed": false
   },
   "outputs": [],
   "source": [
    "source4_post = []\n",
    "with open('og_matches/100_5_pts.pkl', 'r') as f:\n",
    "    source4 = pickle.load(f)\n",
    "for match in source4.values():\n",
    "    for game in match.split('Game ')[1:]:\n",
    "        gp = process_game(game, 'm_'+str(mi)+'_g_'+str(gi))\n",
    "        if gp:\n",
    "            source4_post.append(gp)\n",
    "with open('process/100_5_pts.pkl', 'w') as f:\n",
    "    pickle.dump(source4_post, f)"
   ]
  },
  {
   "cell_type": "code",
   "execution_count": 343,
   "metadata": {
    "collapsed": false
   },
   "outputs": [],
   "source": [
    "source5_post = []\n",
    "with open('og_matches/100_3_pts.pkl', 'r') as f:\n",
    "    source5 = pickle.load(f)\n",
    "for match in source5.values():\n",
    "    for game in match.split('Game ')[1:]:\n",
    "        gp = process_game(game, 'm_'+str(mi)+'_g_'+str(gi))\n",
    "        if gp:\n",
    "            source5_post.append(gp)\n",
    "with open('process/100_3_pts.pkl', 'w') as f:\n",
    "    pickle.dump(source5_post, f)"
   ]
  },
  {
   "cell_type": "code",
   "execution_count": 262,
   "metadata": {
    "collapsed": false
   },
   "outputs": [],
   "source": [
    "source_all_post = source1_post+source2_post+source3_post+source4_post+source5_post"
   ]
  },
  {
   "cell_type": "code",
   "execution_count": 263,
   "metadata": {
    "collapsed": true
   },
   "outputs": [],
   "source": [
    "with open('process/all.pkl', 'w') as f:\n",
    "    pickle.dump(source_all_post, f)"
   ]
  },
  {
   "cell_type": "code",
   "execution_count": null,
   "metadata": {
    "collapsed": true
   },
   "outputs": [],
   "source": []
  }
 ],
 "metadata": {
  "kernelspec": {
   "display_name": "Python 2",
   "language": "python",
   "name": "python2"
  },
  "language_info": {
   "codemirror_mode": {
    "name": "ipython",
    "version": 2
   },
   "file_extension": ".py",
   "mimetype": "text/x-python",
   "name": "python",
   "nbconvert_exporter": "python",
   "pygments_lexer": "ipython2",
   "version": "2.7.12"
  }
 },
 "nbformat": 4,
 "nbformat_minor": 0
}
