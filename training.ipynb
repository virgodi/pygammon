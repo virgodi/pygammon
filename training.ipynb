{
 "cells": [
  {
   "cell_type": "code",
   "execution_count": 1,
   "metadata": {
    "collapsed": false
   },
   "outputs": [],
   "source": [
    "%load_ext autoreload\n",
    "%autoreload 2"
   ]
  },
  {
   "cell_type": "code",
   "execution_count": 2,
   "metadata": {
    "collapsed": true
   },
   "outputs": [],
   "source": [
    "%matplotlib inline\n",
    "import matplotlib.pyplot as plt"
   ]
  },
  {
   "cell_type": "code",
   "execution_count": 3,
   "metadata": {
    "collapsed": true
   },
   "outputs": [],
   "source": [
    "import numpy as np\n",
    "import pickle\n",
    "from backgammon import *\n",
    "from elements import *\n",
    "from tqdm import tqdm\n",
    "from ai_strategies import *\n",
    "import random\n",
    "\n",
    "def softmax(s):\n",
    "    num = [np.exp(s[i])+0.00001 for i in range(len(s))]\n",
    "    return [x/sum(num) for x in num]\n",
    "\n",
    "def eval_deriv(k, f, cl, probs):\n",
    "    res = f[k]\n",
    "    if k == cl:\n",
    "        res*=-(1-probs[cl])\n",
    "    else:\n",
    "        res*=probs[cl]\n",
    "    return res\n",
    "\n",
    "def cross(l1, l2):\n",
    "    for i in range(len(l1)):\n",
    "        r+=l1[i]*l[2]\n",
    "        \n",
    "\n",
    "def save_game(game):\n",
    "    tosave = []\n",
    "    g = Game()\n",
    "    if game['win'] == 0:\n",
    "        cond = 1\n",
    "    else:\n",
    "        cond = 0\n",
    "    for i,p in enumerate(game['plays']):\n",
    "        t = Turn(p[0], Roll(list(p[1])))\n",
    "        poss_moves = g.board.get_pairs_moves(t)\n",
    "        if any(list(x) in poss_moves for x in itertools.permutations(p[2]))==False and not (p[2]==poss_moves):\n",
    "            if len(game['plays'])-1 == i:\n",
    "                return tosave\n",
    "            return \n",
    "        if i%2 == cond and len(poss_moves)>0:\n",
    "            for j, ms in enumerate(poss_moves):\n",
    "                if any(list(x) == ms for x in itertools.permutations(p[2])):\n",
    "                    cl = j\n",
    "            tosave.append((g.board, t, poss_moves, cl, p[2]))\n",
    "        for m in p[2]:\n",
    "            g.board = g.board.move(t.player, *m)\n",
    "    return tosave"
   ]
  },
  {
   "cell_type": "code",
   "execution_count": null,
   "metadata": {
    "collapsed": false
   },
   "outputs": [],
   "source": [
    "with open('data/process/norges.pkl', 'r') as f:\n",
    "    games = pickle.load(f)"
   ]
  },
  {
   "cell_type": "code",
   "execution_count": null,
   "metadata": {
    "collapsed": true
   },
   "outputs": [],
   "source": [
    "with open('data/process/gnu_vs_blitz.pkl', 'r') as f:\n",
    "    games2 = pickle.load(f)"
   ]
  },
  {
   "cell_type": "code",
   "execution_count": null,
   "metadata": {
    "collapsed": true
   },
   "outputs": [],
   "source": [
    "with open('data/process/200_7_pts.pkl', 'r') as f:\n",
    "    games3 = pickle.load(f)"
   ]
  },
  {
   "cell_type": "code",
   "execution_count": null,
   "metadata": {
    "collapsed": true
   },
   "outputs": [],
   "source": [
    "with open('data/process/100_5_pts.pkl', 'r') as f:\n",
    "    games_test = pickle.load(f)"
   ]
  },
  {
   "cell_type": "code",
   "execution_count": null,
   "metadata": {
    "collapsed": false
   },
   "outputs": [],
   "source": [
    "games += games2\n",
    "games += games3"
   ]
  },
  {
   "cell_type": "code",
   "execution_count": null,
   "metadata": {
    "collapsed": true
   },
   "outputs": [],
   "source": [
    "random.shuffle(games)"
   ]
  },
  {
   "cell_type": "code",
   "execution_count": null,
   "metadata": {
    "collapsed": false
   },
   "outputs": [],
   "source": [
    "saved_games = []\n",
    "for game in tqdm(games):\n",
    "    try:\n",
    "        saved_games.extend(save_game(game))\n",
    "    except:\n",
    "        pass"
   ]
  },
  {
   "cell_type": "code",
   "execution_count": null,
   "metadata": {
    "collapsed": false
   },
   "outputs": [],
   "source": [
    "with open('data/saved_games.pkl', 'w') as f:\n",
    "    pickle.dump(saved_games, f)"
   ]
  },
  {
   "cell_type": "code",
   "execution_count": 4,
   "metadata": {
    "collapsed": true
   },
   "outputs": [],
   "source": [
    "with open('data/saved_games.pkl', 'r') as f:\n",
    "    saved_games = pickle.load(f)"
   ]
  },
  {
   "cell_type": "code",
   "execution_count": null,
   "metadata": {
    "collapsed": false
   },
   "outputs": [],
   "source": [
    "def test(game, w):\n",
    "    g = Game()\n",
    "    pos = 0\n",
    "    c = 0\n",
    "    if game['win'] == 0:\n",
    "        cond = 1\n",
    "    else:\n",
    "        cond = 0\n",
    "    for i,p in enumerate(game['plays']):\n",
    "        t = Turn(p[0], Roll(list(p[1])))\n",
    "        poss_moves = g.board.get_pairs_moves(t)\n",
    "        if any(list(x) in poss_moves for x in itertools.permutations(p[2]))==False and not (p[2]==poss_moves):\n",
    "            if len(game['plays'])-1 == i:\n",
    "                return w, L/(len(game['plays'])-1)\n",
    "#             print 'ERROR: MOVE MADE NOT POSSIBLE'\n",
    "            return \n",
    "        if i%2 == cond and len(poss_moves)>0:\n",
    "            c+=1\n",
    "            probs = []\n",
    "            for j, ms in enumerate(poss_moves):\n",
    "                temp = g.board.copy()\n",
    "                for m in ms:\n",
    "                    temp = temp.move(t.player, *m)\n",
    "                f = temp.get_features(g.board, t.player)\n",
    "                if any(list(x) == ms for x in itertools.permutations(p[2])):\n",
    "                    f_j = f\n",
    "                    cl = j\n",
    "                probs.append(score(w, f))\n",
    "            if max(probs) == probs[cl]:\n",
    "                pos+=1   \n",
    "        for m in p[2]:\n",
    "            g.board = g.board.move(t.player, *m)\n",
    "    return pos, c"
   ]
  },
  {
   "cell_type": "code",
   "execution_count": 56,
   "metadata": {
    "collapsed": true
   },
   "outputs": [],
   "source": [
    "def train(plays, w, l=0.01, lam=0):\n",
    "    L = []\n",
    "    for p in tqdm(plays):\n",
    "        board, t, poss_moves, cl, moves = p\n",
    "        if len(poss_moves)<=1:\n",
    "            continue\n",
    "        probs = []\n",
    "        for j, ms in enumerate(poss_moves):\n",
    "            temp = board.copy()\n",
    "            for m in ms:\n",
    "                temp = temp.move(t.player, *m)\n",
    "            f = temp.feat(board, t.player)\n",
    "            if j == cl:\n",
    "                f_j = f\n",
    "            probs.append(score(w, f))\n",
    "        probs = softmax(probs)\n",
    "        L.append(np.log(probs[cl]))\n",
    "        w_copy = w.asList[:]\n",
    "        for k in range(len(w_copy)):\n",
    "            w_copy[k] -= l*(eval_deriv(k, f_j, cl, probs)+lam*w_copy[k])\n",
    "        w.asList = w_copy\n",
    "    return w, L\n",
    "def train2(plays, w, l=0.01, lam=0):\n",
    "    L = []\n",
    "    for p in tqdm(plays):\n",
    "        board, t, poss_moves, cl, moves = p\n",
    "        if len(poss_moves)<=1:\n",
    "            continue\n",
    "        probs = []\n",
    "        fs = []\n",
    "        for j, ms in enumerate(poss_moves):\n",
    "            temp = board.copy()\n",
    "            for m in ms:\n",
    "                temp = temp.move(t.player, *m)\n",
    "            f = temp.feat(board, t.player)\n",
    "            fs.append(f)\n",
    "            if j == cl:\n",
    "                f_j = f\n",
    "            probs.append(score(w, f))\n",
    "        probs = softmax(probs)\n",
    "        w_copy = w.asList[:]\n",
    "        for k in len(w_copy):\n",
    "            w_copy[k] += l*(f_j[k] - sum([probs[j]*fs[j][k] for k in range(len(probs))])-lam*w_copy[k])\n",
    "        w.asList = w_copy\n",
    "    return w, L"
   ]
  },
  {
   "cell_type": "code",
   "execution_count": 87,
   "metadata": {
    "collapsed": true
   },
   "outputs": [],
   "source": [
    "def test(plays, w):\n",
    "    pos = 0 \n",
    "    c = 0\n",
    "    for p in tqdm(plays):\n",
    "        board, t, poss_moves, cl, moves = p\n",
    "        if len(poss_moves)<=1:\n",
    "            continue\n",
    "        c+=1\n",
    "        probs = []\n",
    "        for j, ms in enumerate(poss_moves):\n",
    "            temp = board.copy()\n",
    "            for m in ms:\n",
    "                temp = temp.move(t.player, *m)\n",
    "            f = temp.feat(board, t.player)\n",
    "            if j == cl:\n",
    "                f_j = f\n",
    "            probs.append(score(w, f))\n",
    "        probs = softmax(probs)\n",
    "        if probs[cl] == max(probs): \n",
    "            pos+=1\n",
    "    return float(pos)/c"
   ]
  },
  {
   "cell_type": "code",
   "execution_count": 61,
   "metadata": {
    "collapsed": true
   },
   "outputs": [],
   "source": [
    "mini_train_data = saved_games[:int(0.25*len(saved_games))]\n",
    "train_data = saved_games[:int(0.9*len(saved_games))]\n",
    "test_data = saved_games[int(0.9*len(saved_games)):]"
   ]
  },
  {
   "cell_type": "code",
   "execution_count": 72,
   "metadata": {
    "collapsed": false
   },
   "outputs": [
    {
     "name": "stdout",
     "output_type": "stream",
     "text": [
      "test: [ 0.09559969 -0.11419075  0.12268652  0.00473283 -0.12432153  0.00625329\n",
      "  0.06294914 -0.1222899   0.142476    0.0817114  -0.16369798  0.01096698\n",
      " -0.23348222  0.10540505 -0.13214728  0.03503387 -0.13402459 -0.04979529\n",
      " -0.09459473 -0.13644621  0.04989337]\n"
     ]
    }
   ],
   "source": [
    "w = SimpleWeights(np.random.normal(scale=.1, size=21), 'test')\n",
    "print w\n",
    "L = []\n",
    "av_L = []\n",
    "acc = []"
   ]
  },
  {
   "cell_type": "code",
   "execution_count": 81,
   "metadata": {
    "collapsed": false
   },
   "outputs": [
    {
     "name": "stderr",
     "output_type": "stream",
     "text": [
      "100%|██████████| 5352/5352 [01:47<00:00, 49.92it/s]\n",
      "100%|██████████| 1000/1000 [00:22<00:00, 44.94it/s]\n"
     ]
    }
   ],
   "source": [
    "for i in range(1):\n",
    "    w, l = train(saved_games[:int(0.2*len(saved_games))], w, 0.01, 0.01)\n",
    "    L.append(l)\n",
    "    av_L.append(sum(l)/len(l))\n",
    "    acc.append(test(saved_games[int(0.2*len(saved_games)):int(0.2*len(saved_games))+1000], w))"
   ]
  },
  {
   "cell_type": "code",
   "execution_count": 83,
   "metadata": {
    "collapsed": false
   },
   "outputs": [
    {
     "data": {
      "text/plain": [
       "[0.5334846765039728,\n",
       " 0.6095346197502838,\n",
       " 0.6129398410896708,\n",
       " 0.6220204313280363,\n",
       " 0.6254256526674233,\n",
       " 0.6299659477866061,\n",
       " 0.6333711691259932]"
      ]
     },
     "execution_count": 83,
     "metadata": {},
     "output_type": "execute_result"
    }
   ],
   "source": [
    "acc"
   ]
  },
  {
   "cell_type": "code",
   "execution_count": 82,
   "metadata": {
    "collapsed": false
   },
   "outputs": [
    {
     "data": {
      "text/plain": [
       "[<matplotlib.lines.Line2D at 0x126147d50>]"
      ]
     },
     "execution_count": 82,
     "metadata": {},
     "output_type": "execute_result"
    },
    {
     "data": {
      "image/png": "[encoded data removed]",
      "text/plain": [
       "<matplotlib.figure.Figure at 0x126930210>"
      ]
     },
     "metadata": {},
     "output_type": "display_data"
    }
   ],
   "source": [
    "plt.plot(acc)"
   ]
  },
  {
   "cell_type": "code",
   "execution_count": 78,
   "metadata": {
    "collapsed": false
   },
   "outputs": [],
   "source": [
    "w_ = w.asList[:]"
   ]
  },
  {
   "cell_type": "code",
   "execution_count": 71,
   "metadata": {
    "collapsed": false
   },
   "outputs": [
    {
     "data": {
      "text/plain": [
       "[<matplotlib.lines.Line2D at 0x11e1e6d50>]"
      ]
     },
     "execution_count": 71,
     "metadata": {},
     "output_type": "execute_result"
    },
    {
     "data": {
      "image/png": "[encoded data removed]",
      "text/plain": [
       "<matplotlib.figure.Figure at 0x11c706410>"
      ]
     },
     "metadata": {},
     "output_type": "display_data"
    }
   ],
   "source": [
    "plt.plot(acc)"
   ]
  },
  {
   "cell_type": "code",
   "execution_count": 86,
   "metadata": {
    "collapsed": false
   },
   "outputs": [
    {
     "name": "stderr",
     "output_type": "stream",
     "text": [
      "100%|██████████| 2676/2676 [00:47<00:00, 56.26it/s]\n"
     ]
    },
    {
     "data": {
      "text/plain": [
       "0.28619670747150694"
      ]
     },
     "execution_count": 86,
     "metadata": {},
     "output_type": "execute_result"
    }
   ],
   "source": [
    "test(saved_games[:int(0.1*len(saved_games))], aggressive)"
   ]
  },
  {
   "cell_type": "code",
   "execution_count": 88,
   "metadata": {
    "collapsed": false
   },
   "outputs": [
    {
     "name": "stderr",
     "output_type": "stream",
     "text": [
      "100%|██████████| 24084/24084 [07:41<00:00, 52.21it/s]\n",
      "100%|██████████| 2677/2677 [00:49<00:00, 54.14it/s]\n",
      "100%|██████████| 24084/24084 [07:37<00:00, 52.69it/s]\n",
      "100%|██████████| 2677/2677 [00:50<00:00, 53.47it/s]\n",
      "100%|██████████| 24084/24084 [07:29<00:00, 53.52it/s]\n",
      "100%|██████████| 2677/2677 [00:48<00:00, 55.39it/s]\n",
      "100%|██████████| 24084/24084 [07:26<00:00, 53.95it/s]\n",
      "100%|██████████| 2677/2677 [00:48<00:00, 55.38it/s]\n",
      "100%|██████████| 24084/24084 [07:27<00:00, 53.79it/s]\n",
      "100%|██████████| 2677/2677 [00:48<00:00, 55.13it/s]\n"
     ]
    }
   ],
   "source": [
    "w2 = SimpleWeights(np.random.normal(scale=.5, size=21), 'test')\n",
    "L2 = []\n",
    "av_L2 = []\n",
    "acc2 = []\n",
    "\n",
    "for i in range(5):\n",
    "    w2, l2 = train(train_data, w2, 0.001, 0.01)\n",
    "    L2.append(l2)\n",
    "    av_L2.append(sum(l2)/len(l2))\n",
    "    acc2.append(test(test_data, w2))"
   ]
  },
  {
   "cell_type": "code",
   "execution_count": 91,
   "metadata": {
    "collapsed": false,
    "scrolled": true
   },
   "outputs": [
    {
     "data": {
      "text/plain": [
       "[<matplotlib.lines.Line2D at 0x107b55e10>]"
      ]
     },
     "execution_count": 91,
     "metadata": {},
     "output_type": "execute_result"
    },
    {
     "data": {
      "image/png": "[encoded data removed]",
      "text/plain": [
       "<matplotlib.figure.Figure at 0x11e5a2f90>"
      ]
     },
     "metadata": {},
     "output_type": "display_data"
    }
   ],
   "source": [
    "plt.plot(av_L2)"
   ]
  },
  {
   "cell_type": "code",
   "execution_count": 92,
   "metadata": {
    "collapsed": false
   },
   "outputs": [
    {
     "name": "stderr",
     "output_type": "stream",
     "text": [
      "100%|██████████| 24084/24084 [08:10<00:00, 49.14it/s]\n",
      "100%|██████████| 2677/2677 [00:59<00:00, 44.88it/s]\n",
      "100%|██████████| 24084/24084 [07:50<00:00, 51.19it/s]\n",
      "100%|██████████| 2677/2677 [00:51<00:00, 51.50it/s]\n",
      "100%|██████████| 24084/24084 [07:59<00:00, 50.18it/s]\n",
      "100%|██████████| 2677/2677 [00:52<00:00, 51.43it/s]\n"
     ]
    }
   ],
   "source": [
    "w3 = SimpleWeights(w2.asList, 'test')\n",
    "L3 = []\n",
    "av_L3 = []\n",
    "acc3 = []\n",
    "for i in range(3):\n",
    "    w3, l3 = train(train_data, w3, 0.001, 0.01)\n",
    "    L3.append(l3)\n",
    "    av_L3.append(sum(l3)/len(l3))\n",
    "    acc3.append(test(test_data, w3))"
   ]
  },
  {
   "cell_type": "code",
   "execution_count": 94,
   "metadata": {
    "collapsed": false
   },
   "outputs": [
    {
     "data": {
      "text/plain": [
       "[<matplotlib.lines.Line2D at 0x107fe90d0>]"
      ]
     },
     "execution_count": 94,
     "metadata": {},
     "output_type": "execute_result"
    },
    {
     "data": {
      "image/png": "[encoded data removed]",
      "text/plain": [
       "<matplotlib.figure.Figure at 0x11e19dfd0>"
      ]
     },
     "metadata": {},
     "output_type": "display_data"
    }
   ],
   "source": [
    "plt.plot(acc2+acc3)"
   ]
  },
  {
   "cell_type": "code",
   "execution_count": 95,
   "metadata": {
    "collapsed": false
   },
   "outputs": [
    {
     "name": "stderr",
     "output_type": "stream",
     "text": [
      "100%|██████████| 24084/24084 [08:20<00:00, 48.17it/s]\n",
      "100%|██████████| 2677/2677 [00:52<00:00, 51.12it/s]\n",
      "100%|██████████| 24084/24084 [08:29<00:00, 47.29it/s]\n",
      "100%|██████████| 2677/2677 [00:57<00:00, 46.74it/s]\n",
      "100%|██████████| 24084/24084 [08:41<00:00, 46.16it/s]\n",
      "100%|██████████| 2677/2677 [00:54<00:00, 48.68it/s]\n"
     ]
    }
   ],
   "source": [
    "w4 = SimpleWeights(w2.asList, 'test')\n",
    "L4 = []\n",
    "av_L4 = []\n",
    "acc4 = []\n",
    "for i in range(3):\n",
    "    w4, l4 = train(train_data, w4, 0.01, 0.01)\n",
    "    L4.append(l4)\n",
    "    av_L4.append(sum(l4)/len(l4))\n",
    "    acc4.append(test(test_data, w4))"
   ]
  },
  {
   "cell_type": "code",
   "execution_count": 96,
   "metadata": {
    "collapsed": false
   },
   "outputs": [
    {
     "data": {
      "text/plain": [
       "[<matplotlib.lines.Line2D at 0x11ca7d5d0>]"
      ]
     },
     "execution_count": 96,
     "metadata": {},
     "output_type": "execute_result"
    },
    {
     "data": {
      "image/png": "[encoded data removed]",
      "text/plain": [
       "<matplotlib.figure.Figure at 0x11ce39ad0>"
      ]
     },
     "metadata": {},
     "output_type": "display_data"
    }
   ],
   "source": [
    "plt.plot(acc2+acc4)"
   ]
  },
  {
   "cell_type": "code",
   "execution_count": 102,
   "metadata": {
    "collapsed": false
   },
   "outputs": [
    {
     "name": "stderr",
     "output_type": "stream",
     "text": [
      "100%|██████████| 24084/24084 [08:48<00:00, 45.59it/s]\n",
      "100%|██████████| 2677/2677 [00:56<00:00, 47.68it/s]\n",
      "100%|██████████| 24084/24084 [08:22<00:00, 47.94it/s]\n",
      "100%|██████████| 2677/2677 [00:53<00:00, 49.96it/s]\n",
      "100%|██████████| 24084/24084 [08:16<00:00, 48.53it/s]\n",
      "100%|██████████| 2677/2677 [00:52<00:00, 50.75it/s]\n",
      "100%|██████████| 24084/24084 [08:26<00:00, 47.51it/s]\n",
      "100%|██████████| 2677/2677 [00:53<00:00, 49.96it/s]\n",
      "100%|██████████| 24084/24084 [08:27<00:00, 47.49it/s]\n",
      "100%|██████████| 2677/2677 [01:01<00:00, 43.77it/s]\n",
      "100%|██████████| 24084/24084 [08:36<00:00, 46.64it/s]\n",
      "100%|██████████| 2677/2677 [00:56<00:00, 47.38it/s]\n",
      "100%|██████████| 24084/24084 [08:26<00:00, 47.59it/s]\n",
      "100%|██████████| 2677/2677 [00:53<00:00, 49.90it/s]\n",
      "100%|██████████| 24084/24084 [08:52<00:00, 45.22it/s]\n",
      "100%|██████████| 2677/2677 [00:54<00:00, 49.49it/s]\n",
      "100%|██████████| 24084/24084 [08:18<00:00, 48.30it/s]\n",
      "100%|██████████| 2677/2677 [00:54<00:00, 49.07it/s]\n",
      "100%|██████████| 24084/24084 [08:16<00:00, 48.51it/s]\n",
      "100%|██████████| 2677/2677 [00:52<00:00, 51.35it/s]\n"
     ]
    }
   ],
   "source": [
    "w_alt = SimpleWeights(np.random.normal(scale=.5, size=21), 'test')\n",
    "L_alt = []\n",
    "av_L_alt = []\n",
    "acc_alt = []\n",
    "W = []\n",
    "for i in range(10):\n",
    "    w_alt, l_alt = train(train_data, w_alt, 0.001, 0.01)\n",
    "    W.append(w_alt.asList[:])\n",
    "    L_alt.append(l_alt)\n",
    "    av_L3.append(sum(l_alt)/len(l_alt))\n",
    "    acc_alt.append(test(test_data, w_alt))"
   ]
  },
  {
   "cell_type": "code",
   "execution_count": 107,
   "metadata": {
    "collapsed": false
   },
   "outputs": [
    {
     "data": {
      "text/plain": [
       "[<matplotlib.lines.Line2D at 0x11bcd2450>]"
      ]
     },
     "execution_count": 107,
     "metadata": {},
     "output_type": "execute_result"
    },
    {
     "data": {
      "image/png": "[encoded data removed]",
      "text/plain": [
       "<matplotlib.figure.Figure at 0x12b4c8490>"
      ]
     },
     "metadata": {},
     "output_type": "display_data"
    }
   ],
   "source": [
    "plt.plot(acc_alt)"
   ]
  },
  {
   "cell_type": "code",
   "execution_count": 104,
   "metadata": {
    "collapsed": true
   },
   "outputs": [],
   "source": [
    "w0 = SimpleWeights(np.random.normal(scale=.5, size=21), 'test')"
   ]
  },
  {
   "cell_type": "code",
   "execution_count": 105,
   "metadata": {
    "collapsed": false
   },
   "outputs": [
    {
     "name": "stderr",
     "output_type": "stream",
     "text": [
      "100%|██████████| 2677/2677 [00:52<00:00, 51.48it/s]\n"
     ]
    }
   ],
   "source": [
    "a0 = test(test_data, w0)"
   ]
  },
  {
   "cell_type": "code",
   "execution_count": 106,
   "metadata": {
    "collapsed": true
   },
   "outputs": [],
   "source": [
    "acc_alt.insert(0, a0)"
   ]
  },
  {
   "cell_type": "code",
   "execution_count": null,
   "metadata": {
    "collapsed": true
   },
   "outputs": [],
   "source": []
  }
 ],
 "metadata": {
  "kernelspec": {
   "display_name": "Python 2",
   "language": "python",
   "name": "python2"
  },
  "language_info": {
   "codemirror_mode": {
    "name": "ipython",
    "version": 2
   },
   "file_extension": ".py",
   "mimetype": "text/x-python",
   "name": "python",
   "nbconvert_exporter": "python",
   "pygments_lexer": "ipython2",
   "version": "2.7.12"
  }
 },
 "nbformat": 4,
 "nbformat_minor": 0
}
