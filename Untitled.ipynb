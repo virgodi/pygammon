{
 "cells": [
  {
   "cell_type": "code",
   "execution_count": 1,
   "metadata": {
    "collapsed": true
   },
   "outputs": [],
   "source": [
    "%load_ext autoreload\n",
    "%autoreload 2"
   ]
  },
  {
   "cell_type": "code",
   "execution_count": 2,
   "metadata": {
    "collapsed": true
   },
   "outputs": [],
   "source": [
    "import elements"
   ]
  },
  {
   "cell_type": "code",
   "execution_count": 6,
   "metadata": {
    "collapsed": true
   },
   "outputs": [],
   "source": [
    "black = 'b'\n",
    "white='w'"
   ]
  },
  {
   "cell_type": "code",
   "execution_count": 206,
   "metadata": {
    "collapsed": false
   },
   "outputs": [],
   "source": [
    "s = {}\n",
    "s[22] = [black, 2]\n",
    "s[21] = [black, 2]\n",
    "s[19] = [black, 2]\n",
    "s[18] = [black, 3]\n",
    "s[8] = [black, 2]\n",
    "s[2] = [black, 2]\n",
    "s[12] = [white, 5]\n",
    "s[6] = [white, 3]\n",
    "s[2] = [black, 2]\n",
    "s[1] = [black, 2]\n",
    "s[5] = [white, 5]\n",
    "s[6] = [white, 2]\n",
    "s[23] = [white, 2]\n",
    "saved = elements.Board(s)"
   ]
  },
  {
   "cell_type": "code",
   "execution_count": 4,
   "metadata": {
    "collapsed": true
   },
   "outputs": [],
   "source": [
    "s = {}\n",
    "s[23] = [black, 2]\n",
    "s[22] = [black, 2]\n",
    "s[21] = [black, 2]\n",
    "s[20] = [black, 2]\n",
    "s[19] = [black, 2]\n",
    "s[18] = [black, 3]\n",
    "s[0] = [black, 2]\n",
    "s[2] = [white, 1]\n",
    "s[4] = [white, 2]\n",
    "s[5] = [white, 1]\n",
    "saved = elements.Board(s)\n",
    "saved.home[white] = 11"
   ]
  },
  {
   "cell_type": "code",
   "execution_count": 5,
   "metadata": {
    "collapsed": false
   },
   "outputs": [
    {
     "data": {
      "text/plain": [
       "\n",
       " 12 13 14 15 16 17 18 19 20 21 22 23\n",
       "======================================\n",
       "|                 | x  x  x  x  x  x |\n",
       "|                 | x  x  x  x  x  x |\n",
       "|                 | x                |\n",
       "|                 |                  |\n",
       "|                 |                  |\n",
       "======================================\n",
       "|o 0           PRISON             0 x|\n",
       "======================================\n",
       "|                 |                  |\n",
       "|                 |                  |\n",
       "|                 |                  |\n",
       "|                 |    o           x |\n",
       "|                 | o  o     o     x |\n",
       "======================================\n",
       " 11 10 9  8  7  6   5  4  3  2  1  0\n",
       "             EATEN  11  "
      ]
     },
     "execution_count": 5,
     "metadata": {},
     "output_type": "execute_result"
    }
   ],
   "source": [
    "saved"
   ]
  },
  {
   "cell_type": "code",
   "execution_count": 15,
   "metadata": {
    "collapsed": false
   },
   "outputs": [
    {
     "data": {
      "text/plain": [
       "13"
      ]
     },
     "execution_count": 15,
     "metadata": {},
     "output_type": "execute_result"
    }
   ],
   "source": [
    "saved.safe_pieces(black)"
   ]
  },
  {
   "cell_type": "code",
   "execution_count": 217,
   "metadata": {
    "collapsed": false
   },
   "outputs": [],
   "source": [
    "t = elements.Turn(white, elements.Roll([3,2]))"
   ]
  },
  {
   "cell_type": "code",
   "execution_count": 218,
   "metadata": {
    "collapsed": false
   },
   "outputs": [
    {
     "data": {
      "text/plain": [
       "{2: [[4, 2], [5, 3]], 3: [[2, 'h'], [4, 1], [5, 2]]}"
      ]
     },
     "execution_count": 218,
     "metadata": {},
     "output_type": "execute_result"
    }
   ],
   "source": [
    "saved.possible_moves(t)"
   ]
  },
  {
   "cell_type": "code",
   "execution_count": 149,
   "metadata": {
    "collapsed": false
   },
   "outputs": [
    {
     "data": {
      "text/plain": [
       "\n",
       " 12 13 14 15 16 17 18 19 20 21 22 23\n",
       "======================================\n",
       "|o              o | x  x     x  x  o |\n",
       "|o                | x  x     x  x    |\n",
       "|o                | x                |\n",
       "|o                |                  |\n",
       "|o                |                  |\n",
       "======================================\n",
       "|o 0           PRISON             0 x|\n",
       "======================================\n",
       "|                 | x                |\n",
       "|                 | x                |\n",
       "|               o | x                |\n",
       "|         x     o | x        x       |\n",
       "|         x     o | x        x       |\n",
       "======================================\n",
       " 11 10 9  8  7  6   5  4  3  2  1  0"
      ]
     },
     "execution_count": 149,
     "metadata": {},
     "output_type": "execute_result"
    }
   ],
   "source": [
    "saved.move(white, 23, 17)"
   ]
  },
  {
   "cell_type": "code",
   "execution_count": 150,
   "metadata": {
    "collapsed": true
   },
   "outputs": [],
   "source": [
    "t.roll.use(6)"
   ]
  },
  {
   "cell_type": "code",
   "execution_count": 142,
   "metadata": {
    "collapsed": false
   },
   "outputs": [
    {
     "data": {
      "text/plain": [
       "Player: w, Roll: [4]"
      ]
     },
     "execution_count": 142,
     "metadata": {},
     "output_type": "execute_result"
    }
   ],
   "source": [
    "t"
   ]
  },
  {
   "cell_type": "code",
   "execution_count": 145,
   "metadata": {
    "collapsed": false
   },
   "outputs": [
    {
     "data": {
      "text/plain": [
       "{4: [[17, 13]]}"
      ]
     },
     "execution_count": 145,
     "metadata": {},
     "output_type": "execute_result"
    }
   ],
   "source": [
    "saved.move(white, 23, 17).possible_moves(t)"
   ]
  },
  {
   "cell_type": "code",
   "execution_count": null,
   "metadata": {
    "collapsed": true
   },
   "outputs": [],
   "source": []
  }
 ],
 "metadata": {
  "kernelspec": {
   "display_name": "Python 2",
   "language": "python",
   "name": "python2"
  },
  "language_info": {
   "codemirror_mode": {
    "name": "ipython",
    "version": 2
   },
   "file_extension": ".py",
   "mimetype": "text/x-python",
   "name": "python",
   "nbconvert_exporter": "python",
   "pygments_lexer": "ipython2",
   "version": "2.7.12"
  }
 },
 "nbformat": 4,
 "nbformat_minor": 0
}
